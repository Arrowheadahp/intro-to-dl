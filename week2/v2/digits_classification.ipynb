{
 "cells": [
  {
   "cell_type": "code",
   "execution_count": 1,
   "metadata": {},
   "outputs": [],
   "source": [
    "# set tf 1.x for colab\n",
    "# %tensorflow_version 1.x"
   ]
  },
  {
   "cell_type": "markdown",
   "metadata": {
    "slideshow": {
     "slide_type": "slide"
    }
   },
   "source": [
    "# MNIST digits classification with TensorFlow"
   ]
  },
  {
   "cell_type": "markdown",
   "metadata": {},
   "source": [
    "<img src=\"images/mnist_sample.png\" style=\"width:30%\">"
   ]
  },
  {
   "cell_type": "code",
   "execution_count": 2,
   "metadata": {},
   "outputs": [
    {
     "name": "stdout",
     "output_type": "stream",
     "text": [
      "We're using TF 1.15.3\n"
     ]
    },
    {
     "name": "stderr",
     "output_type": "stream",
     "text": [
      "Using TensorFlow backend.\n"
     ]
    }
   ],
   "source": [
    "import numpy as np\n",
    "from sklearn.metrics import accuracy_score\n",
    "from matplotlib import pyplot as plt\n",
    "%matplotlib inline\n",
    "import tensorflow as tf\n",
    "print(\"We're using TF\", tf.__version__)\n",
    "\n",
    "import sys\n",
    "sys.path.append(\"../..\")\n",
    "import grading\n",
    "\n",
    "import matplotlib_utils\n",
    "from importlib import reload\n",
    "reload(matplotlib_utils)\n",
    "\n",
    "import grading_utils\n",
    "reload(grading_utils)\n",
    "\n",
    "import keras_utils\n",
    "from keras_utils import reset_tf_session"
   ]
  },
  {
   "cell_type": "markdown",
   "metadata": {},
   "source": [
    "# Fill in your Coursera token and email\n",
    "To successfully submit your answers to our grader, please fill in your Coursera submission token and email"
   ]
  },
  {
   "cell_type": "code",
   "execution_count": 3,
   "metadata": {},
   "outputs": [],
   "source": [
    "grader = grading.Grader(assignment_key=\"XtD7ho3TEeiHQBLWejjYAA\", \n",
    "                        all_parts=[\"9XaAS\", \"vmogZ\", \"RMv95\", \"i8bgs\", \"rE763\"])"
   ]
  },
  {
   "cell_type": "code",
   "execution_count": 4,
   "metadata": {},
   "outputs": [],
   "source": [
    "# token expires every 30 min\n",
    "COURSERA_TOKEN = \"0hBF0KWX98q9gXP3\"\n",
    "COURSERA_EMAIL = \"pkb18u10079@btech.nitdgp.ac.in\""
   ]
  },
  {
   "cell_type": "markdown",
   "metadata": {},
   "source": [
    "# Look at the data\n",
    "\n",
    "In this task we have 50000 28x28 images of digits from 0 to 9.\n",
    "We will train a classifier on this data."
   ]
  },
  {
   "cell_type": "code",
   "execution_count": 5,
   "metadata": {},
   "outputs": [],
   "source": [
    "import preprocessed_mnist\n",
    "X_train, y_train, X_val, y_val, X_test, y_test = preprocessed_mnist.load_dataset()"
   ]
  },
  {
   "cell_type": "code",
   "execution_count": 6,
   "metadata": {},
   "outputs": [
    {
     "name": "stdout",
     "output_type": "stream",
     "text": [
      "X_train [shape (50000, 28, 28)] sample patch:\n",
      " [[0.         0.29803922 0.96470588 0.98823529 0.43921569]\n",
      " [0.         0.33333333 0.98823529 0.90196078 0.09803922]\n",
      " [0.         0.33333333 0.98823529 0.8745098  0.        ]\n",
      " [0.         0.33333333 0.98823529 0.56862745 0.        ]\n",
      " [0.         0.3372549  0.99215686 0.88235294 0.        ]]\n",
      "A closeup of a sample patch:\n"
     ]
    },
    {
     "data": {
      "image/png": "[encoded data removed]",
      "text/plain": [
       "<Figure size 432x288 with 1 Axes>"
      ]
     },
     "metadata": {
      "needs_background": "light"
     },
     "output_type": "display_data"
    },
    {
     "name": "stdout",
     "output_type": "stream",
     "text": [
      "And the whole sample:\n"
     ]
    },
    {
     "data": {
      "image/png": "[encoded data removed]",
      "text/plain": [
       "<Figure size 432x288 with 1 Axes>"
      ]
     },
     "metadata": {
      "needs_background": "light"
     },
     "output_type": "display_data"
    },
    {
     "name": "stdout",
     "output_type": "stream",
     "text": [
      "y_train [shape (50000,)] 10 samples:\n",
      " [5 0 4 1 9 2 1 3 1 4]\n"
     ]
    }
   ],
   "source": [
    "# X contains rgb values divided by 255\n",
    "print(\"X_train [shape %s] sample patch:\\n\" % (str(X_train.shape)), X_train[1, 15:20, 5:10])\n",
    "print(\"A closeup of a sample patch:\")\n",
    "plt.imshow(X_train[1, 15:20, 5:10], cmap=\"Greys\")\n",
    "plt.show()\n",
    "print(\"And the whole sample:\")\n",
    "plt.imshow(X_train[1], cmap=\"Greys\")\n",
    "plt.show()\n",
    "print(\"y_train [shape %s] 10 samples:\\n\" % (str(y_train.shape)), y_train[:10])"
   ]
  },
  {
   "cell_type": "markdown",
   "metadata": {},
   "source": [
    "# Linear model\n",
    "\n",
    "Your task is to train a linear classifier $\\vec{x} \\rightarrow y$ with SGD using TensorFlow.\n",
    "\n",
    "You will need to calculate a logit (a linear transformation) $z_k$ for each class: \n",
    "$$z_k = \\vec{x} \\cdot \\vec{w_k} + b_k \\quad k = 0..9$$\n",
    "\n",
    "And transform logits $z_k$ to valid probabilities $p_k$ with softmax: \n",
    "$$p_k = \\frac{e^{z_k}}{\\sum_{i=0}^{9}{e^{z_i}}} \\quad k = 0..9$$\n",
    "\n",
    "We will use a cross-entropy loss to train our multi-class classifier:\n",
    "$$\\text{cross-entropy}(y, p) = -\\sum_{k=0}^{9}{\\log(p_k)[y = k]}$$ \n",
    "\n",
    "where \n",
    "$$\n",
    "[x]=\\begin{cases}\n",
    "       1, \\quad \\text{if $x$ is true} \\\\\n",
    "       0, \\quad \\text{otherwise}\n",
    "    \\end{cases}\n",
    "$$\n",
    "\n",
    "Cross-entropy minimization pushes $p_k$ close to 1 when $y = k$, which is what we want.\n",
    "\n",
    "Here's the plan:\n",
    "* Flatten the images (28x28 -> 784) with `X_train.reshape((X_train.shape[0], -1))` to simplify our linear model implementation\n",
    "* Use a matrix placeholder for flattened `X_train`\n",
    "* Convert `y_train` to one-hot encoded vectors that are needed for cross-entropy\n",
    "* Use a shared variable `W` for all weights (a column $\\vec{w_k}$ per class) and `b` for all biases.\n",
    "* Aim for ~0.93 validation accuracy"
   ]
  },
  {
   "cell_type": "code",
   "execution_count": 7,
   "metadata": {},
   "outputs": [
    {
     "name": "stdout",
     "output_type": "stream",
     "text": [
      "(50000, 784)\n",
      "(10000, 784)\n"
     ]
    }
   ],
   "source": [
    "X_train_flat = X_train.reshape((X_train.shape[0], -1))\n",
    "print(X_train_flat.shape)\n",
    "\n",
    "X_val_flat = X_val.reshape((X_val.shape[0], -1))\n",
    "print(X_val_flat.shape)"
   ]
  },
  {
   "cell_type": "code",
   "execution_count": 8,
   "metadata": {},
   "outputs": [
    {
     "name": "stdout",
     "output_type": "stream",
     "text": [
      "(50000, 10)\n",
      "[[0. 0. 0. 0. 0. 1. 0. 0. 0. 0.]\n",
      " [1. 0. 0. 0. 0. 0. 0. 0. 0. 0.]\n",
      " [0. 0. 0. 0. 1. 0. 0. 0. 0. 0.]] [5 0 4]\n"
     ]
    }
   ],
   "source": [
    "import keras\n",
    "\n",
    "y_train_oh = keras.utils.to_categorical(y_train, 10)\n",
    "y_val_oh = keras.utils.to_categorical(y_val, 10)\n",
    "\n",
    "print(y_train_oh.shape)\n",
    "print(y_train_oh[:3], y_train[:3])"
   ]
  },
  {
   "cell_type": "code",
   "execution_count": 9,
   "metadata": {},
   "outputs": [
    {
     "name": "stdout",
     "output_type": "stream",
     "text": [
      "WARNING:tensorflow:From ../..\\keras_utils.py:68: The name tf.get_default_session is deprecated. Please use tf.compat.v1.get_default_session instead.\n",
      "\n",
      "WARNING:tensorflow:From c:\\users\\prasu\\desktop\\reposi~1\\course~1\\advanc~1\\enviro~1\\lib\\site-packages\\keras\\backend\\tensorflow_backend.py:79: The name tf.reset_default_graph is deprecated. Please use tf.compat.v1.reset_default_graph instead.\n",
      "\n",
      "WARNING:tensorflow:From c:\\users\\prasu\\desktop\\reposi~1\\course~1\\advanc~1\\enviro~1\\lib\\site-packages\\keras\\backend\\tensorflow_backend.py:82: The name tf.placeholder is deprecated. Please use tf.compat.v1.placeholder instead.\n",
      "\n",
      "WARNING:tensorflow:From c:\\users\\prasu\\desktop\\reposi~1\\course~1\\advanc~1\\enviro~1\\lib\\site-packages\\keras\\backend\\tensorflow_backend.py:84: The name tf.get_default_graph is deprecated. Please use tf.compat.v1.get_default_graph instead.\n",
      "\n",
      "WARNING:tensorflow:From ../..\\keras_utils.py:75: The name tf.ConfigProto is deprecated. Please use tf.compat.v1.ConfigProto instead.\n",
      "\n",
      "WARNING:tensorflow:From ../..\\keras_utils.py:77: The name tf.InteractiveSession is deprecated. Please use tf.compat.v1.InteractiveSession instead.\n",
      "\n"
     ]
    }
   ],
   "source": [
    "# run this again if you remake your graph\n",
    "s = reset_tf_session()"
   ]
  },
  {
   "cell_type": "code",
   "execution_count": 10,
   "metadata": {},
   "outputs": [],
   "source": [
    "# Model parameters: W and b\n",
    "W = tf.get_variable('W', shape= (784, 10), dtype=tf.float32, trainable=True)\n",
    "### YOUR CODE HERE ### tf.get_variable(...) with shape[0] = 784\n",
    "b = tf.get_variable('b', shape= (10), dtype=tf.float32, trainable=True)\n",
    "### YOUR CODE HERE ### tf.get_variable(...)"
   ]
  },
  {
   "cell_type": "code",
   "execution_count": 11,
   "metadata": {},
   "outputs": [],
   "source": [
    "# Placeholders for the input data\n",
    "input_X = tf.placeholder(np.float32, shape= (None, 784))\n",
    "### YOUR CODE HERE ### tf.placeholder(...) for flat X with shape[0] = None for any batch size\n",
    "input_y = tf.placeholder(np.float32, shape= (None, 10))\n",
    "### YOUR CODE HERE ### tf.placeholder(...) for one-hot encoded true labels"
   ]
  },
  {
   "cell_type": "code",
   "execution_count": 12,
   "metadata": {},
   "outputs": [
    {
     "name": "stdout",
     "output_type": "stream",
     "text": [
      "WARNING:tensorflow:From <ipython-input-12-956db473c3a9>:12: softmax_cross_entropy_with_logits (from tensorflow.python.ops.nn_ops) is deprecated and will be removed in a future version.\n",
      "Instructions for updating:\n",
      "\n",
      "Future major versions of TensorFlow will allow gradients to flow\n",
      "into the labels input on backprop by default.\n",
      "\n",
      "See `tf.nn.softmax_cross_entropy_with_logits_v2`.\n",
      "\n"
     ]
    }
   ],
   "source": [
    "# Compute predictions\n",
    "logits = input_X @ W + b\n",
    "### YOUR CODE HERE ### logits for input_X, resulting shape should be [input_X.shape[0], 10]\n",
    "probas = tf.nn.softmax(logits)\n",
    "### YOUR CODE HERE ### apply tf.nn.softmax to logits\n",
    "classes = tf.argmax(probas, axis= 1)\n",
    "### YOUR CODE HERE ### apply tf.argmax to find a class index with highest probability\n",
    "\n",
    "# Loss should be a scalar number: average loss over all the objects with tf.reduce_mean().\n",
    "# Use tf.nn.softmax_cross_entropy_with_logits on top of one-hot encoded input_y and logits.\n",
    "# It is identical to calculating cross-entropy on top of probas, but is more numerically friendly (read the docs).\n",
    "loss = tf.nn.softmax_cross_entropy_with_logits(logits= logits, labels= input_y)\n",
    "### YOUR CODE HERE ### cross-entropy loss\n",
    "\n",
    "# Use a default tf.train.AdamOptimizer to get an SGD step\n",
    "step = tf.train.AdamOptimizer().minimize(loss)\n",
    "### YOUR CODE HERE ### optimizer step that minimizes the loss"
   ]
  },
  {
   "cell_type": "code",
   "execution_count": 13,
   "metadata": {},
   "outputs": [
    {
     "name": "stdout",
     "output_type": "stream",
     "text": [
      "(784, 10)\n",
      "(10,)\n",
      "(?, 784)\n",
      "(?, 10)\n",
      "(?, 10)\n",
      "(?, 10)\n",
      "(?,)\n"
     ]
    }
   ],
   "source": [
    "for arr in [W, b, input_X, input_y, logits, probas, classes]:\n",
    "    print (arr.shape)"
   ]
  },
  {
   "cell_type": "code",
   "execution_count": 14,
   "metadata": {
    "scrolled": false
   },
   "outputs": [
    {
     "data": {
      "text/html": [
       "<img src=\"data:image/jpeg;base64,/9j/4AAQSkZJRgABAQEASABIAAD/2wBDAAIBAQEBAQIBAQECAgICAgQDAgICAgUEBAMEBgUGBgYFBgYGBwkIBgcJBwYGCAsICQoKCgoKBggLDAsKDAkKCgr/2wBDAQICAgICAgUDAwUKBwYHCgoKCgoKCgoKCgoKCgoKCgoKCgoKCgoKCgoKCgoKCgoKCgoKCgoKCgoKCgoKCgoKCgr/wAARCAEgA2ADASIAAhEBAxEB/8QAHwAAAQUBAQEBAQEAAAAAAAAAAAECAwQFBgcICQoL/8QAtRAAAgEDAwIEAwUFBAQAAAF9AQIDAAQRBRIhMUEGE1FhByJxFDKBkaEII0KxwRVS0fAkM2JyggkKFhcYGRolJicoKSo0NTY3ODk6Q0RFRkdISUpTVFVWV1hZWmNkZWZnaGlqc3R1dnd4eXqDhIWGh4iJipKTlJWWl5iZmqKjpKWmp6ipqrKztLW2t7i5usLDxMXGx8jJytLT1NXW19jZ2uHi4%2BTl5ufo6erx8vP09fb3%2BPn6/8QAHwEAAwEBAQEBAQEBAQAAAAAAAAECAwQFBgcICQoL/8QAtREAAgECBAQDBAcFBAQAAQJ3AAECAxEEBSExBhJBUQdhcRMiMoEIFEKRobHBCSMzUvAVYnLRChYkNOEl8RcYGRomJygpKjU2Nzg5OkNERUZHSElKU1RVVldYWVpjZGVmZ2hpanN0dXZ3eHl6goOEhYaHiImKkpOUlZaXmJmaoqOkpaanqKmqsrO0tba3uLm6wsPExcbHyMnK0tPU1dbX2Nna4uPk5ebn6Onq8vP09fb3%2BPn6/9oADAMBAAIRAxEAPwD9/KKKKACiiigAooooAKKKKACiiigAooooAKKKKACiiigAooooAKKKKACiiigAooooAKKKKACiiigAooooAKKKKACiiigAooooAKKKKACiiigAooooAKKKKACiiigAooooAKKKKACiiigAooooAKKKKACiiigAooooAKKKKACiiigAooooAKKKKACiiigAooooAKKKKACiiigAooooAKKKKACiiigAooooAKKKKACiiigAooooAKKKKACiiigAooooAKKKKACiiigAooooAKKKKACiiigAooooAKKKKACiiigAooooAKKKKACiiigAooooAKKKKACiiigAooooAKKKKACiiigAooooAKKKKACuN%2BOP7QHwm/Zx8JW/jT4veJ5dPtL7U4dN0u2stLub%2B91K9lDGO1tLO0jluLudlR2EUMbvtR2xhWI7KvFv2u/gP8VPiX4h%2BGfxl%2BBd14fl8X/CrxjPrWmaJ4tu57bTdYhudLvdMubaW4ghmktH8q9aSOdYZtrR7TGyu2ACjpH/AAUr/Y71rxm3w8tvHviCDW7fSodU1bTtR%2BHOvWkmi2EhuAt3qXn2SDTIAbWcNLdmFEKYYqWUGbwn/wAFH/2NfGfg/wAQ%2BOtM%2BLFza6f4Y0e11fVBrnhPVdMuJNPuXMdreWtvd2sU19bzyAxwy2ySpM5CRlmIB86vP2GPjP8AHW0/aRP7Qt74V8My/tB/CPTvBskfgrWLrUzo7RWusWsr%2BbcWtqZ1VNRiZDsXeyygogxuy9Y/Y2/at%2BM%2Btaz8UP2lPh38G9X1e0%2BE6eBtB8E6d4n1QaRrSy6jaXt5fXd2bBJ9PYmyg%2BzxQw3BtnDP50hIwAeyX/7fP7N2k%2BAbH4h6tdeOLSHVPED6Jpeh3Xwj8SR67e3yW5uXjh0dtPGoShYAZTIluUCKzFsA49P8JeOfDfjbwTY/EPRbi5i0rULBbyCTVNPnsZY4iu7MsFykcsDAfeSRVZSCGAIIr41tv2Gf2tJfgpJ4W8feGPCnjS%2Bh%2BIcut%2BC9B1n9ofxXb3fgOxOmxWoi0/xbHp7atcSGUXcreZDGBHeGENsjGfUvB/7Bmq%2BKfgJo3hb9pz46%2BOPEfj5PhtdeFtf8Q6T8Q9at9Muhc2tzbyTPpa3SWN5MiXTBbq4tmmdoopWKuibADc8Mf8FJP2MvF/h7xJ4s0b4tXK6Z4W8GXni6/vr7wlqtpFe6BaruuNU09p7VBqtogK5nsvPQmSMAkyIG4n40f8FdP2YfAf7M/wATf2gfhW%2Bs%2BM7v4b%2BDYfEjeGW8L6xps2r2Nw7R2t3avNYFrixlkRh9vgjmtkVWdnCqSPHfC/8AwSh%2BNC/BPxf8LPFnh3w9J4h/4UL4j8A%2BC/Hmo/tD%2BNvECSXGpWEdp5h0jVUkttGtpDDE8scEl0yeVGqFggz6P%2B1L/wAE5vih%2B0BYeKtE0Pxj4d0q2179le%2B%2BGlrLM87GDVpLiOWGdo1iANqNhBIbzBnhO9AHqkv/AAUU/ZZt/E3hrwJeav41tvEni7TpdQ0HwpefCTxLDq8tnFd/Y5LmSwk08XNvCkxG6SaNEVGWUkRsrmXwN/wUT/Y7%2BJGqarpXhD4tyXB0rQ9Q1lbufw1qVvaapp1iwS8u9NuZrdYdVhhYqHeyedVLqCfmGcXwR8APjz4x/apsf2oPjn4f8HeH5JPg5f8Ag/VNE8J%2BK7vVTBcy6tHcpJDcz6fZl4mgiUsTGjJIdoV1USHwGb9hz9pf4bfs8%2BF/Cnxo1rwIPCP7N3wP8SaB4L1PwrfXcmpeKd2hHTLe4vbeW2ii04JZozSQxS3QknZXDxqgQgH0D4U/4Kl/sL%2BNPBus/ELQ/jLdrouheDj4tutRv/BmsWcdzoIKB9Vs/PtEN/ZxmRBJPbCWOLcPMZc167a/GD4c3vxcuPgVZ%2BIxN4qtPDUGv3emRWsrCHTp55beGd5QnlL5ksE6ohfe3kyEKQjEfFX7I/7P3xC8WfBL4Q/Hb9t/Uvhlovww%2BG/7L9z4fgk07W5wmr6bqmnaWby%2B1X7VBDDpkEVppyq0CS3CZleRplWNVrsP%2BCK3wr8d6P8As76n8evit4tbxFrHjW%2Bg03w54hlgaOS%2B8I6JF/ZWiXBD8/6VDDNqhPd9WcgKCFAB9lUUUUAFFFFABRRRQAUUUUAFFFFABRRRQAUUUUAFFFFABRRRQAUUUUAFFFFABRRRQAUUUUAFFFFABRRRQAUUUUAFFFFABRRRQAV4jpH/AAUY/Y91K716z1P4pXnh5vDnhy58QahJ418I6roMc2k27pHPf2smpWsC31ujyRK0tsZUBljGcuufab2K5ms5YbO6EEzxMsUxj3%2BWxHDbT1wecd6/MTV/%2BCOX7cvxf1bwvrnxu%2BOOhvrfhrwfqFnqHijUPit4m8TjxDrf2zSr611E6XfRQ2Wk20lzpi%2BfYWQCiOTassgVAoB9sv8At/8A7MNr8NG%2BLGseIPFWlaW2uQaNY2eufDLX7DVNTv5kMkMFlptxYpe37SIGdfs8MgZUdgSEYjovAf7VnwP%2BI%2Bv2XhPw54h1SHV7/wAKT%2BJIdI1rwrqWmXaabDd/ZJZZYby3ikgdZ/kMMirL32bea8m%2BJ3wc/bd%2BMTfD342654N%2BFWh/EP4UeOptY8P%2BGbXxxqV/ouuWdxpN3plzHcXz6VDNYzFL2SSN0tbgRmIKfMEjYq/En4Dftwa/8ZfDv7TXgfRvhXaeLL74Yar4L8Y6FqXivUpLDSFuL%2BG6tb%2ByuE04SagYhG6yW8sVoJS4xLFjkA7jSf8Ago3%2ByB4j17wL4W8K/EbVdZ1P4k%2BDdK8W%2BDdO0TwPrN7PeaHqL7LXUZEgtGa1t92PMknEa24ZTN5QYE7Hw1/bc/Zu%2BK/xGufhP4Z8X6tZ6/b6Xc6nDZeJ/BmraIt/Y28iRz3dlLqNrBHfwRvLEHltmkRfMQkgMpPlH7Cn7CXxY/Zh1/4caz488QeGrs%2BDv2UvCPwxv30i5nlZtW0t5muZovMgj3Wrb02MxV22/NGmBXjXw0/4JV/tjeJ/ij4X8TftTfGGz1SLT/AHivwv408TQfF/xJrV54il1exS2/tO10y%2Bhj0/QjlSxtLRSi5UCZxGq0AfUvhP/gov%2ByP410WPxVoPjvXP7DuNV0vT9P8AEt78P9btdK1GXUr2OyspLS%2Bns0tryCW5mijFxBI8IMqFnCsCfS/C3xd%2BHnjX4geKfhd4X8Q/a9c8FyWcfie0S0mC2Ml1B9ogjMrII3doSshRGZkWSMsFEibvmHxx4E%2BIvhX/AIJ7eNPgR/wUM8T/AAq8EeAtB%2BGkWgW3xM8O%2BLbsM06RpbWupPaXVnAmmzLMLeSGCO4umM5REcnaG7X/AIJX/D74seG/2RNK%2BKv7RVglv8TvixfS%2BOviJCtu0X2e/v1jMNpsb5k%2By2MdlZ7TkgWuDQB9G0UUUAFFFFABRRRQAUUUUAFFFFABRRRQAUUUUAFFFFABRRRQAUUUUAFFFFABRRRQAUUUUAFFFFABRRRQAUUUUAFFFFABRRRQAUUUUAFeL/Hrx/8AtF/8NF%2BBfgR8BfGfgrw%2Bmv8AgrxLr2r6n4v8F3etEnTrvQ7eGGGO31Kx8sN/akrMzM%2BfLQALyT7RXhXxF1pLL/gpV8IdFkUYvfgn8Q2Rs87o9W8GnH5Mx/Ck2ktS4QlUdo9m/uV3%2BCL/APwg/wDwUL/6Og%2BDP/hh9W/%2Baij/AIQf/goX/wBHQfBn/wAMPq3/AM1FezUUyDxn/hB/%2BChf/R0HwZ/8MPq3/wA1FH/CD/8ABQv/AKOg%2BDP/AIYfVv8A5qK9mooA8Z/4Qf8A4KF/9HQfBn/ww%2Brf/NRR/wAIP/wUL/6Og%2BDP/hh9W/8Amor2aigDxn/hB/8AgoX/ANHQfBn/AMMPq3/zUUf8IP8A8FC/%2BjoPgz/4YfVv/mor2aigDxn/AIQf/goX/wBHQfBn/wAMPq3/AM1FH/CD/wDBQv8A6Og%2BDP8A4YfVv/mor2aigDxn/hB/%2BChf/R0HwZ/8MPq3/wA1FH/CD/8ABQv/AKOg%2BDP/AIYfVv8A5qK9mooA8Z/4Qf8A4KF/9HQfBn/ww%2Brf/NRR/wAIP/wUL/6Og%2BDP/hh9W/8Amor2aigDxn/hB/8AgoX/ANHQfBn/AMMPq3/zUUf8IP8A8FC/%2BjoPgz/4YfVv/mor1TxjPNa%2BEdVuraVkkj02do3U4KsI2II9815z43/aA/Ya%2BFvie58B/Ev44fCnw/rdgIxe6Rr/AIn021vIN8ayJ5kc0gdSyOrgsOVYHkEGs6talRjzVJKK83Y7MFl2YZnVdLB0ZVJJXahFydtFeyTdrtK/mij/AMIP/wAFC/8Ao6D4M/8Ahh9W/wDmoo/4Qf8A4KF/9HQfBn/ww%2Brf/NRVf/hr/wD4Jwf9HRfBH/wttH/%2BO0f8Nf8A/BOD/o6L4I/%2BFto//wAdrD6/gf8An7H/AMCX%2BZ6n%2BqfFX/QBW/8ABU//AJEsf8IP/wAFC/8Ao6D4M/8Ahh9W/wDmoo/4Qf8A4KF/9HQfBn/ww%2Brf/NRXoXivSPh94Q8Lal4s1DwPaTW%2Bl6fNdzxWWifaJnSNC7LHFFGzyOQpARFZmOAASQK8K%2BBn7fH7HXxu8L/DC%2BtfAuvaVr/xV8OW%2Bs%2BH/Ct58KdXa6W3f7Gss7lbDaLSKS%2Bt0a%2BJFqQ%2B8S7MsOs%2BfOz/AOEH/wCChf8A0dB8Gf8Aww%2Brf/NRR/wg/wDwUL/6Og%2BDP/hh9W/%2Baisqf9q/9li90PUNQ0DRYbW90nXvDmnajpfjTwLq2gXEa6zqsWm2c6w3WnefJHLM8iRSrEYHliZHmhVZJY7Hw8/a3/Yh%2BKXje9%2BH/hDW7E31g2tLLc6n4LvbCwlfSLs2mppDe3VrHbXDW0ylZVilcoBvI2fNQBd/4Qf/AIKF/wDR0HwZ/wDDD6t/81FH/CD/APBQv/o6D4M/%2BGH1b/5qKn/aE%2BJngr4RfDnRPFHw/wDhX4f8W6x4v8Q6bong3TftMVpaahdXrjZJJdpDN5VukIluHkSOVvLibYjsVUxfBL4i2Xxs%2BB2r%2BPdM%2BAmh2fi/Q9S1rRdR8ISX0bW41nTrme1eBL37Ou63lkhVo7gwq3lTI7RK26MADf8AhB/%2BChf/AEdB8Gf/AAw%2Brf8AzUUf8IP/AMFC/wDo6D4M/wDhh9W/%2BaivHPib%2B3gfgx8PvGt78Uv2avhpo/inwN8QPDXhnWEufiMI/DUK6ybUxXUuryaUkkAhjuQ8sb2YKjYQSsqvWh8Yf209N%2BFusfCHwinw1%2BAbaj8VvDmsarbaxrvxlGn%2BHw1lPpkUVtY6h/Y8rajLcDU1dAIIeIJMbuKAPU/%2BEH/4KF/9HQfBn/ww%2Brf/ADUUf8IP/wAFC/8Ao6D4M/8Ahh9W/wDmorzP4k/tyeA/h/8AtoWf7Iy/ArwhcXFxr2j6WkF14lit/EOoLfw%2BadS07SDZt9u022G4XF19oj8r7NdfI3kgPu%2BC/wBqXw/8Vv2h/iR8B/hX%2Bzx4fu4PBfhYX%2Bg%2BKtY1ZLSy1%2B/S7ubO6thstJmt7eC6tnga5xIxkinAhIjVpQDr/wDhB/8AgoX/ANHQfBn/AMMPq3/zUUf8IP8A8FC/%2BjoPgz/4YfVv/morwd/%2BCmHw6j%2BCMvxWf4Q/CbyYfisvgh/GK/E2I%2BAlY6UdR/tBvEf9m8WwYf2eW%2BycagVts8%2BZW/44/bC%2BI%2Bn/ALL3gb9qr4cfsW%2BA9V0nxnDolvBomvePZdO1GTUtU1CKxtYLRItFuI7qB2nhlS4eSHdE5do4wpNAHrP/AAg//BQv/o6D4M/%2BGH1b/wCaij/hB/8AgoX/ANHQfBn/AMMPq3/zUVz3jX4tfEfwP%2B1p4H/Z7vP2Wfh3eaF47u9Vex1%2Bx8bTNqVlp1hZedNf3Gnto6xKguJLO1KrdsQ97EckZA4LxH%2B2f47%2BF/iL4j%2BGPjD%2Bxx8PYJvAGg%2BG7gXfhP4hSahaz6lrmpvp9jY3Et1o1n9kVSizzzASiGCWNyjbgKAPXv8AhB/%2BChf/AEdB8Gf/AAw%2Brf8AzUUf8IP/AMFC/wDo6D4M/wDhh9W/%2BaiuO8IfHj4g/Erwx4s0/wCHX7Lvwwu/Gvw68bzeG/iDpOo/EZrfR9PlTTrXUVkg1FNIkkuN1vfWuVe1h2OZUYjystzPjf8Abw8IeGPhD8If2gNO%2BA3gQ%2BG/i1o%2BiXmk%2BH9c8ZR2Piu7m1BoM2mmaWthLHqksUdzFIwW5iyMkYXDEA9X/wCEH/4KF/8AR0HwZ/8ADD6t/wDNRR/wg/8AwUL/AOjoPgz/AOGH1b/5qK4j4N/tXeG/i7%2B0l8SPgba/Cn4WwwfDnV72xurCy8fJdeKrtYIIJVuRog05RHBI04jVzdHlehzgcj%2Byx/wUj%2BCvx98GeM/iF4v%2BEXg3S9I8H%2BEdL168ufBniOPxC1tJetcKuh3iCzt2tdcjeBEfTlEzB7iJQ5Z1BAPZf%2BEH/wCChf8A0dB8Gf8Aww%2Brf/NRVDwP44/as8HftWeHPgj8bviP8PfE2jeJvh74h1yGbwr8PL7Rbq0utNvtEt0VnuNXvkljdNUlJUIjBokIbGQV/Zm%2BK1v%2B0d%2ByyfjnrfwPsfAmvLe%2BILC70G3vor19Nu9L1O9099t1HFEHJezL5VQBuwCwG43vHH/KQv4X/wDZGfHn/p28IUAezUUUUAFFFFABRRRQAV84/CbxV%2B3f8ddH17x34X%2BN/wAJNA0u3%2BIXirQ9L0q/%2BD%2BqX9xFa6Xr1/pkLS3CeIoFlkeOzV2ZYo13OQFAAr6Orxn9g/8A5Ihrn/ZZviP/AOprrdAB/wAIP/wUL/6Og%2BDP/hh9W/8Amoo/4Qf/AIKF/wDR0HwZ/wDDD6t/81FezUUAeM/8IP8A8FC/%2BjoPgz/4YfVv/moo/wCEH/4KF/8AR0HwZ/8ADD6t/wDNRXs1FAHjP/CD/wDBQv8A6Og%2BDP8A4YfVv/moo/4Qf/goX/0dB8Gf/DD6t/8ANRXs1FAHjP8Awg//AAUL/wCjoPgz/wCGH1b/AOaij/hB/wDgoX/0dB8Gf/DD6t/81FezUUAeM/8ACD/8FC/%2BjoPgz/4YfVv/AJqKP%2BEH/wCChf8A0dB8Gf8Aww%2Brf/NRXs1FAHjP/CD/APBQv/o6D4M/%2BGH1b/5qKP8AhB/%2BChf/AEdB8Gf/AAw%2Brf8AzUV7NRQB4z/wg/8AwUL/AOjoPgz/AOGH1b/5qKP%2BEH/4KF/9HQfBn/ww%2Brf/ADUV7NRQB4z/AMIP/wAFC/8Ao6D4M/8Ahh9W/wDmoo/4Qf8A4KF/9HQfBn/ww%2Brf/NRXs1FAHjP/AAg//BQv/o6D4M/%2BGH1b/wCaij/hB/8AgoX/ANHQfBn/AMMPq3/zUV7NRQB4z/wg/wDwUL/6Og%2BDP/hh9W/%2Baij/AIQf/goX/wBHQfBn/wAMPq3/AM1FezUUAeM/8IP/AMFC/wDo6D4M/wDhh9W/%2Baij/hB/%2BChf/R0HwZ/8MPq3/wA1FezVU1PXtD0UA6zrVpaBhlTc3Kx5/wC%2BiKTaS1E2krs8k/4Qf/goX/0dB8Gf/DD6t/8ANRR/wg//AAUL/wCjoPgz/wCGH1b/AOaivRLr4v8Awmsc/bvih4dhx183W4F/m9Z837Rn7Pdu/l3Hx38Go391/FFoD%2BslZuvQjvJfejJ4nDx3mvvRxf8Awg//AAUL/wCjoPgz/wCGH1b/AOaij/hB/wDgoX/0dB8Gf/DD6t/81FdVf/tS/sx6Vbm71T9ozwHbRDrJceL7JFH4mXFcpqn/AAUX/YI0eUwXv7ZXwzLDqLfxnZzY/wC/chrOeNwdP4qkV6tf5mNTMcvpfHWivWSX6i/8IP8A8FC/%2BjoPgz/4YfVv/moo/wCEH/4KF/8AR0HwZ/8ADD6t/wDNRWaP%2BCoP/BPMy%2BSP2w/AefU67Hj8%2BlXIv%2BCkn7AEyb0/bK%2BG4H%2B14utVP5F6zWZZc9q0P/Al/mZLOMpe2Ih/4HH/ADJv%2BEH/AOChf/R0HwZ/8MPq3/zUUf8ACD/8FC/%2BjoPgz/4YfVv/AJqKqX3/AAUv/wCCfenxedP%2B2P8ADxh6QeJ7eU/kjE1zWuf8Fh/%2BCafh5S9/%2B1noMgHX7DZXl0fyhhbNTLNcrh8VeC/7ej/mRPO8lpr38TTXrOP%2BZ2H/AAg//BQv/o6D4M/%2BGH1b/wCaij/hB/8AgoX/ANHQfBn/AMMPq3/zUV4t4n/4L8f8E0NAVjpfxW1vWiOi6Z4RvUJ%2Bn2iOKuB1f/g5R/YitZXh0X4V/E2%2BK9JG0rT4Y2%2Bha93fmtcVTiXIKXxYmHyd/wArnbg68cyV8FGVZf8ATqE6n/pCkfU//CD/APBQv/o6D4M/%2BGH1b/5qKP8AhB/%2BChf/AEdB8Gf/AAw%2Brf8AzUV8ej/g5V%2BBOoTGHw3%2By34%2BviDgBZ7XJ/74Z6u2v/BwNqOs/wDIr/8ABPD4mahn7vlOTn/vi3asVxZw89q6fopP8kenPKs/grvLsV/4SYn/AOVH1r/wg/8AwUL/AOjoPgz/AOGH1b/5qKP%2BEH/4KF/9HQfBn/ww%2Brf/ADUV8v6f/wAFmf2ufFTBPAX/AAR1%2BKuohjgTTXF3DGPq/wDZrKPxNbVv/wAFC/8AgqtraiTRf%2BCQOpQK33RqHjqOMj674Y/6VrHiTKp/A5y9KdR/%2B2nBVjj6D/e4LEx/xYavH8ZU0j6G/wCEH/4KF/8AR0HwZ/8ADD6t/wDNRVv9lb4jfGnxhrHxQ8CfHTX/AAvq2qeAfiFFodnqvhPw1c6Tb3VrLoOj6mrPb3F7eMsiyajKhYS7SsaHapzn55T9rf8A4LV6vGW0f/glt4dtc9G1D4l2HH1BuEJr0L/gmb4k%2BO3i6X46eIv2l/h3p3hPxtcfGaL%2B2vD%2Bk363VvabfCXhxYdsqSSBt0Aic4Y4LkcYwOzCZlRxlRwhCa0veUJxX3yS18jOlXdSXK4Sj/iTX5n0/RRRXom4UUUUAFFFFABRRRQAUUUUAFFFFABRRRQAUUUUAFFFFABRRRQBgfFL4m%2BEvg34C1H4l%2BOn1JdK0qNHuzpGhXep3JDOsaiO1s4pZ5mLMo2xxsec4wCazLP4%2B/C3VPgXp37SWi6zfaj4Q1fQLTWtKvtM0G9uri8srqOOS3eKziha5d3WWPEQiMmWxtzkVf8Ai5rXiDw/8NNa1Xwr8PNX8V6iliy2nh7Qbiyiu7xnwm2N764t7dSAxY%2BZKgwpwScKfA/2Y/EX7UfwM/4Jx%2BDfA8P7Ffiqf4jeAPhDpmlW3g7UvFHh%2BGPVNWsrSG0Fut3DqM0UcbuhlErEYiByBJiIgHuPwa%2BOfwz%2BPvhu78U/DHWbu4h07U5NN1S01TRbvTb3T7yNUdre5tL2KK4tpNkkbhJY1JSVHAKupPhf7Qus/wBl/wDBWf8AZmsd%2BP7S%2BGPxMt8euJPDEuP/ACFXafsGeBfG/g74Tatq/wAXPAHifRfHPifxTPrPjm88VNpYl1jUpLe3jNzBHpl9ewwWkcMUFnBE0plSGyQPvP72T5//AGpNE8SeB/8Agtp%2ByX4g1n4t%2BINcsPEWi/EqGz0TVbfTktdEH9n6UfLtWtrSGZ1dtm77TLOw8tdpX5t3LjJ%2Bzop/3ofjOKPd4dw31vMJ0/8Ap1iH/wCA0Kkv0Pu6iiiuo8IKKKKACiiigAooooAKKKKACiiigAooooAy/HP/ACJOsf8AYKuP/RbVyHjn9kX9lD4oeKbrxz8S/wBmH4eeItbvtn23WNd8FWF3dXGxFjTfLLEzvtRFQZJwqgDgCuv8c/8AIk6x/wBgq4/9FtXhnxz/AOCrX7A37NfxT1T4KfGv49f2L4m0XyP7T0z/AIRbVbnyfOgjnj/eQWrxtmKWNvlY43YOCCBx42rl9GkpYyUVG%2BnO0lfXvpe1/wASo5/Lh1/WY4r6vf3ebn9ne%2BvLzXV72va/S/Q67/hgf9hX/oyz4S/%2BG50z/wCMUf8ADA/7Cv8A0ZZ8Jf8Aw3Omf/GK8k/4fm/8Esv%2Bjov/ACydc/8AkKj/AIfm/wDBLL/o6L/yydc/%2BQq8v69wr/z9o/8AgUP8y/8AiKVb/oeP/wAKX/8AJn1ffWcOo2M2n3OfLniaOTacHawwf5186fs3/sI%2BM/gqPAy%2BL/jxa603gD4N3Pw40W50Lwm%2Blztp7Pp32e6d3vbkfao108bmUKjvKGVIgmxvoTxBqs2haDfa3b6NealJZ2cs6adp6obi6KIWEUQdlUu2Nq7mUZIyQOa8Kv8A/gpB8CR4CufiT4a0nV9X0q0%2BG2geN7m8F/pWnQQ6drM8sVjHJc6nfW1vDOwgnkZJJVVVi%2B8WeNH%2BgMjxz4N/8Ean%2BFqX8lx8aPCiXF9b%2BAYLmbwr8Kl0k37eGfESa19tvm%2B3zSXt/e7DDNcu4wSJAhwY29j%2BH/7DuofDm/8ABOsaN8V4JbvwT4q8da5am48Okx3MniK/vbxY3VbkELbtdhSQ2ZhHn91u%2BXzvxT/wVY8Ka14P0j4zfCNraXwNffBD4keMNRu5dOi1S%2BtNR8MaromnmCNbbUEtbqMSX18GEdz5c5ihaK5WM7363x3/AMFA7tf2g/A/wc%2BGHwl1y50TWvjDceB9d8eanYQHSZbm20jULy6tbQx3YuVnimtEjMstuLcmOeNXZwMAHp37QnwJ8R/HH4c6JpWnePrPQ/F3hnxDpuv6D4j/ALDa5tIdStHBJks/tCNJbyo00LxCdXEc7bZVcBxjfC79nX4t/B34N6p4D8FfG3Rx4l1w%2BJNW1bxXfeC3lVvEep3T3UN7Fai9VUs7aSWRRZs7vJEkKm5Vkd5b37Sf7Q2pfCv9mq5%2BMvw80E3OqajeaTpfhmz8R6dc2Srf6pqNtpto11BKsc8caT3cTyIQj7FYDacEV/2X/i98VfiC3xH%2BGvxal8PXXi74aeNv%2BEfvdY8O6XPY6dqgm0nTtVt7lLaa4uJLf91qUcTxmaQ74HYNtZQADlf2fP2Vv2mf2efgNL8MPD/7QXw71DxI%2BsjUpfGGofCa/dtUupdzXt3qMTa8ZLq7nkIfzknhSMKEWPy1RFy7z9hL4t6d%2By5N%2Byv4H%2BPnhO00nxJF4mHj6%2B1n4XNfPePrt/cXt3/Z0S6lFDp8aPeXCxRSpdqqiHd5hRjJzPjb9rL9tD4daZ8ZvAtrb%2BCfiB4t%2BHnhfw/qOn6p4H%2BHerNbWuoahdTJLpVxpseoXFxeXENrHDdhYJ45Gjuot0UYeNpNDx7%2B3h4x8K/sg3vjX4beM/CvxB%2BKFzNq1lo1mngbU/DtrZXNjA9zdvqOlXl3Le2iWlunmSxyyxvKzwRKYmuYjQBqat/wTu1y4%2BJMl7pPx1jTwRfeOPCfizVNC1LwubvWv7Q8PwafFaRW2qm7UW9rIdMtmmiNtIzGa82yILlsL8L/APgmX4H/AGcPi7ffGD9mD4k%2BINAuF%2BHEPhbw3onivxR4g8R6ZpjR3Us4ma3vNWxLDiRUFspiEe12jdGkY1518Yf%2BCknx88B%2BP/BOi6R4f8NxWOreC/BGs6hFceD9TvYdRm1vUpLS6ik1SC5W18NxwIivFLqCyLdNI0cW5onB9B%2BJv7QX7YPwv/apvfhto934I8d%2BH7L4aeJPGt34X0PwJfWWs20Fs8cOkaf9tbVZ4pri7neZA4tEVhYzkKhKqABJP2CfjE%2Bu/wDC41/aS0BfiUfienjNr8fDuX/hHGlXQH0IW50n%2B0/OP%2BiuZPON75vnhTu8sCGuh8AfsJWngzwr8GPBF98TX1HSfhN4h1DxFd2R0VYU1rV7iG8SOQKsu21toJNQuZYrYCQKVtgHHkAt4Jon/BVr4k3nw18apoXjT4b%2BOvEOgaP4H1WPxD4G8L6jLp%2Bmx69q8unXVlJpy301zqN9YeQ0v2SCaK4uWmigWGGXhpb7/gpx8d1%2BGPhrXNT8TfDbwlJf3HjaO48Z%2BMvCGqWtjqV1ol7bW9lpC6VJfR3elalfpPLKtrczS3EYspAsEzNtjAPrSw%2BA%2Bz9qfU/2m9c8VfbZH8C2vhnw5o32HYNIiF3NdX0wl3nzGun%2BwhhtQKNOi%2B8SSOe8Pfssal4a8F/FiyTxdoOteIvit4rv9Z1LUfFPhE32miKSCGytLGex%2B0obmCCwtba3ZfOj80pJJiPzCo47wT%2B1r8XfiL8X/gLr/h2LwzB8NfjX8O5tci0m60e5bW7G5GnQ3yH7WLkQeXtnRDH9nLZUnzB92uK%2BBn7dn7RPxl/al1n4ByQ%2BFtKiuX8a2ejfbPAeqRx6TNo%2BopZ2dwupSXiWfiQTK4muLWw8mS0O6GaSN0JoAsan/wAEvvGenfs%2BXnwN%2BFfxq8E%2BFofF3j4eI/ijYWHwneLQfENstlBZx6NBp1pqlu9hp/k2dmksa3EjTrDIsjMtxMG9J%2BO37Mf7QHx8%2BH9l8G9f%2BPXg3S/CV5pNhbeMLXRvhlcR3088FwJZJtMuH1Vk00MEiWMSQ3TwFN6yFtpXmPgh8Wf23PixafFnTp/i38I4Y/A/j9PD2heNT8NNShsbiO1soptVkks21x2k8q5mNorC5iCvaXBYMAoPBfFH/gph8a/Dv7CWk/GnwB4I8Maj8RdT0jWNcjFxa3X9iv4d0y9kiOvCLzlnW2voRaNaxGUuG1OElpEgmagD2X4hfslfEn4z/GjRfHXxW%2BNWjf8ACN%2BEb/WLzwjpPhLwZLpmrW8t/pl3prfadSe/nE6pBezMFit7fdMkEjZMQB4f4df8EuNFuLS3sP2mPikvi6DRvB/h7w14YXwLYah4NktLXRrmS5s7maew1Jp5rxZnVxJHJBEhQ7IU3tm742/bG%2BNmg/HnXpdK03wsfhr4O%2BMXhv4ba7p9xpty2tXt/rFppcqajBdC5EMUMU%2BtWERt2t3Z1iuHEqfIpb%2Bwp%2B3XqH7XfjCfVLz4geG7bSta0y/1Lwj4Ki8A6tZaj9gt75LYXQ1a6n%2Bx6ptV4hcR2kAFrNcxxPIxXdIAdx%2BzX%2ByloX7Gv7M3iD4P%2BH/G2t6/Dca34l11r/XdYvryVTqN9dXiwhr25uJAI0mSNmDgTSJJOyiSeQmbxx/ykL%2BF/wD2Rnx5/wCnbwhXqXjn/kSdY/7BVx/6LavLfHH/ACkL%2BF//AGRnx5/6dvCFAHs1FFFABRRXHfHj42eGv2fvh1L8RPE2kanqm7UrHTNM0XRIY5L3VNQvbqK0tLSBZZI4/MknmjXdI6RoCXd0RWYAHY0V47D%2B2x8Ml/Z31X9oXVvCfiXT10TX28P6r4PurO3bWINb/tBNOj0zZFO8DTS3UsMcbrMYHE8cgl8tt9QaZ%2B2PeeI/CWoat4L/AGWfiVrfiHQfE0mheLPAlg2hrqmg3a2kN6PtMk2qR2TK9tdWkyGG5lLrdR4GdwUA9prxn9g//kiGuf8AZZviP/6mut16F8HPix4M%2BPHwl8M/Gz4dXs1xoHi3QbTV9GmuLdopHtriJZYy8bfMjbWGVPIOQelee/sH/wDJENc/7LN8R/8A1NdboA9mooooAKKKKACiiigAooooAKKwvHvxR%2BGfwr0v%2B3Pif8RdC8OWWD/pmvavDZxcdfnlZR%2BteB%2BOv%2BCwv/BOnwNef2SP2j7DXr9m2wWHhLTrrVXnb%2B6jW0Txk/VgK5MRj8DhP49WMfVpfmzhxWZ5dgf95rQh/ikl%2BbPpmivkf/h5p8YviN%2B7/Zk/4Jq/GLxSG/499Q8WWkHhqxn9GSe6Z8r7lRSjxV/wWn%2BJxzo3wq%2BCHwwtH%2B%2BPEWt3utX0Q/2fsgELH68Vy/2xhZ/wYzn/AIYSt/4E0o/icX9v4Kp/AhUqf4ac7f8AgTSh/wCTH1vR0618k/8ADJX/AAVB8bj/AIuJ/wAFQrfRLd/9bp3gn4VWMZ/4DczP5i/lXK/FD/gnd%2ByJ4G0oa9%2B3f%2B3l8SPE1nMCZbf4kfFv7Bp83qkUEZhIB/uqxPPFRPMcaouUcM4rvOcIr/yVzf4G%2BGr59mVeNDBZfOU5aJSlFN%2Big6kv/Jb%2BR9EfFv8Abr/Y3%2BBTyW/xW/aY8G6TdREiTT31yKW7XH/TvEWl/wDHa8if/gs3%2Byl4hmaH4HeBPir8UNrEF/h/8Nr25UkdcGcQ5ryjwJ%2B0l/wRJ%2BA%2Bpf8ACPfss/s%2BQePdftcBIPh/8NbnW9Qz2C3dynzZ9pTXqcP7aP7f/wAS41g/Z9/4JhaxpNgVAh1b4o%2BLbXRvKXsGslDS/gG4xXmPN8RWdo14elOE6r/8CTS%2B%2BJ9vDwr8WKkFUx1KlgYPX/aHGjp3TxNSjzeVqbb6Ie//AAUt%2BOniVfI%2BF3/BLL47XlzJxbJ4r0q20OJj23ySyOIx7kHFNj8Xf8Fq/ia39p%2BH/hF8DfhjaAbl0zxbrt9rN6T2UyWIEOPUjnpinjwt/wAFqvH583WPip8CPh/A3%2Bri0DQ9Q1W5Qejm5IjJ/wB3ig/sa/8ABSfxR8nj3/grFfW9u/8ArLPwt8JdMsmUd9s%2B8uPrijmzGtuq8l5KlTX4tT/H5Ff8Qzw0f%2BRlxTh4f3Ye2l%2BNDCVE3/3FS8xG0b/guRcj7BL4y/ZitopOHv7fT9eeeIeqo/yMfY8VxHxJ8I/tQ%2BGt5/av/wCC3fhXwHFj97ovhzw1pGlSL6hLi4l88n0G0mu3P/BI7wV4u%2Bb48fth/Hjx%2Bj/6/Tta%2BIkkNi/qBBAibQfQNXbfDb/gld/wTy%2BFOxvC/wCyZ4SuJEOVn1%2BzbVZN397detKc%2B9H9nZnX0cWl/erz/wDSaaSfzkP/AFO8LcJ/vmb4zFP%2BWlB04P8A7iTrwl99GR8S%2BJPEH/BJyXUm0v4rf8FLfj38W9Sbl7CDxPq17AfURiztVjVfYOai0zwR/wAEhLomT4f/APBLP9oP4gXUp/4/bbwtrVz5p/vM098gUep2/hX6m%2BGPB3hHwTpw0jwZ4V03SLRfu2umWMdvGP8AgMYArSprhxy1qey/8Fcz%2B%2Bc5fkCwfgxhn%2B7yCpWa618TCV/lDDQa9OdvzPy4tP2fPhNrRD/C3/g3n8RXin/Vnxf4zg0gn/eFxNJj8a0Iv2HfjV4lQQeG/wDgif8AAnwmW%2B7J4t%2BII1ER/wC99jAJ/Cv03orRcMYV/FP7oUUv/Td/xNVmvAeH/wB14WwC85rEzf3PEKD/APAD80bD/gkL%2B0/r1wL3VfhZ%2ByV4RJ6RaF8P77Vdg9xfHaT%2BGK6zSf8AgjP8cfLAvf2sPhrpKHrZ%2BG/2XPDUKr9JGXefqa/QKitIcL5RHdSf/b8l/wCkuKNocZTwv%2B55ZgKK8sBhJv76tGpL8bnwe3/BEJPEUX2L4h/tj%2BIrq2P34vDngfRdIb8GjgbH5Va03/g3z/Yat4gNa8WfEvV5f47jUfFyb2%2BvlQIP0r7morZcN5He8qKl/ibl/wClNjq8fcT1I8sZ06a7U6FCkvup0oI%2BMtJ/4IJ/8E59Pl36h4F8TakveO98ZXgU/wDfp0P612nhf/gjj/wTR8Iur6X%2ByhosxX/oKalfXoP1FxO4NfTNFb08iySk7xw0P/AI/wCRyf668XR%2BDH1YeUakoL7otI8p0P8AYS/Yl8NxLFon7IXwyt9nR18DWBf8WMRY/ia6vQ/gR8D/AAwwfw18GvCmnEdDY%2BHbaEj/AL4QV1dFdsMJhafwU4r0SPPxPEGfYy/1jF1Z3/mqSf5sbBBBbRLBbQpGijCoigAD2Ap1FFdB5DbbuwooooAK8Z/Zf/5Lf%2B0d/wBlmsf/AFCvC9ezV4z%2By/8A8lv/AGjv%2ByzWP/qFeF6APZqKKKACiiigAooooAKKKKACiiigAooooAKKKKACiiigAooooAKKKKACiiigAr4M/wCCluqf2F/wVY/Yg1Tdt3ap4xtc/wDXcaJFj/x6vvOvzr/4LG3sukf8FCP2JdeThLTx7qP2hv7sT6p4cjY/%2BP15mcS5MvlLs4v7pJn3HhxRWJ4woUH9uNaP/gVGpH9T9FKKKK9M%2BHCiiigAooooAKKKKACiiigAooooAKKKKAMvxz/yJOsf9gq4/wDRbVqU2eCG5he3uIleORSrowyGBGCCPSsxfBmjIoSO41NVAwqprd0AB6ACTigDVorL/wCEP0n/AJ%2B9V/8AB5d//HaP%2BEP0n/n71X/weXf/AMdoA1K%2BbtC/4Je/Arwl4E8S%2BCvBnjvxnpU/iD4oQ%2BOrHXYb2ymu9AvreWOS1tLJbi0ktxZW%2Bxlit5oZgolkOSxDD33/AIQ/Sf8An71X/wAHl3/8do/4Q/Sf%2BfvVf/B5d/8Ax2gD54H/AASr%2BBM/w7vfh3rHxL8faimpeE/H2gajq19qtm95cxeL9VtNU1W4ZhaBPPW4s4/JIQIiO6sknyleim/4J%2B/DtvjfpXxitvi147trDRfiHc%2BONO8BwX9kNFi125sbmzubrBtDdMJVu7iRojcGISyNIqKSc%2By/8IfpP/P3qv8A4PLv/wCO0f8ACH6T/wA/eq/%2BDy7/APjtAHOfEv4E6B8YvghefA74k%2BKdZ1OC%2Bs4o5dfEkFvqKXMMiTQXqNBCkMdxFNHHMhWIIHjU7CODlfCD9mi3%2BDWmX8ej/GPxdqer694muNe8YeJdYXTXvfEV5JYpYobkRWUcMawwQWaxrbRQAfYoQ25TIsncf8IfpP8Az96r/wCDy7/%2BO0f8IfpP/P3qv/g8u/8A47QB4x8A/wBhfUv2dPhVrPwq8Efti/FW7TV7hrwa/q9t4al1K2v5Lg3FzfecujKLq4nYkSPdrOCpwoXAIg1j/gmV%2Byh49%2BGOu/D747%2BBbT4m6h4j1HUdS1Pxn8QtC0vUNWF/e2sFpLdwN9kW3tJFt7W0iQQQxoq2sPykrk%2B3f8IfpP8Az96r/wCDy7/%2BO0f8IfpP/P3qv/g8u/8A47QB4Dcf8EuvgHbWNl4W8GeL/FXhfwoPDeh6F4k8FeHG0630zxJZaTM8tol0ps2lhJMsgkNnJbGVXKvuAGPXPDvwI8LeGfix43%2BNVjrWqya/46sNNsL65nmiYafZ2EUy21vagRjZGslzdT4cyEy3UpztKovRf8IfpP8Az96r/wCDy7/%2BO0f8IfpP/P3qv/g8u/8A47QB4tf/APBPzwb4j0XWrjx58dfiD4h8Y6xqOh3kfxJ1GfS4tX05tHuXutNjto7awisVihnmuX8t7V1kN1N5okDYFgfsMWdr8L7z4X6D%2B038TtKXX9Y1LUvHOuafc6QuoeKpr7as/wBpkbTmW2HlqsaGxS0aJFGxlIBHsP8Awh%2Bk/wDP3qv/AIPLv/47R/wh%2Bk/8/eq/%2BDy7/wDjtAHlPjD9irSPEHxg%2BG/xT8IfHfxv4OsPhbp62PhrwR4ZtdE/shrYqsUsUv2rTZ7rbLAkcDCO4j2JGDF5b5kMfwo/YT%2BHnwl%2BKFh8RNN%2BJXjHVLDQL7Wrzwd4P1i7s20zw5carO017JbGK1juZCxklVBczziJJnWMIMAetf8ACH6T/wA/eq/%2BDy7/APjtH/CH6T/z96r/AODy7/8AjtAHjHjT/gnz8PPF37I6fscWXxc8c6JoE2ryajrus6Xc6c%2Bo69LPfy394l8bmylt54ru5mke4i8gJKrvGR5bujN%2BN/8AwTb/AGZ/2oPgx/wqj9qDwvZfETVU0SfSrX4ieKPCehv4gsreSVpALeaHT44LYpuCr5UCDCAsGYsze0/8IfpP/P3qv/g8u/8A47R/wh%2Bk/wDP3qv/AIPLv/47QB5HP%2BwJ8HV%2BLtv8SdE8Q%2BINI0SLXNL1y6%2BG%2BktZQ%2BHrzVtNs4rKwvniFt56PBBbWapHFPHBmxt2aJmjBqz8Gf2IPhz8E/iZafEXRPHfirU4ND07VdP8FeGdWuLM6d4WtNRu4bq8gs1gtopnV5LeAKbmWdokjEcZRSyn1P8A4Q/Sf%2BfvVf8AweXf/wAdo/4Q/Sf%2BfvVf/B5d/wDx2gBPHP8AyJOsf9gu4/8ARbV5d44/5SF/C/8A7Iz48/8ATt4Qr1E%2BDNDfCztfTJkExXGrXMiN7MrSFWHsQRXl3jj/AJSF/C//ALIz48/9O3hCgD2aiiigAry/9rf4N%2BM/jP8ADCwsfhreaZF4m8NeMNF8S6BHrc8kVldXGn38NybWeSKOR4kmjSSHzVjkMRkEgSTZsb1CigD5t8HfswfFdfgT8RfA/wAXPhn4C8T6n8Rtc1DxNquijxnf2%2BnpqM9wnkWKXSaf58UcFvb2hXUEjE32hGkW3iwuPNrb9hv9sD4Z/ALxT4H%2BBU/hGw1v4tfE86/8UIbz4q62ZrLSP7MtNPax0/XJ9Purye7mi0%2B3El9PCkifaLhohGwhaP7booA4vwv8LdNuPgLpXwe13wlB4Ss4PD1tpr6F4C8UXltDpMUUaotvZX1utpcJHGqBEkRYW2qPlXpXn/8AwTp8PWHhL9m6%2B8LaVcX0ttp3xb%2BIdtby6nqk97cuieM9aUGW4uHeadyBzJI7OxyWYkk17pXjP7B//JENc/7LN8R//U11ugD2aiiigAooooAKyfG/jzwR8NPDN141%2BIvi/TNC0exTfeapq99HbW8K%2BrSSEKPzr5p%2BPf8AwUA8XeMPiTefsqf8E9fB9n4/%2BIsB8vxB4juJD/wj3g9SSpkvLheJZRg4gQk5VgcspjMPgj/glV4S8Z%2BJbX4p/t5fF7Xfjl4qgfzYLTxCfs%2BgadIeottMiIiC9Qd%2B5W4JQGvJnmNSvUdPBQ52tHJu0E%2B19XJrqop22bTPDqZtVxNSVLLqftGnZzbtTi%2Bq5tXJrqop22bizL1T/goB8ev2ttXn8Cf8EyvhCmq6ZHO0Go/Gfx1bS2nh%2B0IOH%2ByRECW%2BkHsAFOCVZTuq9/w76/a%2B%2BJ3z/tIf8FR/iJcwy/63TfhnpNp4ZjQf88xLEJHde2WAJFfVVvbeG/Bnh5LW0gsdJ0rTLXCRxqkFvaQIvQAYWNFUewAFfOHxP/4Kzfsq%2BF/Er/Df4MTa78X/ABgMiPw18K9JfVWBzjL3CYgVAfvEOxXBJWuXEYfC0Y8%2BZV22%2BnM4R9Iwi7y%2BfMz3Mh8PuIeLq0o0qdXFSWsuTmhSgu8uVqMY/wB6rJ/4hfAX/BHz9gLwZqv/AAk3iD4MN411piDcaz4/1i51eWcju6TuYT/37HWvZ49H/Z2/Zm8Jza5DpPgv4f6FbqBPdpb2mlWkY7BmARB07187f2t/wV6/ad40jQfBP7Ovhy46XOpOviPxEEPRljXFqmRyVfDqSBnitbwT/wAEjv2cpPEMPxB/ab8TeK/jb4oiO4an8Staku7WFj1WGyUiFI/SNxIB2qcPyw/5F2EUV/NJKmvus5v5xV%2B59thfD/grhjXNcdShNb0sJGOIqX/vVYuGHV%2Bso1qklq3B7Nvir/gr/wDsvXGuTeC/2c9A8Z/GbxBEdrab8MvDE17FEx6GS5cJEE9XVnAHNZ6fET/gsD8fGD%2BB/gd8Ovglo8pyLvxvrT65qxTsyQ2gEKMe6S8jpnNfVPhXwh4T8C6JD4Z8EeF9O0bTbcYt9P0qyjt4Ih6LHGAq/gK0a6/qOPr/AO8YhpdqaUF975pfdJeh2f61cKZVpk%2BUQlJf8vMVOWIn6qnFUqCv2nSqW25nu/kh/wBhH9uj4hKY/jh/wVW8Ym2m4msfh74PsdAaNT1VLiMu%2BfRiM10vwu/4JLfsL/DfVj4r1r4Rf8Jz4gkIa68RfEe/k1u5uGHRmW4JhDd8rGDX0lRVwybLYzU5Q52us25tenO5W%2BRz4nxK40rUJUKOK%2Br05aOOHp08NGS7SWHhTUl5Sv33KPh7wz4b8I6XHofhTw/Y6ZZRf6qz060SCJPoiAAflV6iivTSUVZHw85zqzc5u7e7erYUUUUyQooooAKKKKACiiigAooooAKKKKACiiigAooooAKKKKACiiigArxn9l//AJLf%2B0d/2Wax/wDUK8L17NXjP7L/APyW/wDaO/7LNY/%2BoV4XoA9mooooAKKKKACiiigAooooAKKKKACiiigAooooAKKKKACiiigAooooAKK574r%2BPb74YfDzU/Hmm/DzXvFc%2BmwrInh7wyLU315l1UrF9rnghBAYsTJKihVY54weQj/a3%2BFv/DIel/tpXdnq9v4V1jwXYeJLGwezR9RkivYIpba1EMbsrXMjTRRCNXKmRwoYj5qAPUK/OX/guX/xL/jn8A/F/T/hHotV1Hd/d2%2BIvB6Z/wDIlfbvwD%2BP%2BjfHrTdeEfgbX/CuueFNfOjeKfCvihbT7dpd59mt7tEdrO4uLeRZLa6tpleKaRSswBIYMq/E3/BfO2mPh/TNZtEzPpPwl8RX0HsyeLfAmT/3yWrys9/5E2IfaEn9yv8Aoff%2BFLT8S8ng9p4mjD/wOah/7cfotRUdpcw3trFeW7bo5o1dG9QRkVJXq7nwLTTswooooEFFFFABRRRQAUUUUAFFFFABRRRQAUUUUAFFFFABRRRQAUUUUAFFFFABRRRQAUUUUAFFFFABRRRQAUUUUAFFFFABXjPjj/lIX8L/APsjPjz/ANO3hCvZq8Z8cf8AKQv4X/8AZGfHn/p28IUAezUUUUAFFFFABRRRQAV4z%2Bwf/wAkQ1z/ALLN8R//AFNdbr2avGf2D/8AkiGuf9lm%2BI//AKmut0AezUUVHd3dpYWst/f3McEEEbSTTTOFSNAMlmJ4AAGSTRsGxneOfHHhD4Z%2BDtT%2BIHj7xFa6Touj2Ul3qepXsuyK3hQZZ2P07dSeBkmvjWXxt%2B1N/wAFV5W0z4SXWt/CL9n2Zil34xkiMHiLxrB/Etkjc2do4481vmYEfeBeJa7tq/8AwWC%2BMhiQ3Nt%2BzH4D1r52G6P/AIWPq8D9B0J06Fx9HYd2P7j7Zvr7w14I8NS6jqN3ZaTo%2Bk2RkmmmdILezt4kyWJOFjRFXrwAB6CvCvPOG3zOOHXbR1O%2Bu6h00s5d%2BX4vnYRr8SVeWDaw17LlupVn5Naqn0VtZ9%2BW3Ny3wN%2BAnwT/AGVPhdb/AA0%2BDfg3T/Dfh7TYzJKsXBkYL8888rHdK5Ay0jknA64AA8H%2BI3/BT3TvGni%2B6%2BC/7AHwqvfjT4xt38q%2B1PS5vI8OaMx433Wot%2B7fHUJESHwVDhuK4jVte%2BJf/BYDxTceEfAt9qvhT9mXSr5odb8Qxb7a/wDiLLG2HtrYnDQ2AYEO/BfBH3srH9k/Db4YfDr4OeDrP4ffCrwTpnh/RLBNtppmk2awxJ6nCgZY9SxyzHkknmilUr46HJgmqVBaKSSvL/Anoo9pNO/RWsz9sWR8NeHtCFPOKH1jHJaYVScKVBfZWIcLTlU70KcqbpqyqVFLmpr5a0//AIJxfGL9pm9h8Wf8FLf2irvxhAJVmh%2BFngiSXS/DNowOQsm0ie9Kno8hVhyCWFfT/wAMPg/8Kvgp4aTwd8IPhxonhnS48EWOh6ZFbRscfeYRqNzerHJPc10dFd%2BFy7CYSTnCN5veT1k/WTu/lsuiPns94y4h4hoxw%2BJq8tCPw0aaVOjD/DSgowT7yac5byk3qFFFFdx8sFFFFABRRRQAUUUUAFFFFABRRRQAUUUUAFFFFABRRRQAUUUUAFFFFABRRRQAUUUUAFFFFABXjP7L/wDyW/8AaO/7LNY/%2BoV4Xr2avGf2X/8Akt/7R3/ZZrH/ANQrwvQB7NRRRQAUUUUAFFFFABRRRQAUUUUAFFFFABRRRQAUUUUAFFFFABRRRQBz3xXHxBb4c6xF8K/Dujat4gls2j03T/EGuS6bZyuxCnzbmG2uniAUsQVhkyQBgA7h85%2BCv2Uv2nNU/wCCcvhj9jf4j6b4D0TxJ4P8C6DYaTreh%2BK73VLKfVtEks5LKSRJdOtXW3lkso3kAy6B2RRJgOfq2igDyP8AZZ%2BEXxS8Dax8RPir8bYNAs/E/wASPGEOr3ei%2BF9Vnv7HSre30ux02C3S6nt7aS4YrZGZnMEWGnKBSEDN8k/8FfPgv4b0zV/FHibSdQ8Qz3mvfs7eOby/g1XxdqN/aRG21zwbKv2a1uZ5ILIcHctukYbA3A7Vx%2BiVfHf/AAU70X/hIPEGp6WE3M/7JfxYeNfV0uPCzr%2BqiuHM4e0y2vDvCS/8lZ9VwLifqXG2V4j%2BTEUJfdVi/wBD6b%2BB2s/8JH8FPB/iHfu%2B3%2BFtPuN3rvto2z%2BtdTXlX7Cms/8ACQ/sS/CDWmbLXHwx0F5Dn%2BP%2Bz4N365r1WtsJP2mFpz7xT/A8vP8ADfUs9xeH/kqVI/dJr9AoooroPJCiiigAooooAKKKKACiiigAooooAKKKKACiiigAooooAKKKKACiiigAooooAKKKKACiiigAooooAKKKKACiiigArxnxx/ykL%2BF//ZGfHn/p28IV7NXjPjj/AJSF/C//ALIz48/9O3hCgD2aiiigArjvjx8bPDX7P3w6l%2BInibSNT1TdqVjpmmaLokMcl7qmoXt1FaWlpAsskcfmSTzRrukdI0BLu6IrMOxry/8Aa3%2BDfjP4z/DCwsfhreaZF4m8NeMNF8S6BHrc8kVldXGn38NybWeSKOR4kmjSSHzVjkMRkEgSTZsYAzYf22Phkv7O%2Bq/tC6t4T8S6euia%2B3h/VfB91Z27axBrf9oJp0embIp3gaaW6lhjjdZjA4njkEvltvrHuf2/fB8ehw2ll8DvHt545k8azeFZfhXappJ1y21KLTV1WRZHbUBYLGNPeG6837WUKXEKhjLIsZx/B37MHxXX4E/EXwP8XPhn4C8T6n8Rtc1DxNquijxnf2%2BnpqM9wnkWKXSaf58UcFvb2hXUEjE32hGkW3iwuPPvhl/wT7%2BOvwLnsvjx8MbLwjc/EOT4o6l4p1jwnr/j/V7vTJLW80G30U2v9t3NpcX1xOqWNldG6mtiZJPPj2Ro6NGAfV/we%2BK3g746fCvw98Y/h9dzTaL4m0iDUdNa5gMUqxyoGCSRtzHIuSroeVZWU8g157%2Bwf/yRDXP%2ByzfEf/1NdbrR%2BAX7NEXwx/ZK8O/s0%2BNfFF7ezWWgrba7q/h3VbvSZJ7t2MtzLbTW0sdxbKZnkKbJA6oQCx5JwP8AgnT4esPCX7N194W0q4vpbbTvi38Q7a3l1PVJ725dE8Z60oMtxcO807kDmSR2djksxJJoA90r4q/aV8e%2BMf8Agor8cdR/YI%2BAPiG50/4deG51Hx38e6bJgyjP/IAtJBwZXwRMwyFAZTna8cnuv7fvx8P7Mn7G/wAQvjPa3fk3%2Bl%2BHZYtFcHn%2B0LjFva47nE8sZwOwNR/sA/s46d%2Byt%2ByP4K%2BEkekR2uqw6NDd%2BJ5FQB7nVZ0WS6kkbq7eYSgLZO1FHQAV4%2BO5sbilgU7QtzT7tN2UfJSad32TS3uvAzFTzHGrLk7Q5eepbdxbtGHkptS5n/LFpb3Xo/hLwn8Pvgr8OrLwh4U0yw8P%2BGfDemCK1t4yIreytYk6kk4ChQSWY%2BpJ6mvjXUL7xl/wWG8fyaBodxqOh/sw%2BG9U26lqEZe3ufiRewvzDEeGTT0deW4Lkf3/APUdH%2B3j408U/tY/GfS/%2BCYfwV1ue0i1W1j1X42eIrFsNo3h8MCLFWHC3F2dqhTyEYZVkdiPrDwR4K8K/DfwfpfgDwNocGmaNothFZaXp9qm2O3gjUKiKPQAD3PespwWaV5YeOlCnpK325L7H%2BGP2rbv3dlJP9uy32Xh1kdDMowX9pYiPNQT/wCYajtGuo/8/qmvsL/w4L2yXNOlKM/hzw5oHg/QLLwp4U0W103TNNtUttP0%2BygWKG3hRQqRoigBVAAAA4AFXaKK9xJRVkfmU5zqTc5u7erb3b7sKKKKZIUUUUAFFFFABRRRQAUUUUAFFFFABRRRQAUUUUAFFFFABRRRQAUUUUAFFFFABRRRQAUUUUAFFFFABXjP7L//ACW/9o7/ALLNY/8AqFeF69mrxn9l/wD5Lf8AtHf9lmsf/UK8L0AezUUUUAFFFFABRRRQAUUUUAFFFFABRRRQAUUUUAFFFFABRRRQAUUUUAFFFFABXzP%2B2Hov/CR/tEaV4e2bvt/7M/xQttvrvu/Ci4/WvpivEPihp0Wsft6fDnSLj/V3XwQ8fwvn0bVPCKn%2BdZ1Ye0pSj3TR14DEPB46lXX2JRl9zTMz/glRrX9vf8E6fhDfb93l%2BDoLbP8A1xZocf8AjlfQVfKn/BErUZtQ/wCCZPw1huuJrJdWtJlP8Jj1a8QD/vkLX1XXDk0/aZPh5d6cP/SUfVeJWHWE8Rc5oLaOKxC%2B6tNBRRRXpHxQUUUUAFFFFABRRRQAUUUUAFFFFABRRRQAUUUUAFFFFABRRRQAUUUUAFFFFABRRRQAUUUUAFFFFABRRRQAUUUUAFeM%2BOP%2BUhfwv/7Iz48/9O3hCvZq8Z8cf8pC/hf/ANkZ8ef%2BnbwhQB7NRRRQAUUUUAFFFFABXjP7B/8AyRDXP%2ByzfEf/ANTXW69mrxn9g/8A5Ihrn/ZZviP/AOprrdAHlH/BRT/i%2Bn7S/wCz9%2BxRa/vbTWfGT%2BMvGMK8r/ZekIZEilH/ADzmmbYP9qMdK9v/AGx/2k9A/ZI/Zt8VfHnXIknk0bTyNJ09ic31/IRHbW4A5O%2BVkBxyF3N2NeIfsin/AIaD/wCCjvx4/akm/f6X4JS0%2BGXhKfqFNsRc6mAemRcsmCOz1U%2BMn/Gbv/BSDw1%2Bzzbf6T4B%2BAiweLPHePmhvPEMyn%2BzbJux8pN0xHQgyIwyBXzCxNRUa2IpfxK0%2BSn/ANu%2B6n6K0qnpc9XwtybBZ7nuIzPMF/sdJyrVraXoULQUE%2BjrVLU4P%2BatF7Ho/wDwTo/Zf139nz4MTeMvizcyah8UPiNdjxD8SdYuQPNe%2BmBZbQY%2B7Hbq3lqg%2BUNvKgBsD6Boor38LhqWDw8aNPaK%2B/u33berfVlZ9neO4jzitmWMd6lWV3bRJbRjFbKMIpRhFaRiklogoooroPICiiigAooooAKKKKACiiigAooooAKKKKACiiigAooooAKKKKACiiigAooooAKKKKACiiigAooooAKKKKACvGf2X/8Akt/7R3/ZZrH/ANQrwvXs1eM/sv8A/Jb/ANo7/ss1j/6hXhegD2aiiigAooooAKKKKACiiigAooooAKKKKACiiigAooooAKKKKACiiigDjv2g/jNoX7O/wO8WfHPxJpl1fWfhTQLnUpNPsdvn3jRRlkt4txC%2BZIwWNdxA3OMkDJrhvhj%2B1R441jQ/iVpnxe%2BCQ0fxp8MLWO81Xwt4Q159cTU7aax%2B2Wz2U721q8rybZoPLaFCJoHALIUdu5/aE%2BDOh/tE/A3xZ8DPEmqXVhZ%2BK9AudNk1Cx2%2BfZtLGVS4j3Ar5kbFZF3AjcgyCMivLfD37GnxM1Hw/wDEy2%2BMfx9sNX1n4uaNPpXi/W/C3hGbR3tbQaaLGzTTla/uDatFvuZ2eRpzJLcEr5SoqAAj/YK/bxt/224vEj2XhrwqkPh%2Bz0q5/tnwJ48HiPSpHvoppDYPdfZLbytQthEpuLXY3lLc253t5hC9D44/5SF/C/8A7Iz48/8ATt4QqL9l79ljxv8ABXx54h%2BKfxR%2BKeieJde1zwpoPhqJfC/gs6DYW2naSb5rcm3N3dF7hm1CffJ5ipsSFEijCHdh3/wj%2BFHgb/gpt4L8e%2BCfhj4e0fXfE/we8cS%2BJda0rRYLe71Z49W8JeW1zNGgecrvfBcsRuOOpoA5L/gjF/xL/wBkXVfCHT/hH/if4l07b/d237vj/wAiV9aV8l/8Emf%2BJbpX7QHg9uP7G/ab8VwxL/0yZrd0P47jX1pXk5HplFGPZW%2B7T9D9A8VPe8Qsxq/8/KntP/BiU/8A24KKKK9Y/PwooooAKKKKACiiigAooooAKKKKACiiigAooooAKKKKACiiigAooooAKKKKACiiigAooooAKKKKACiiigAooooAK8Z8cf8AKQv4X/8AZGfHn/p28IV7NXjPjj/lIX8L/wDsjPjz/wBO3hCgD2aiiigAoorjvjx8bPDX7P3w6l%2BInibSNT1TdqVjpmmaLokMcl7qmoXt1FaWlpAsskcfmSTzRrukdI0BLu6IrMADsaK8c/4bc%2BF1r%2BzZr37SuveF/Eel23hjU7jSdf8ACt7a2/8Aa1lqsN4LM2DLHO1uZGnaNUkE5gZZUl83y231zf8Aw8Y8Fy2kOjWPwB%2BIdx41k8cXnhST4coNGXU4b%2B10xNVmLXD6kunNGtlLDLuS7YnzAgHmK6IAfQ9eC/sjeJrbwV%2By74z8ZXuPJ0n4pfE%2B9l3HjbF4x11z%2Bi16p8Fvi14P%2BPnwg8LfHD4fS3L6F4w8P2es6O95bGGU21zCs0e9DyrbXGR2Pc9a%2BWPE3jL/AIQH/glB8e/Eyy%2BXIniT4twQSZ%2B7LP4t16CM/XfItYYqt9Xw06v8qb%2B5XObG11hcHUrfyxb%2B5Njv%2BCZ3iGx/Z3/4JGWHx%2B8XgSXb6DrvjTxFdTHD30zz3NxvY92aJIk98Cuy/wCCTXwm1LwP%2ByFpXxW8bSPdeMvivdS%2BNfGGpzLiS5uL8%2BbEPVVWAxAJ0BLEAbiK8c/az0zVfBH/AASE%2BEH7J3hqVrfXfiZa%2BDfA1qYx86y3CQSXL49CsMobsPMr7w8O6BpXhTw/Y%2BF9BtFgsdNs4rWygXpHFGgRFH0UAV4OVUf9opU3tQpRX/b09/mlFf8AgXmz7rKaMuHvBvCYdaTxtVc3d0sLTio3/uzq1ptrrKkm9YouUUUV9KfHBRRRQAUUUUAFFFFABRRRQAUUUUAFFFFABRRRQAUUUUAFFFFABRRRQAUUUUAFFFFABRRRQAUUUUAFFFFABRRRQAV4z%2By//wAlv/aO/wCyzWP/AKhXhevZq8Z/Zf8A%2BS3/ALR3/ZZrH/1CvC9AHs1FFFABRRRQAUUUUAFFFFABRRRQAUUUUAFFFFABRRRQAUUUUAFFFFABRRRQAV4z44/5SF/C/wD7Iz48/wDTt4Qr2avnf4w%2BPLPwv/wVB%2BA/hS9ZQfE3wi%2BI1pag9TNFe%2BE7n/0XDLx/hUylGCu/L8XYic401eXdL73Zfizk/wDgnJ/xKP2kP2qfCHTyPjL/AGjs9PtdnG%2Bfx2V9aV8l/sbf8Sf/AIKX/tceGCNqPeeDNRgH97ztJk3n/voAV9aV5eS6YHl7TqL7qk0fofib73FSq/8APzDYKf8A4HgsPN/iwooor1j8/CiiigAooooAKKKKACiiigAooooAKKKKACiiigAooooAKKKKACiiigAooooAKKKKACiiigAooooAKKKKACiiigArxnxx/wApC/hf/wBkZ8ef%2BnbwhXs1eM%2BOP%2BUhfwv/AOyM%2BPP/AE7eEKAPZqKKKACvL/2t/g34z%2BM/wwsLH4a3mmReJvDXjDRfEugR63PJFZXVxp9/Dcm1nkijkeJJo0kh81Y5DEZBIEk2bG9QooA%2BU9R/ZA/aM8T/ALL/AMSvhVr0vgq28RfE3xLP4m1uKDXLufTJZJdQhaTQZC1mkjWUum2sVnLeBRIxuJ3W2TCqfO5P%2BCZXxN/4QiDRr34CfA3VvCo%2BJ2o%2BJE/Zz1HU7geC9NtrjRrewjS3n/sl8yJdRXV/s/s9ITLqU%2BFWRFnb7wooA8v%2BBv7P2seCv2SPCn7N3xX8e6prV9pHhCz0jWde0bXb7T7meSKJVZobuGZLqMArhZPNEpUDcxJYn4s/aY0%2BPwl/wRj8bfCHwte37ya58dfFHhvS5tS1Oe%2BuX3/EbUR%2B9uLh3mncxxtukkdnYklmJJNfpHX5x/GP/iqfhb8EPhCnzf8ACQft2%2BKrm8i/56Wln4z8QzTL%2BqH8K8rPH/wk1o/zLl/8C939TxOI23kdeC%2B3Hk/8D939T1z43abafFX/AIKn/A34CaZHu0j4UeCNU8bapbDlN8m3T7EN6NHIN4HXDZ6V9gV8jfsD/wDF4v2yv2lf2qJf3tr/AMJla%2BBPD0p6RwaRAFufLPdJJpFfPQkcV9c1OTr2lOriP%2Bfk5Nekfcj8mop/M/XPENLA4rAZNHRYPDUYNdqlVPE1U/ONStKD/wACWyQUUUV65%2BfBRRRQAUUUUAFFFFABRRRQAUUUUAFFFFABRRRQAUUUUAFFFFABRRRQAUUUUAFFFFABRRRQAUUUUAFFFFABRRRQAV4z%2By//AMlv/aO/7LNY/wDqFeF69mrxn9l//kt/7R3/AGWax/8AUK8L0AezUUUUAFFFFABRRRQAUUUUAFFFFABRRRQAUUUUAFFFFABRRRQAUUUUAFFef/tV/Gq5/Zz/AGb/ABt8cdP0FNVvPDHhy6vtP0yWYxR3d0qHyIXcAlEaUorOASqknBxivPPAH7UnxJ%2BH2jfGbSf2o5PD%2Bq6r8G9Hh16%2B1jwPos%2Bn2up6XLpr3i7LW5url4Zke3u4iDO6uEjk%2BTeY0APoOvgL/gqX44n%2BFn/BTj9ij4kRsyQ22seKtLvZh92KDUJdBsXZvRcTDJ9697/YJ/aj8VftLeH9R1Tx78R/Ct/qw0rS9VHhnQPAer6JLo9tepM8ZMupzsdWtnMbpDqEEUEE5t5ii9VT5b/4LO%2BKPh18ZfFk3hz4U/E3w9q/jL4WfB/xVr2o6ZpOswXN5oVxa%2BIfBk4NzDG5eBjDHcYDhSdrY6GvNzjnjllWcN4rmXrH3v0PIz51I5PWqU/igudesPe/Q9y%2BCX/Ek/4LD/G/TOn9ufDLw1qOP73kl7fP64r60r4s1TxzYeE/%2BCnfwY/aQsmA8OfH74QTeHklY5SC8g2anbMW7GSOQRKO5zX2nWWTyi4VoLpUk/lL3196kj9W49ccV/ZWYU3eFfBYflff2MXhpfdKi16WezQUUUV658AFFFFABRRRQAUUUUAFFFFABRRRQAUUUUAFFFFABRRRQAUUUUAFFFFABRRRQAUUUUAFFFFABRRRQAUUUUAFFFFABXjPjj/lIX8L/wDsjPjz/wBO3hCvZq8Z8cf8pC/hf/2Rnx5/6dvCFAHs1FFFABRRRQAUUUUAFfmppmvW91%2B1h8C9IucNaeEviZ8efFeqRnpti8R6zHA3tiQNz71%2Bldfklo3ijd8fvj54vWT9z8Ovgt8XzD/sahd%2BPvELJ9N0YArxM/qKngo/44P/AMBfP%2BUTlq4J5rmGBy5f8v8AE0If%2BVYy/KJ9jf8ABF3w9No//BOXwHrmpZfUvEcup61q10/3rme41C4YSN6kx%2BWP%2BAivqevHP%2BCeXhf/AIQ39hL4P6A0ex0%2BHGkTTJj7sktpHK4/76c17HXXlNL2OVUKfaEV/wCSo%2B58Qccsy48zXFraeJryXo6kmkvJKyXZBRRRXoHyAUUUUAFFFFABRRRQAUUUUAFFFFABRRRQAUUUUAFFFFABRRRQAUUUUAFFFFABRRRQAUUUUAFFFFABRRRQAUUUUAFeM/sv/wDJb/2jv%2ByzWP8A6hXhevZq8Z/Zf/5Lf%2B0d/wBlmsf/AFCvC9AHs1FFFABRRRQAUUUUAFFFFABRRRQAUUUUAFFFFABRRRQAUUUUAFFFFAHO/Fz4WeDfjh8LPEXwb%2BIdhJdaF4p0W50rVoIZmika3niaN9jrho3AYlXUgqwBBBArgvhn%2Bx14a8B23iSPxX8WPF3jmfxsJU8c3njAaY8mvwmzisooJhaWUCRRQwRkIlusIZppnk815C1ev0UAeTfs6/si%2BF/2d9e1DxZF8T/F3jDVrzw9pvh%2B21Lxhc2byWGj6e1w1pYxC0trdSiNdTsZZVknkLjzJX2rt439p74e2nxb/ar8M/Cq/C%2BR4m/Z1%2BJWlTb%2Bm24vvCcJz%2BD19F14z44/5SF/C/8A7Iz48/8ATt4QqZwjUg4y2ehFSEatNwkrpqz%2BZ8Vy6h4o%2BJf/AAQ4%2BGHx/wDDtq7eMfgHq1jrFpA3EkT6JfSWcsTkdF%2ByKXI6EKua/SbwN4x0L4ieCtH%2BIHhe68/TNd0u31DTpx/y0gmjWSNvxVga%2BRv%2BCevg7Qnv/wBqX9ivxba%2Bbpen/FbVJfsJ42aRrlqJYogPTYJcHvuNdN/wSA8Y67P%2ByY/wH8bXXmeI/g94s1PwTrO7gn7HOTAwB/g8iSJVPQ%2BWcV8vks5Ua1JS%2B3T5X/jovlfzab/8BPreH6k878GaCm71ctrcj7unXjyP/t2FbDv/ALer%2Ben1PRRRX1R8qFFFFABRRRQAUUUUAFFFFABRRRQAUUUUAFFFFABRRRQAUUUUAFFFFABRRRQAUUUUAFFFFABRRRQAUUUUAFFFFABXjPjj/lIX8L/%2ByM%2BPP/Tt4Qr2avGfHH/KQv4X/wDZGfHn/p28IUAezUUUUAFef/tL/HG5%2BAPw1i8WaL4RXxBrWq%2BIdL0Hw3ocmo/Y473UdQvYrSBZZ/LkMEKtL5ksgjkZYo3KpIwVG9Arz79pf4HXXx%2B%2BGsXhPRfF6%2BH9a0rxDpeveG9ck077ZHZ6jp97FdwNLb%2BZGZ4WaLypYxJGzRSOFeNirqAef3n7cl9oH7Jnjz9oXxZ8IxbeIPhvq9/pHivwpZ66Z7W2vbW4WJpRfG3Q/YfKkiu2uWgVo7dmdoQyNHXndr/wVq8N3Hwds/Hkmh/DmLUNU%2BId54X0bWpfi9Gngq/jtbFLy41SLxA1iN9mm/7IWW0Z/tqtAFKqZR20v7C3jjVf2f8Axb8HfEXx2sJtV8Z%2BIv8AhKNZ8R2fg54lfXhqkV8jfZnvXVtNCW1raGyZi7wROHuWMhYZMX/BPPx5DrifGxfjd4Xk%2BLCfFC68ax%2BIZ/hxI2hRTXGgQ6DLax6WNSEyI1nbxSGT7b5puFLljGxhoA%2Bj/AOval4q8C6N4n1m30uK71HSre6uotE1Y39kkkkauwt7oxxG4iyTsl8tN64bYucD8a9O1K60n4Sf8FGfiXeN8lr8Q77wvpjjstz4t1Tzk/FrlPzr9Xvg3%2By18Ofhj%2By3oP7KHirTrLxj4d0rQI9M1C38QaTBLbako%2BZ99qytEsZckrDgqihVHCivy48OfC3w/wCEP2Ivjh8OPDHhuy0nTvHP/BQHVvC2j6VptokFvDYW/iJhDBFEgCoieTIqooAUKAAMV83xRGUsAmunP97pVIr8ZI%2Bm8P8ABwxninw77RXhDGUqkv8ADBScvwP12%2BF3hgeCfhn4d8GCPb/ZGhWdlt9PKhSPH/jtbtFFfRRioRUV0Pnq9aeIryqz%2BKTbfq3dhRRRVGQUUUUAFFFFABRRRQAUUUUAFFFFABRRRQAUUUUAFFFFABRRRQAUUUUAFFFFABRRRQAUUUUAFFFFABRRRQAUUUUAFeM/sv8A/Jb/ANo7/ss1j/6hXhevZq8Z/Zf/AOS3/tHf9lmsf/UK8L0AezUUUUAFFFFABRRRQAUUUUAFFFFABRRRQAUUUUAFFFFABRRRQAUUUUAFFFFABXjPjj/lIX8L/wDsjPjz/wBO3hCvZq8Z8cf8pC/hf/2Rnx5/6dvCFAHklzqS/syf8FfrnVPE8RtfDv7Qvgi0s9M1LOIm8QaSCi28h6KzWrDYSfmZgoBOcV/7Y/4Yj/4KfavfeLLf7L8P/wBpKKxTTNWDYg0/xVZxGL7NJ2Q3UbblbPzyEDGFYr61/wAFB/2X779qv9m3UvCXg%2B8Nj4z0C6i1/wCH2rxuEksdatCZLdlc/c3ndEW7CQnqBXD%2BD5vh3/wV3/4J4Jpvjm1OlatqVsbTWEjjK3PhnxLZna0iKcNG0cwDqpILRSBTgOa%2BXrYetSxMqNL41J1qV9m3dVIP1cnr0U0/snp%2BHmd4Dh3iLFZRml/qWOhKM2leUYTnGcpxXWdCvGFZL7cXybNs%2Bp6K%2BcP%2BCdn7T3jP4s%2BDtZ%2BAH7QjJafF/wCFd4NH8b2bP82oIo/0fVIs43xXEe1twAG7JwFZM/R9e/hMVSxuHjWp7Pvuns0%2BzT0a7m3EORY7hrOKuXYu3PB7p3jOLSlCcH9qE4tThLrFphRRRXSeMFFFFABRRRQAUUUUAFFFFABRRRQAUUUUAFFFFABRRRQAUUUUAFFFFABRRRQAUUUUAFFFFABRRRQAUUUUAFeM%2BOP%2BUhfwv/7Iz48/9O3hCvZq8Z8cf8pC/hf/ANkZ8ef%2BnbwhQB7NRRRQAUUUUAFFFFABX5o%2BI/CenRaT8EPh5p5Z38R/t%2BeN/Et6jY%2BdrLxZrzMOOqhdg59K/S6vzl8Df8VR%2B2n%2Bzl4NX5otL%2BMHx31u9T/d8SavFC34SZryM7ipYFR7zpx/8CqRT/Bs%2B/8ADKMY8WLEv/lzQxdX0dPCV5r75JJebP0aooor1z4AKKKKACiiigAooooAKKKKACiiigAooooAKKKKACiiigAooooAKKKKACiiigAooooAKKKKACiiigAooooAKKKKACiiigArxn9l/wD5Lf8AtHf9lmsf/UK8L17NXjP7L/8AyW/9o7/ss1j/AOoV4XoA9mooooAKKKKACiiigAooooAKKKKACiiigAooooAKKKKACiiigAooooA8w/bT%2BL3ir4B/smfEP4x%2BBo7U634f8KXl1o730Re3huhGRFLKoILRI5V3XIyqsMjOR598Kfj14j%2BAd18cvDX7THxs1DxboHwe0yy8RTeOdZ0myt71dMm0x7q4hnj063ggd4Xtp3UxwqxjmiVg7KXf33xp4N8K/EXwdq3w%2B8daBa6romu6bPp%2BsaXexB4by1mjaOWGRTwyOjMpHcE1yHwc/Zb%2BDfwF3v8ADTT9egmuL2W8v7vVfGmq6ncajO8ENv5l3Ne3Msl2Uht4IovOZ/JSMLHsGQQDwf8A4Jcftq63%2B1v4o%2BMdr4r/AGgfBni%2B40bxbp11oeh%2BD9Z029i8OaXe6PZXKWPnWRb7V5M73EL3Ls4knhnCFUVY07O/%2BJ3hvxj/AMFNvBfgzSdN8Qw3nh74PeOI7%2BbVfCOo2NpKX1bwlg211cwRwXoG05a3eQLkbiNy59p8LfDHwP4K8V%2BJvG/hnQ/s2qeMdSgv/El19plf7ZcQ2kNnG%2B12Kx4gt4UwgUHZuILEk%2Bb%2BOP8AlIX8L/8AsjPjz/07eEKAPZq%2BJvjFD44/4Jj/ALSfif8Aa08L%2BFp9a%2BB/xKv4Lr4paXpULPdeFNUA2NrMUQ/1kEuczgDduOeyA/bNQ6hp9hq9hPpWq2MNza3MLRXNtcRB45Y2BDIynhlIJBB4INcWNwf1uCcZcs4u8Zdntquqadmuq7OzXnZjgPrtOLhLkqQfNCW9nZrVdYtNqS6p9HZr5q/aX/ZP8N/tX2nh79sP9kH4qWnhr4oabpqXPgz4gaRIJLPWbRhuWyvlUEXFq4OOQxTPRhlDc/ZG/wCCgWhfGHxDP%2Bzz%2B0RoMXw6%2BNOiN5Gt%2BCNTnCJqDAZF1p0jHFzBIAXUKzMoz95QJG86vv2dv2q/%2BCcviTVfGn7Dfh%2BD4gfCXUb57/VvgpeXRivtFkc7ppNGnbIKk5b7OwPPCqzNuHRQeKf%2BCdv/AAV28Djwl4ltIj4p0hnVtE1Yf2X4r8MXSHLbBnzYyjAElC8JZcNuwQPDhUrU8VemlTrv4oS%2BCpb7UJd/NJu2k47NfccP8e5Tm2ApcO8X05RdNWo1YWdWir6qm5OMa9Bt83sXKMoN80JU25qf1lRXxtaWH/BT39h6M6bo9vbftJfDuzP%2Bii7vhYeMLC3H8LOwMV/tHfmWQ/3BgDvfgt/wVT/Y1%2BL2r/8ACFa38QpfAHi6JxFe%2BDfiTaHRtQtpT/yzInxG7HsqOx9q9Wlm%2BGc1Tr3pTfSel/8ADL4ZfJvzSPWx3h5nkcPLGZS447DLV1MPebiu9WlZVqPn7SEY30jKW59GUU2CeC6hS5tpkkjkUNHIjAqykZBBHUU6vUPgmmnZhRRRQAUUUUAFFFFABRRRQAUUUUAFFFFABRRRQAUUUUAFFFFABRRRQAUUUUAFFFFABRRRQAUUUUAFeM%2BOP%2BUhfwv/AOyM%2BPP/AE7eEK9mrxnxx/ykL%2BF//ZGfHn/p28IUAezUUUUAFFFef/tL/HG5%2BAPw1i8WaL4RXxBrWq%2BIdL0Hw3ocmo/Y473UdQvYrSBZZ/LkMEKtL5ksgjkZYo3KpIwVGAPQKK%2Bfrz9uS%2B0D9kzx5%2B0L4s%2BEYtvEHw31e/0jxX4Us9dM9rbXtrcLE0ovjbofsPlSRXbXLQK0duzO0IZGjrjrH/gqLp11%2ByP4r/aNsvhroviDVtG8TXnh/wAJ6V4H8crqujeM7yCzW8aXTdW%2ByxebaRx/aPtE/wBnzAdOvcJL5I3gH1lX5v8A7IN/aax/wU8jhvpgtt4Q8OfFLU2kIJCS3XxN1m22gDncVAwBya/QP4XeNf8AhZPwz8O/EX%2BzPsX9v6Faal9j87zPI8%2BFJfL37V3bd2N2BnGcDpX52/8ABM3/AIqv9v8A/aM18/N/wifjPUtE3f3PtXj/AFm82/jjNeTmvvSw8P5qkf8AyVSn/wC2n6BwH%2B5oZxiv%2BfWCq/8AlWpSofj7a3zP0a/4TDSf%2BfTVP/BHd/8Axql/4TDSf%2BfTVf8AwR3f/wAar528ff8ABZH/AIJvfC/x3rXw08c/tG/Ydb8O6tc6ZrFl/wAIhrEv2e6t5Wilj3x2jI%2B10YblJU4yCRzWT/w/L/4Jaf8AR0P/AJZOt/8AyFVSzzJYScZYqmmv78f8zOj4WeJ2IpRq0sjxkoySaaw1Zpp6ppqFmmtU0fT/APwmGk/8%2Bmq/%2BCO7/wDjVH/CYaT/AM%2Bmq/8Agju//jVfO3gH/gsj/wAE3vih470X4aeBv2jft2t%2BItWttM0ey/4RDWIvtF1cSrFFHvktFRNzuo3MQozkkDmu%2B/b%2B%2BMHxM/Z9/Ym%2BKfxx%2BDdpps3ifwl4H1DVdHXV5mS3WWCFpN77Y5N21QzBNuHZQhZAxdevDY3B42Llh6kZpb8rTt9zZ8/nnDHEnDNWFLOMFWw0pq8VWpzpuSWjaU4xbSel0el/8JhpP/Ppqv8A4I7v/wCNUf8ACYaT/wA%2Bmq/%2BCO7/APjVfPep/tufG3wr8Q/HPgv4hfArwJoWn/DL4eWnibxz4nu/ipdGxt3u4tUa3trbGjiWdQ%2BnxiWV0iKJcFo45nQRScz8Nv8AgpVq/wAVdU8M6Hq3wn1fwvrcXxol8HeIdIWW8toZEPg/UNfhn26xo9pevC6QxJt%2Bz2kglQMsskKlbjpPDPqr/hMNJ/59NV/8Ed3/APGqP%2BEw0n/n01X/AMEd3/8AGq%2Bef2Sv2%2BfiT%2B0Pp%2BiXHjn9mD/hH7vxZ8JtF%2BIPhPS/D3jWHVZ7rTr5gjwTm4gsore4hLxMVDyI6PkOGUx11P7Vfiz4q6l8Wvhf%2Bzx8LfivqHgRvG11rF1q3ivRtNsbq9it7CyEi20C39vcW6tJNNCzM8TnyoJVXazCRAD13/hMNJ/59NV/8Ed3/wDGqP8AhMNJ/wCfTVf/AAR3f/xqvnKD9oT9pH4n/wDBMjwh8f8A4fWlz/wnOu6R4dm8Q3fhXQ1vbi3tJb%2B0i1jUNOspFkE8qWZvLm3gKy7mWNdk5xG/F%2BAvjj%2B0r8aP2aviDqHgXxd8bdQ134Z/Eq/0PSrnw74U8L6Z4k8UWYsbS8t5byz16zhtINgvQjJHFbTN5A/dq5aKgD7B/wCEw0n/AJ9NV/8ABHd//GqP%2BEw0n/n01X/wR3f/AMar4Wg/bQ/aZ8ZeAof2gtJ%2BOOnx2XgbwJ8NNV1bw94b0S2bSvGdxrsiPqUpe8tzeQwtDII7NYngeOVWaYTA%2BUuzo37cXxI%2BFOrad%2B078d/jPcTfDvxH4m%2BJGnav4ObRbJYPDFj4cm1I211bSxQLdSTGDSJEnSeaVWmvAI1iCBWAPs//AITDSf8An01T/wAEd3/8aq/YX9pqdol9YziSKQZVgCO%2BCMHkEHIIPIIr5P8A%2BCWP7Zev/tZ6l8Z7bxl%2B0H4L8aX3h34g2T6RpngzWdOvYPD%2Bk3ug6XeR2KzWRP2pIbqW/tzduWMsttPgqEEcf1D4P/5BM3/YUvv/AErloA1aKKKACiiigAooooAKKKKACiiigAooooAKKKKACiiigAooooAKKKKACiiigArxn9l//kt/7R3/AGWax/8AUK8L17NXjP7L/wDyW/8AaO/7LNY/%2BoV4XoA9mooooAKKKKACiiigAooooAKKKKACiiigAooooAKKKKACiiigAooooAKKKKACvGfHH/KQv4X/APZGfHn/AKdvCFezV4z44/5SF/C//sjPjz/07eEKAPZqKKKACvF/2lv%2BCfn7KX7V90viD4q/DCCPxHBtNl4x0KZrDV7V1%2B4y3MOGfb/Csm9R/dr2iisa%2BHoYqm6daClHs1dHPicJhsbSdLEQU4vo0mvxPj%2BH9nv/AIKlfszJ5H7PX7U/h74t%2BHLY/wCjeG/jJYyR6nHEP%2BWa6lbfNPJ6NMFUenryPxg/au8PeLdF/wCEU/4KX/8ABJfxnbwQKUk1zTPD9t4q0u1HeRby3xJb56jYCwzjPWvu6ivMqZQ1Bwo1ZKP8srVI/dK8reSkkcmDwmZZPiI4jKcbVoTjrG0nK3o376/7dmkfmL8NtK/4JnX0v2j9hL/gqr4p%2BCty0h8jwzf%2BLJY9Kjlz91tP1gJ5jBuMeYe4Gc17n4bvv%2BCvPgzTE1XwD8WPgb8d9DX7t9NFNo2o3Q7bWtWa0Un3Jr6R%2BJn7NP7O3xoDn4ufArwh4meQYabXPDltdSD3DyIWB9wQa8N8Q/8ABF//AIJ66pqLa94V%2BEGoeEdTY8aj4P8AFeoWLp/uosxjX8Erzf7HzDD/AMBRX%2BCc6a/8AaqQ/A%2B5/wCIm%2BItTTN6WEzJdXiKdqj/AO43LKv/AOVl95QH/BRD9qj4efu/2hf%2BCWnxSsBHxNdfDy9tPE8ZH98CBoyF74PIH0qzpf8AwWl/YKjvU0j4j%2BNfEvgTUHOBp/jXwRqNpIp7gssLouPdqrj/AIJc%2BO/CXPwb/wCCk/x/0NV/1NprXiuLV7WH0CxTRLhfYk1X1P8AZG/4KjaXZPpuk/8ABSfw74ssWGBpvjb4N2AQj0eSByz/AFIo9pxHQ2Upesacv/SZ0n/5L8g/1y4SxP8AyMOGKtN98JjFFL5Yn6xJry/FHsXgr9vr9iL4iBB4Q/az%2BHt1LJ9y2fxZaxTn/tlI6v8ApXqGieIvD/iWzGoeHNds9Qtz0nsrpJUP/AlJFfn741/YF/bo1su/iz9l/wDYq8bK2d93ceDL/TtQk/7aRIAM/WvMNb/4JqfF7T7w6o3/AASD8DT3y9L34ffH%2B%2B0hv%2BALPKUX8Vo/tnOaXx4a/wAqi/8ASYVPzF/anhRiPjlmWGfZ4WniV83TrUX81F%2Bh%2BrtFfkt/wzp%2B174L%2BbSP2W/2tvBfl9IfBH7Ten6lCPbYYDvHtmgeOv8AgoT4I/5BevftsWGzp9r%2BF%2BleJ8fXdLHv/rR/rPOH8TDTXomv/S4wD2fhrW/hZ97P/r/gsZT%2B/wBnSrfqfrTRX5Lf8N1/8FH/AAh/x/8Axm%2BL8u3%2BHxt%2ByLFZf99GzuX/AEpR/wAFif25vCv/ACE/HfwtmVfv/wDCVfCTxZZPj/t1jcA/pR/rflsf4kJR9eT9JsP7K4SqfweJMBL1nXpf%2Bn8PS/E/Wiivybg/4OCfjJpEot9dX4J6jKPvR2K%2BJrIn8bmyIH4mtrTv%2BDi7xfEwW8/Zj8F6oD1ksPjBDZ/ji6tAfwqo8ZcPveq1/wBut/8ApKZUeG8LW/3fOMun/wB1HBQ/9OV4M/UqivzZ03/g4m8MkBtf/Zdt7f8AvfYvi5o1xj8yma1Yf%2BDjn9ma0G7xF8DvF0OPvf2drWj3f5YvFzW64s4ff/L%2B3rGS/OJrDgzNaztRr4Wp/wBe8bgqn/pGIkfojRXwLo3/AAcYfsP6xjPw0%2BKtvnqX8NWcg/OK9bNdNpv/AAXt/YNvgDdR%2BPrIHvc%2BC5jj/v2zVtDiXIZ7YmP32/MuXAfFkXaOG5v8MoS/9Jkz7Uor5Ctf%2BC6H/BN2QZ1H4u61YDv9r8Eapx/3xbtWpp//AAW0/wCCX%2Bpf8e/7U1qntceF9Wi/9DtBW6z7JJbYmn/4HH/MS4A46krxyvESXeNGpJfeotH1TRXzfY/8FeP%2BCbWo4%2Bz/ALWvhxc/894rmL/0OIVs2P8AwU%2B/4J66hjyP2wvAa5/5767HF/6HitY5tlUvhrwf/b0f8yZcB8cwV5ZViV/3Aq//ACJ7vRXj9n/wUI/YOv8AHkftnfC0Z6CXx5p8f/oUorVs/wBtD9jvUMfYP2sPhpPnp5PjvT2/lNW0cdgZbVYv/t5f5nDU4V4oo/xMDWXrSmv/AG09LoribT9pf9nG/wAfYf2gPBE2enleK7Ns/lJWnafGL4R3%2BPsPxT8OTZ6eVrlu38nrVYihLaa%2B9HDUynNaPx4ea9YSX6HR0VnWvi/wnff8eXijTps9PKvY2/kavxyxTLvikVh6qcitFKMtmcU6VSm7Ti16odRRRTICiiigArxnxx/ykL%2BF/wD2Rnx5/wCnbwhXs1eM%2BOP%2BUhfwv/7Iz48/9O3hCgD2aiiigArz79pf4HXXx%2B%2BGsXhPRfF6%2BH9a0rxDpeveG9ck077ZHZ6jp97FdwNLb%2BZGZ4WaLypYxJGzRSOFeNirr6DRQB84S/sLeONV/Z/8W/B3xF8drCbVfGfiL/hKNZ8R2fg54lfXhqkV8jfZnvXVtNCW1raGyZi7wROHuWMhYYOu/wDBLDwZ8VPCvja/%2BPXxM1LUfHnjPWNV1M%2BKPAd/rHhWz0ye%2B0jT9JdIbKx1TdNCYNMtWkjubibzZPNJKrJsH1bRQBwPw8/Z0%2BHvhD9nDQ/2YvF2mReMPDuleG7bR7238WB9STU44o1Umdb15mkViudsjPtGFBwor4c/4Iu/Djw14J%2BIn7WVz4N8NWOkaRD%2B0xeaJpmnaZaJb21rb2Ov3ojhijQBY0RZwAqgBRgACv0hr4o/4JR%2BGTovw9/aC1yVPn1n9tHxzcK5HVE8SCAD6AxP%2BZrgxdP2mJw7/lk3/wCSTX6n1fD%2BMWEyTN4X/i0IQ/8ALrD1P/cZ9r0V8xeP/wDgpr/wgXjvW/Av/Dvn9p7Wv7F1e5sP7Y0D4T/abC/8mVo/PtpftI82F9u9HwNyspwM1kf8PYf%2Bsan7Wn/hm/8A7qrKWc5bGTTqaryl/kfncuIcohJxdXVf3Zf5H1pWL8R/h54M%2BLnw%2B1z4VfEbQYtV8P8AiXSLnS9c0ydmVLq0uImimiJQhgGRmGVIIzkEHmvnzwD/AMFNf%2BE98d6L4F/4d8/tPaL/AG1q9tYf2xr/AMJ/s1hYedKsfn3Mv2k%2BVCm7e74O1VY4OK9m/aT8YfE74efALxf8Qfgz4ctNZ8T6DoFzqWj6Lewu6alJAhlNqAjoQ8qo0aNuwrurEMAVPXhsZh8ZFyoyul5NfmduDx%2BEx8XKhLmS30a/NIxoP2Nf2eF8K%2BKfB2p%2BENS1ez8a%2BG7fQfFUviLxXqep3WpWEH2nyY5Lm7uZJ96fa58ShxKNy/P8ibc7wP8AsFfstfD3Ul1zw/4C1KbUh4uHiiXVta8Y6tqV5cauNIm0YXc1xeXUss7DT55bfEjMu0qcbkRl8N8R/wDBR/4m/Ejwtc%2BMf2XG0PVbDxH47m0j4USxeEl1RvEGnWGkLdareyNc63pVtDHFd%2BfAHa4XaLNwElaQeXxPg39ur4jfFzxHonx4svtNrp3jz4Zfs76rH4UbX737DpU/iLxdrttfyQfZp4tzmLyUZjlJ1tYVmSWJfKPSdh9h%2BGP2TvgR4JsdEsPB3hO90pfDnga08HaJNp3iPUIZrTRbV43gtVlScOdpijzIWMjAEM7BmB0fjf8As9fCn9onRNP0P4paPqMw0jUTfaRf6J4ivtIvrG4MMsDPDeWE0NxFuhmmicJIA6SMrAqSK%2BTfgn%2B1T%2B1B8bv2pPhB4w1PxV4R/sTx38LfH%2Bt%2BHPh7pV1e6e1rJZ3%2BjQW0GrSma4S6lj80o1wltEbaR7hFikzk%2B3ftv6t4kn0z4UfDeXxVqvh3SPHfxXsND8Z6l4b1240%2B6hszp9/dJBDe27RT2/n3trZ2vmRtHIy3BVSpcUAehSfs7/CxPAY%2BGGjWOsaLoEXhyw0Ky0zwz4r1HSo9PsbMk26Wn2O4iNm6g7TLAUldERGdljRV527/AGJf2fp/h5p3wtsbDxbpekabdXlyDoHxL17Tbu9nu3MlzLe3drex3F%2B8rku7XMkpZjuJJ5ry/wCEWo/tC/FP/gm3430P4T/Em7n8aWepeO/DngHxZrGqlri4t9P17VNP0y4kvJQ5aU2ttAPtbhy7YnbfuOeK/Z9s/ir8WdO%2BN/wLPgvx9YWHhLxTox8E%2BHvHH7QmrWmqw38ulRT3en3fiDSbq%2BukjG5LoQrNdbVuk3KqssUQB9Can%2Bwv%2BytqfiXwv4ob4UpaS%2BDtN0nT9CsNL1i9s9PFrpcxn0yGexgmS2vEs5SZbcXEcggcl49jHNaXgr9kj4AfD34wah8d/CXgme28Sai967yy69fTWdrJeyxy3strZSzNa2ctxJEkk0kEUbzOC0hYkk/Ac/xq%2BLni/wDZo1LX/GH7SXjLTNX%2BF37NfiLxT4av9L8WXdsL3xPp2sajZzNcPDMP7dgs3sLK2X7R5sV2l4JZIy9wu36R%2BL6fEf4f/tq/Bb4kWGs6to%2BgeOfFL6V4o2/FXV9QS9vm0LUnGlDw7P8A8S%2B0gV7aK4N9bsZ1ktyrQhJZpgAfSvhL4Y%2BB/AviXxT4v8K6H9l1HxprUWreJrj7TK/2y8isbWwSXa7FY8W1lbR7UCqfL3EFmZmteD/%2BQTN/2Fb7/wBK5a1Ky/B//IJm/wCwrff%2BlctAGpRRRQAUUUUAFFFFABRRRQAUUUUAFFFFABRRRQAUUUUAFFFFABRRRQAUUUUAFeM/sv8A/Jb/ANo7/ss1j/6hXhevZq8Z/Zf/AOS3/tHf9lmsf/UK8L0AezUUUUAFFFFABRRRQAUUUUAFFFFABRRRQAUUUUAFFFFABRRRQAUUUUAFFFFABXjPjj/lIX8L/wDsjPjz/wBO3hCvZq%2BcP2j9X%2BNej/t4fCef4HfD/wALeItSb4R%2BO1u7TxX4wudFgjg/tTwkS6S2%2Bn3rO%2B7aNhjUYJO/ICkA%2Bj6K8Z/4Tj/goX/0a/8ABn/w/Grf/MvR/wAJx/wUL/6Nf%2BDP/h%2BNW/8AmXoA9morxn/hOP8AgoX/ANGv/Bn/AMPxq3/zL0f8Jx/wUL/6Nf8Agz/4fjVv/mXoA9mor5x0n9o79u3WPjPr/wADrf8AZQ%2BEi6p4d8L6Rrt5cv8AHXVPIkg1G51K3hRCPDG4uraXOWBUAB48FiWC9R/wnH/BQv8A6Nf%2BDP8A4fjVv/mXoA9morxn/hOP%2BChf/Rr/AMGf/D8at/8AMvR/wnH/AAUL/wCjX/gz/wCH41b/AOZegD2aivGf%2BE4/4KF/9Gv/AAZ/8Pxq3/zL1y/gH9o79u34ieK/G/hDR/2UPhJDceA/FEWharJc/HXVAk88mlafqYeLb4YJKeTqMKksFO9HGMAMwB9HUV4z/wAJx/wUL/6Nf%2BDP/h%2BNW/8AmXo/4Tj/AIKF/wDRr/wZ/wDD8at/8y9AHs1FeM/8Jx/wUL/6Nf8Agz/4fjVv/mXo/wCE4/4KF/8ARr/wZ/8AD8at/wDMvQB7NRXzj8Iv2jv27fjL4Uu/F/hz9lD4SW1vZ%2BKNb0KSO9%2BOuqK5n0vVbrTJ3G3www2NNaSMhzkoykhTlR1H/Ccf8FC/%2BjX/AIM/%2BH41b/5l6APYrmztL2Pyby1jmQ9VlQMPyNYuofCz4Y6tn%2B1PhzoNznr9o0iF8/mteb/8Jx/wUL/6Nf8Agz/4fjVv/mXo/wCE4/4KF/8ARr/wZ/8AD8at/wDMvUyhCW6uRKEJ/Ekzrr79mT9m3U8/2l%2Bz34HuM9fP8J2b5/OOsi9/Yj/Yv1LI1H9kT4YT56%2Bd4B05v5w1kf8ACcf8FC/%2BjX/gz/4fjVv/AJl65f4I/tHft2/Hj4MeEPjj4V/ZQ%2BElrpfjPwvp%2Bu6bbah8ddUWeGC7to7iNJAnhhlDhZAGCswyDgkc1jLCYWW9OL%2BSMJYHBT%2BKlF/9ur/I6m8/4J2fsEX2fO/Yx%2BGC5/54%2BB7GP/0CIVmXf/BL7/gnne5879jzwGuf%2BeWhRx/%2Bg4rS/wCE4/4KF/8ARr/wZ/8AD8at/wDMvR/wnH/BQv8A6Nf%2BDP8A4fjVv/mXrJ5bl0t6MP8AwFf5GEsoymW%2BHg/%2B3I/5HN3X/BJT/gnBd/639kbwqM/88o5k/wDQZBWfc/8ABG//AIJnXefN/ZP0UZ/55alfJ/6DOK7T/hOP%2BChf/Rr/AMGf/D8at/8AMvXL/G79o79u34D/AAY8X/HHxV%2Byh8JLrS/BnhfUNd1K20/466o080FpbSXEiRh/DCqXKxkKGZRkjJA5rN5PlL3w8P8AwCP%2BRk8hyOW%2BFp/%2BAR/yMS4/4Il/8Evrn/Wfsr2g/wCufifVk/8AQbsVSm/4IYf8Et5clP2ZXiJ7x%2BNda/reGvUP%2BE4/4KF/9Gv/AAZ/8Pxq3/zL0f8ACcf8FC/%2BjX/gz/4fjVv/AJl6zeR5I98LT/8AAI/5Gf8Aq3w9e/1Ol/4Lh/keR3H/AAQd/wCCYk/3fgPfx/7njPVD/wChXBqnN/wQJ/4JnS/6v4S61H/ueL77%2Bshr2j/hOP8AgoX/ANGv/Bn/AMPxq3/zL0f8Jx/wUL/6Nf8Agz/4fjVv/mXqXw/kT/5haf8A4BH/ACNoZJk9P4MPBekUvyPDZv8Ag34/4JtS/c8BeJY/9zxZcf1JqrL/AMG9X/BOWT7nh3xdH/ueKpP6qa9U%2BLv7R37dvwa8KWni/wAR/sofCS5t7zxRomhRx2Xx11RnE%2Bqara6ZA53eGFGxZruNnOchFYgMcKeo/wCE4/4KF/8ARr/wZ/8AD8at/wDMvUPhzIX/AMw0P/AUbxy/Bw%2BGNvRtfkz56l/4N3P%2BCd8n3bbxun%2B74nH9YjUDf8G6f/BP0Hdb6p8QoT6xeJos/rbmvoz/AITj/goX/wBGv/Bn/wAPxq3/AMy9H/Ccf8FC/wDo1/4M/wDh%2BNW/%2BZep/wBWsg/6BofcbKhGPwykvScv8z51T/g3j/YngObL4m/Fi39PI8WW4/8AbSp4v%2BCAP7K9qc2P7Q3xvt/TyfG1sv8A7Z19B/8ACcf8FC/%2BjX/gz/4fjVv/AJl65fx9%2B0d%2B3b8O/FfgjwhrH7KHwkmuPHniiXQtKktvjrqhSCePStQ1MvLu8MAhPJ06ZQVDHe6DGCWU/wBWsiW2HiDw8Zbyl/4HP/5I8vt/%2BCE3wHs/%2BPH9rv8AaFt8dPJ%2BIVuv/tlV63/4IpfDmyGLH9uv9piHHTy/idCP5Wde1f8ACcf8FC/%2BjX/gz/4fjVv/AJl6P%2BE4/wCChf8A0a/8Gf8Aw/Grf/MvVrh7JltRX3v/ADOeeW4Wp8XM/wDt%2Bf8A8kePxf8ABHjTLX/jx/4KLftRQ46bfioo/lbCj4E/skXH7LH/AAUJ8GrN%2B018VPiKNc%2BDPjLaPiZ4sOqf2d5OreFs/ZvkXyvM835%2Bu7yo/wC7XsH/AAnH/BQv/o1/4M/%2BH41b/wCZeqHgfwP%2B1Z4x/as8OfG743fDj4e%2BGdG8M/D3xDocMPhX4h32tXV3dalfaJcIzJcaRYpFGiaXKCwd2LSoAuMkdGHynL8LVVSlC0l5v07io5XgsPWVWCfMu8pPy2baPdaKKK9E9AKKKKACiiigAr5y/Yh8M6d4X/Z48WXlj5hF7%2B0N4/1O%2BdhnB/4TzVN7cDoqRj8Fr6Nr5K/ZK8Wftnaf8PfFFn8MfgH8MNX0JPjT8Rf7P1HXvi7qOm3cy/8ACZ6yWMltFoFykRDbgAJnyADkE7Qmk3cuNScYOKej387H1B/wnPgn/ocNL/8ABhH/APFUv/Cc%2BCf%2Bhw0r/wAGEf8A8VXlv/Ccf8FC/wDo1/4M/wDh%2BNW/%2BZej/hOP%2BChf/Rr/AMGf/D8at/8AMvTIPUv%2BE58E/wDQ4aV/4MI//iqP%2BE58E/8AQ4aV/wCDCP8A%2BKry3/hOP%2BChf/Rr/wAGf/D8at/8y9H/AAnH/BQv/o1/4M/%2BH41b/wCZegDUvvgZ%2BxRqnw40n4O6n8HfhbceEdAvftmheFZ/D2mvpum3O6RvOgtinlQybpZTvRQcyOc/Mc6Gn/Dj9lHSbW1stK8B/D22hsrTSbSyht9LsUW3g0ueS40yJAFARLSeWWW3UYEEkjvGFZiT5n8Ef2jv27fjx8GPCHxx8K/sofCS10vxn4X0/XdNttQ%2BOuqLPDBd20dxGkgTwwyhwsgDBWYZBwSOa6j/AITj/goX/wBGv/Bn/wAPxq3/AMy9AGrY/A/9irS/FOt%2BOdM%2BEHwut9b8SwXUPiPWIPD%2BmpdarHdY%2B0pcyhN86y7V8wOSHwN2cV0HjfSvgB8TPBFz8MviRpvg7xB4bvIUiu/D2uQ2l3YzxoysiPBKGjZVZVIBXAKgjoK4r/hOP%2BChf/Rr/wAGf/D8at/8y9H/AAnH/BQv/o1/4M/%2BH41b/wCZegDqh4J/ZhHh638Ijwj4DGk2nhufw9a6X9gsvs8OkTiNZtOSPbtW1kEMQeADy2ESAqdoxh3X7Pn7DF98LbX4HXvwQ%2BE83gqyvzfWfg%2BXw1pjaXBdHfmdLQx%2BSkn7x/nChvnbnk1xPxu/aO/bt%2BA/wY8X/HHxV%2Byh8JLrS/BnhfUNd1K20/466o080FpbSXEiRh/DCqXKxkKGZRkjJA5rqP8AhOP%2BChf/AEa/8Gf/AA/Grf8AzL0AbviD4TfsgeLLHwxpfir4afDbU7bwTLHL4Mt9Q0bT5o9AdAgRrJXQi1KiNMGLaRsXHQU/Svhb%2ByPoXxVu/jtonw6%2BHFn43v1Zb7xla6RYR6rcKyqjCS7VRM4KqqnLHIUDoBXP/wDCcf8ABQv/AKNf%2BDP/AIfjVv8A5l6P%2BE4/4KF/9Gv/AAZ/8Pxq3/zL0Aeo/wDCc%2BCf%2Bhw0v/wYR/8AxVHgw79DM6g7Jr67liJGNyPcyMrfQqQR7GvLv%2BE4/wCChf8A0a/8Gf8Aw/Grf/MvXL/F39o79u34NeFLTxf4j/ZQ%2BElzb3nijRNCjjsvjrqjOJ9U1W10yBzu8MKNizXcbOc5CKxAY4UgH0dRXjP/AAnH/BQv/o1/4M/%2BH41b/wCZej/hOP8AgoX/ANGv/Bn/AMPxq3/zL0AezUV4z/wnH/BQv/o1/wCDP/h%2BNW/%2BZej/AITj/goX/wBGv/Bn/wAPxq3/AMy9AHs1FfOPj79o79u34d%2BK/BHhDWP2UPhJNcePPFEuhaVJbfHXVCkE8elahqZeXd4YBCeTp0ygqGO90GMEsvUf8Jx/wUL/AOjX/gz/AOH41b/5l6APZqK8Z/4Tj/goX/0a/wDBn/w/Grf/ADL0f8Jx/wAFC/8Ao1/4M/8Ah%2BNW/wDmXoA9morxn/hOP%2BChf/Rr/wAGf/D8at/8y9cvq37R37duj/GfQPgdcfsofCRtU8ReF9X12zuU%2BOuqeRHBp1zptvMjk%2BGNwdm1SAqApBCSZKkKGAPo6ivGf%2BE4/wCChf8A0a/8Gf8Aw/Grf/MvR/wnH/BQv/o1/wCDP/h%2BNW/%2BZegD2aivGf8AhOP%2BChf/AEa/8Gf/AA/Grf8AzL0f8Jx/wUL/AOjX/gz/AOH41b/5l6APZqK%2BcdJ/aO/bt1j4z6/8Drf9lD4SLqnh3wvpGu3ly/x11TyJINRudSt4UQjwxuLq2lzlgVAAePBYlgvUf8Jx/wAFC/8Ao1/4M/8Ah%2BNW/wDmXoA9morxn/hOP%2BChf/Rr/wAGf/D8at/8y9H/AAnH/BQv/o1/4M/%2BH41b/wCZegD2aivGf%2BE4/wCChf8A0a/8Gf8Aw/Grf/MvXL%2BAf2jv27fiJ4r8b%2BENH/ZQ%2BEkNx4D8URaFqslz8ddUCTzyaVp%2Bph4tvhgkp5OowqSwU70cYwAzAH0dRXjP/Ccf8FC/%2BjX/AIM/%2BH41b/5l6P8AhOP%2BChf/AEa/8Gf/AA/Grf8AzL0AezV4z%2By//wAlv/aO/wCyzWP/AKhXhej/AITj/goX/wBGv/Bn/wAPxq3/AMy9W/2Vvhz8afB%2BsfFDx38dNA8L6Tqnj74hRa5Z6V4T8S3OrW9raxaDo%2BmKr3FxZWbNI0mnSuVEW0LIg3Mc4APW6KKKACiiigAooooAKKKKACiiigAooooAKKKKACiiigAooooAKKKKACiiigAr5X/ae/a0%2BLnww%2BMfizWvAPh3wfJ4Y%2BD/AIf8P3vjU61pFxNquqW%2Br38qXMFhcR3EaWXkW1nHcZkinFzIUjIh8vzT9UV4z8Z/2Ifhx8bvikfiZrnjnxVpcWo2ukWvi/w1o11app3imDS72S9sYr5ZbeSYLHNNLn7PLAZY5DFMZYwqAA9mooooAKKKKAPmPw5%2B0r8TIf2//FHwf%2BI2seHvCfhtfEFpongyLUfhFrKXXjGAaBBqOIPEbXa6c0sd3c6gBaCF5PLtJgFBZpF%2BnK8r8WfstQeP/jJpHxT8e/G/xrq%2BleHtdj1rQPAFwdMi0ax1CO3eCOcNDZJey7PMkkVJrqSMSPu2fIgX1SgAooooA8X/AOCgvxd%2BOH7P37I/jT49fAK98KR6x4J0K71y6g8YaLc31td2lrbSzPboltdWzJK7IiiQuVQFiUfgV5/48/a0%2BLngv48eLdT8KeHfCEXw88IfGPwj8PvGVnNpFwdb1XVddg0VI9Qhu0uFhjjg/tzSYzFJbyvIkM%2BJY9qCvYf2sf2cbL9rT4Ea9%2Bz7rXxV8U%2BEdJ8T2Utjrl/4QXTvtdzZSxPFNbbr%2B0uo0R1flkRZAVG115zxcH7APg6f4i2fxF8VfHHx9rrHWdJ1zxNo2oS6VFY%2BJ9c0xI0sdWvY7awiZbiIQWmFtmggY2NsXiYx5IB73RRRQAV4v%2B2T8Xfjh8ErXwD4x%2BFl74U/sbUPiZ4c8PeL7HxBotzc3Vza6rrNjpoNnLDdQpbSRrcyyb5EnUlEXZyTXtFeVftXfstv%2B1V4b0LwvP8AH3xv4Gt9C8SWGuo3guHR2e7vbG8gvLNpTqWn3g2xXFvG4WMIG5WTep2gA84/Z5/aV%2BJmt/tVeLfgj8UNX8PeE9Oh8U63b%2BCfCUnwi1nTLnXraF0lN/b61cXf2DUHYyTSyxW0BfkuxXDE/TleS6T%2ByiH%2BMmi/GX4j/tAeO/Gs3he7vLvwnoXiEaTDYaPdXNvJayXES2Gn20sr/Z5p4V8%2BSVUWd9oBII9aoAKKKKAPD/27vi58eP2fvg1q/wAdfhR4x8C2On%2BFtFuby90XxZ4Zvb%2B58Q3uUWz0yzktr2D7PNcSkW6N5V0zSzxBYWPyt5/8Ef2vvjPrnxL8Ff2t4M8JaR8NPG/xP8UfDbwr4a07S5o9X0S/0CHVt889yLhreaCRvD%2BposMdvEY1a2PmSZYD0/8AaV/ZBg/aS8eeCPiBN%2B0D478IXPgG7ub3RbHwxFo09nJeyoI1vJoNT068R54Y/MWGQBTGJ5SPmbIq%2BA/2Gvh74D%2BMtv8AF2H4i%2BLtSg07XdT17RPCGpXNl/ZOla3qMbx6hqkCRWqT%2BfOJ7ssrzPCjX1yY4o/M4APa6KKKACvl/wDa5%2BPH7S/wW%2BImn%2BFNKh8AeNdH8cw61baL8OYvB99JrCWtpod1dyX9xOL14rq2F1Fb20kItYgft8KCYyMiSfUFeHTfsTXEf7R/iv8Aaa0T9qv4l6dq/i3TYdOudLhg8Pz2mn2cMDRw21m1zpMtzbxLK73WxZtrzuXcODtoAZ%2Bwh%2B0H43%2BPfw9vLr4r%2BPtGvvF2nCzbX/Ddl8LtX8I3mgPPbLKILmy1e6nuHBbf5dwAkciodobaTXuleb/A79m7Tvgz4n8SfEPWPil4p8ceKvFcVjb6x4n8XNYLcvaWYm%2By2qRafa2ttHFG1zcuNsIZmuJCzNkY9IoAKKKKAPjn/goJ%2B3H8VP2MPHP9p65ougeMfCL6NqOt2/hWX4c6nZS26abo19qSSf8ACRTXT6ZPd/a9NGyxWBLoRzLKBthaRvXv2aPi78c9W%2BKnjf8AZ6/aOufCmoeJ/COk6HrUeteCtIubCxubHVBeRpEYLm5uXWWK4067Uv5uJEMTbIySorfHX9hLwR%2B05rV1a/H/AOLfjXxR4LuZLiRfhleSabDosUk1jNZM2%2B3so76QCO4mYJLdOgd9235EC9P%2Bz5%2BzNpHwDvNe8RXfxQ8WeOPEfiQ2cereKvGtxZvfS21pEYrW1H2O2t4ViiDysMR72eeV3Z2cmgD0qiiigAr4j/an/bK/az%2BDfxq8QfCjwd4b8OeNdTsNFuNd8MBPgf4gjk0UDUdMtUMLfbnHiaQWOqXHnf2X5TwtCVlEYmEdfbleH69%2BxbqfiXx6fidrX7XPxRm1vT4LyLwbeFNAA8KrdTQyT/ZIxpOydmjgW33Xq3TLEzhSruzkA6r9lj4sP8ZPhHB4svfiZo3iq/h1G6stUvtG8GX3h0W1xFKytazabqFxPdWc8YwrxzOHz821QwFejVw3wD%2BAvh74AeGdT0bSvFOt%2BINR1/XrjW/EniTxHNA17qt/MERp5RbxQwJiOKGJUhijjVIkAUYJPc0AFFFFABRRRQAUUUUAFFFFAFHxR4hsPCXhrUfFeqhza6ZYzXdyIly3lxoXbA7nCmvnP9ib9pP41%2BP/ABTo/gz42eHvBlmPHXwtsviN4Zh8GaVcWg0yO8uCbvT7szXEou5o3ubZ/tiCATtLMTBHtBf6Wu7S1v7WWxvbdJoZo2jmilUMrqRgqQeCCOMV5D%2BzN%2BxX4C/Zg1V9X0D4g%2BLfEstt4YsfDPh0eLL21mGgaFZvI9vptqbe3hLRqZPmlnM1xII4vMmfy1wAexUUUUAFcL%2B1B48%2BIvws/Zo%2BInxO%2BD/hRde8W%2BHPAur6p4W0NrGa6Go6jb2csttbGGBllmEkqInlxsHbdhSCQa7qs7xbol/4l8Mah4f0vxXqOhXN7aSQ2%2BtaQsDXVi7KQJohcRSxF1PIEkbpkfMrDIIB5d%2BxT8Wp/ih8M76y1b4heH9Z1Pw7qq6deaZonww1Pwc%2BhoLaCSKzuNK1S5nuYXCOJFdvLR4pYtiYG9/Yq88%2BA/7O2k/A688S%2BI7n4ieJPGPiTxfqMN54i8U%2BK3sxd3Rht0t4IhHY21tbRRRxoAqxwpks7MWZmY%2Bh0AFFFFAHy5%2B1R%2B1j8UP2cPi944sviVo3hLxF8L7D9nfxf49ttCt9EuE1V20QaWs9tcXMly9vNFOt9OAgtkKhEy75YV2/7M/xf%2BPmqfFzxl%2Bzr%2B0s/hK88UeGPDHh7xLHqvgrSbmxspLLVn1K3W2MNzc3LmWG40i7BlEgWRHiby4zuWoPjH%2Bwr4d%2BOnx1b4y%2BPPjt45l02bwVqfhG%2B%2BHsMGi/2Jd6NqS232%2B0kL6a16RO1pA7OLoOpQhGRGZD0n7O/wCy7of7Pt9rXiOf4oeLfG/iHX7Wwsr/AMT%2BNrm0kvTYWKSLZ2Y%2ByW1vH5URnuHBKGR3uZXd3Zs0Aen0UUUAFfInxr/aX/a28Ga7%2B0B4Et/CvgzxZe%2BAvD/hTxJ8NrHSfh/qd/Oseo6rqUIS8tYrx5dRngXTY51NsLclyQq/KrV9d14XL%2BxR4hi%2BOnjb4/6F%2B2h8VtK1bxvpFjplzY2Vn4Ya0022sri5ns0thLoryfujeXSgzPKXWciTzCqFQDq/2VPi3N8ZfhSPE2o/E7RvFOo2uq3Njq11o/gi/wDDZs7iJvmtZ9M1G4nurSdFK7kmYMQyttVWFek1wnwD%2BAegfAHQtZsdP8W654j1XxN4gl1zxP4m8SS27Xuq38kMMHmyC2hhgjCwW9vCqRRRoqQoAuck93QAUUUUAfG37S37Xf7S37PHxmg%2BG2sp8M/Gt9rcEE3hGHTvC17aS%2BC7zUvEOmeHtIm1OV76YXUU7avOC0S2cjixuljDL5hi9x/ZV%2BL/AMSPiMPH/wAPvjEdEn8VfDTx43hrWdV8NadNZ2Gp%2BZpenatb3ENvNPPJb5tdUt0eNppcSRyYYgjHC23/AATV8JNdfEN/EP7S/wATtZt/iTrx1zWLfUjoXmWepRXEM%2Bn3NtdRaWl0psHt7cWkbzSRRLCgZH5z6x8A/gLofwD8Patptl4v1zxJq3iLXpta8T%2BKPEr2xv8AV76SOKHzphawQQLsggt4ESKKNFjgjULwSQDuqKKKAGXP2n7NJ9j2edsPlebnbuxxnHOM18QfFb9rn9tP4afETXPhtb23gPxnr3hi98NW%2BreOvBHwV1/Vo/DlvqzXj3thLpVnqU93czRw2VjdExTp%2B7uoWlgQGJpPt67hkuLWW3hupIHkjZVniCl4yRgMu4FcjqMgj1Br57%2BDH7AXiD4CfDa4%2BGnw7/bq%2BMUUd1qz6nNrN5ZeE59Qlu5XlkuZ5pn0I/aZJ3l3SSTiR8xpsKAYIB6z8BPiHZfFb4O%2BH/iFYfEDRvFSanp4kfX/AA/pM1haXcgJWQpazzTS2xV1ZGhkkd42VlY7lIHX1yXwL%2BC/hL9n34X6d8KfBVzf3FlYS3VxNfarcia6vru6uZbq6upnCqGlmuJ5pX2qq7pDtVVwo62gAqj4nh8SXPhvULfwbqdjZavJZSrpd5qdg91bQXBQiOSWGOWJpo1bBZFkjLAEB1J3C9Wb4x0G/wDFHha/8O6X4t1LQbm8tXig1rRxAbqxcjiaIXEUsRdTyBJG6HHzKwyKAPh74b/t2fta/GD4p638EvhZpvw%2BTxnptrrt9J4z8V/C7WtDXVNM0i10WVLGXRLy%2BTUNPle78Q7EmnmePyoZLhIXWdAfsb4BfFrTfj58CfBXx10bTZbOz8a%2BEtN160s5n3PBFeWsdwsbEAZKiQAn1FeLav8A8EyPA%2Bta5ffEW7/aU%2BKafEDVkvLXWviTbXukQ6tf6ZdW1rbTaYUTTRZw2xSytGHkW0UqyQLKsocsx%2Bg/Bfg/w18PPB2k%2BAPBmkxafo%2Bh6ZBp%2Bk2EOdltbQxrHFGuecKiqo%2BlAGnRRRQBy/xp1Hxxo3wt1rW/hz4hsdL1awszdQ32oeD73xAiRxkPKBp1jPBc3kjRK6pFDIHLsuFc/I3xb8Jf%2BCiPx%2B8SeNND1PxvceEfAngzUp518QeOLz4GeIprbWL%2BHX7rSES5lW%2BjTwzPJa2lr%2B41RpJYHlWN87AlfbfxM8Ga7498JTeHPDfxS1/wbeSSxvFr/hmKxe7g2sCVVb%2B2uYGDAFSHibgnGDgjxW6/4JzeFNQ8H3Hw21b9pD4m3fhjXNQmv/HmgTXGjiLxhdz3jXVxNfSrpouIvNLLC0dnLaxCGJI1RRu3AH0TRRRQAUUUUAFFFFABRRRQAUUUUAFFFFABRRRQAUUUUAFFFFABRRRQAUUUUAFFFFABRRRQAUUUUAFFFFABRRRQAUUUUAFFFFABRRRQAUUUUAFFFFABRRRQAUUUUAFFFFABRRRQAUUUUAFFFFABRRRQAUUUUAFFFFABRRRQAUUUUAFFFFABRRRQAUUUUAFFFFABRRRQAUUUUAFFFFABRRRQAUUUUAFFFFABRRRQAUUUUAFFFFABRRRQAUUUUAFFFFABRRRQAUUUUAFFFFABRRRQAUUUUAFFFFABRRRQAUUUUAFFFFABRRRQAUUUUAFFFFABRRRQB//Z\">"
      ]
     },
     "metadata": {},
     "output_type": "display_data"
    }
   ],
   "source": [
    "s.run(tf.global_variables_initializer())\n",
    "\n",
    "BATCH_SIZE = 512\n",
    "EPOCHS = 40\n",
    "\n",
    "# for logging the progress right here in Jupyter (for those who don't have TensorBoard)\n",
    "simpleTrainingCurves = matplotlib_utils.SimpleTrainingCurves(\"cross-entropy\", \"accuracy\")\n",
    "\n",
    "for epoch in range(EPOCHS):  # we finish an epoch when we've looked at all training samples\n",
    "    \n",
    "    batch_losses = []\n",
    "    for batch_start in range(0, X_train_flat.shape[0], BATCH_SIZE):  # data is already shuffled\n",
    "        _, batch_loss = s.run([step, loss], {input_X: X_train_flat[batch_start:batch_start+BATCH_SIZE], \n",
    "                                             input_y: y_train_oh[batch_start:batch_start+BATCH_SIZE]})\n",
    "        # collect batch losses, this is almost free as we need a forward pass for backprop anyway\n",
    "        batch_losses.append(batch_loss.mean())\n",
    "\n",
    "    train_loss = np.mean(batch_losses)\n",
    "    val_loss = s.run(loss, {input_X: X_val_flat, input_y: y_val_oh}).mean()\n",
    "    # this part is usually small\n",
    "    train_accuracy = accuracy_score(y_train, s.run(classes, {input_X: X_train_flat}))\n",
    "    # this is slow and usually skipped\n",
    "    valid_accuracy = accuracy_score(y_val, s.run(classes, {input_X: X_val_flat}))  \n",
    "    \n",
    "    print (train_loss, val_loss, train_accuracy, valid_accuracy)\n",
    "    simpleTrainingCurves.add(train_loss, val_loss, train_accuracy, valid_accuracy)"
   ]
  },
  {
   "cell_type": "markdown",
   "metadata": {},
   "source": [
    "# Submit a linear model"
   ]
  },
  {
   "cell_type": "code",
   "execution_count": 15,
   "metadata": {},
   "outputs": [
    {
     "data": {
      "text/plain": [
       "0.254602"
      ]
     },
     "execution_count": 15,
     "metadata": {},
     "output_type": "execute_result"
    }
   ],
   "source": [
    "s.run(loss, {input_X: X_val_flat, input_y: y_val_oh}).mean()"
   ]
  },
  {
   "cell_type": "code",
   "execution_count": 16,
   "metadata": {},
   "outputs": [
    {
     "data": {
      "text/plain": [
       "0.9304"
      ]
     },
     "execution_count": 16,
     "metadata": {},
     "output_type": "execute_result"
    }
   ],
   "source": [
    "accuracy_score(y_val, s.run(classes, {input_X: X_val_flat}))"
   ]
  },
  {
   "cell_type": "code",
   "execution_count": 17,
   "metadata": {},
   "outputs": [],
   "source": [
    "## GRADED PART, DO NOT CHANGE!\n",
    "# Testing shapes \n",
    "grader.set_answer(\"9XaAS\", grading_utils.get_tensors_shapes_string([W, b, input_X, input_y, logits, probas, classes]))\n",
    "# Validation loss\n",
    "grader.set_answer(\"vmogZ\", s.run(loss, {input_X: X_val_flat, input_y: y_val_oh}).mean())\n",
    "# Validation accuracy\n",
    "grader.set_answer(\"RMv95\", accuracy_score(y_val, s.run(classes, {input_X: X_val_flat})))"
   ]
  },
  {
   "cell_type": "code",
   "execution_count": 18,
   "metadata": {},
   "outputs": [
    {
     "name": "stdout",
     "output_type": "stream",
     "text": [
      "Submitted to Coursera platform. See results on assignment page!\n"
     ]
    }
   ],
   "source": [
    "# you can make submission with answers so far to check yourself at this stage\n",
    "grader.submit(COURSERA_EMAIL, COURSERA_TOKEN)"
   ]
  },
  {
   "cell_type": "markdown",
   "metadata": {},
   "source": [
    "# MLP with hidden layers"
   ]
  },
  {
   "cell_type": "markdown",
   "metadata": {},
   "source": [
    "Previously we've coded a dense layer with matrix multiplication by hand. \n",
    "But this is not convenient, you have to create a lot of variables and your code becomes a mess. \n",
    "In TensorFlow there's an easier way to make a dense layer:\n",
    "```python\n",
    "hidden1 = tf.layers.dense(inputs, 256, activation=tf.nn.sigmoid)\n",
    "```\n",
    "\n",
    "That will create all the necessary variables automatically.\n",
    "Here you can also choose an activation function (remember that we need it for a hidden layer!).\n",
    "\n",
    "Now define the MLP with 2 hidden layers and restart training with the cell above.\n",
    "\n",
    "You're aiming for ~0.97 validation accuracy here."
   ]
  },
  {
   "cell_type": "code",
   "execution_count": 19,
   "metadata": {},
   "outputs": [
    {
     "name": "stdout",
     "output_type": "stream",
     "text": [
      "WARNING:tensorflow:From <ipython-input-19-7e0195c4414a>:5: dense (from tensorflow.python.layers.core) is deprecated and will be removed in a future version.\n",
      "Instructions for updating:\n",
      "Use keras.layers.Dense instead.\n",
      "WARNING:tensorflow:From c:\\users\\prasu\\desktop\\reposi~1\\course~1\\advanc~1\\enviro~1\\lib\\site-packages\\tensorflow_core\\python\\layers\\core.py:187: Layer.apply (from tensorflow.python.keras.engine.base_layer) is deprecated and will be removed in a future version.\n",
      "Instructions for updating:\n",
      "Please use `layer.__call__` method instead.\n"
     ]
    }
   ],
   "source": [
    "# write the code here to get a new `step` operation and then run the cell with training loop above.\n",
    "# name your variables in the same way (e.g. logits, probas, classes, etc) for safety.\n",
    "### YOUR CODE HERE ###\n",
    "\n",
    "hidden1 = tf.layers.dense(input_X, 256, activation=tf.nn.sigmoid)\n",
    "hidden2 = tf.layers.dense(hidden1, 256, activation=tf.nn.sigmoid)\n",
    "logits = tf.layers.dense(hidden2, 10, activation= None)\n",
    "\n",
    "probas = tf.nn.softmax(logits)\n",
    "### YOUR CODE HERE ### apply tf.nn.softmax to logits\n",
    "classes = tf.argmax(probas, axis= 1)\n",
    "loss = tf.nn.softmax_cross_entropy_with_logits(logits= logits, labels= input_y)\n",
    "### YOUR CODE HERE ### cross-entropy loss\n",
    "\n",
    "# Use a default tf.train.AdamOptimizer to get an SGD step\n",
    "step = tf.train.AdamOptimizer().minimize(loss)\n",
    "### YOUR CODE HERE ### optimizer step that minimizes the loss"
   ]
  },
  {
   "cell_type": "code",
   "execution_count": 20,
   "metadata": {
    "scrolled": false
   },
   "outputs": [
    {
     "data": {
      "text/html": [
       "<img src=\"data:image/jpeg;base64,/9j/4AAQSkZJRgABAQEASABIAAD/2wBDAAIBAQEBAQIBAQECAgICAgQDAgICAgUEBAMEBgUGBgYFBgYGBwkIBgcJBwYGCAsICQoKCgoKBggLDAsKDAkKCgr/2wBDAQICAgICAgUDAwUKBwYHCgoKCgoKCgoKCgoKCgoKCgoKCgoKCgoKCgoKCgoKCgoKCgoKCgoKCgoKCgoKCgoKCgr/wAARCAEgA2ADASIAAhEBAxEB/8QAHwAAAQUBAQEBAQEAAAAAAAAAAAECAwQFBgcICQoL/8QAtRAAAgEDAwIEAwUFBAQAAAF9AQIDAAQRBRIhMUEGE1FhByJxFDKBkaEII0KxwRVS0fAkM2JyggkKFhcYGRolJicoKSo0NTY3ODk6Q0RFRkdISUpTVFVWV1hZWmNkZWZnaGlqc3R1dnd4eXqDhIWGh4iJipKTlJWWl5iZmqKjpKWmp6ipqrKztLW2t7i5usLDxMXGx8jJytLT1NXW19jZ2uHi4%2BTl5ufo6erx8vP09fb3%2BPn6/8QAHwEAAwEBAQEBAQEBAQAAAAAAAAECAwQFBgcICQoL/8QAtREAAgECBAQDBAcFBAQAAQJ3AAECAxEEBSExBhJBUQdhcRMiMoEIFEKRobHBCSMzUvAVYnLRChYkNOEl8RcYGRomJygpKjU2Nzg5OkNERUZHSElKU1RVVldYWVpjZGVmZ2hpanN0dXZ3eHl6goOEhYaHiImKkpOUlZaXmJmaoqOkpaanqKmqsrO0tba3uLm6wsPExcbHyMnK0tPU1dbX2Nna4uPk5ebn6Onq8vP09fb3%2BPn6/9oADAMBAAIRAxEAPwD9/KKKKACiiigAooooAKKKKACiiigAooooAKKKKACiiigAooooAKKKKACiiigAooooAKKKKACiiigAooooAKKKKACiiigAooooAKKKKACiiigAooooAKKKKACiiigAooooAKKKKACiiigAooooAKKKKACiiigAooooAKKKKACiiigAooooAKKKKACiiigAooooAKKKKACiiigAooooAKKKKACiiigAooooAKKKKACiiigAooooAKKKKACiiigAooooAKKKKACiiigAooooAKKKKACiiigAooooAKKKKACiiigAooooAKKKKACiiigAooooAKKKKACiiigAooooAKKKKACiiigAooooAKKKKACuN%2BOP7QHwm/Zx8JW/jT4veJ5dPtL7U4dN0u2stLub%2B91K9lDGO1tLO0jluLudlR2EUMbvtR2xhWI7KvFv2u/gP8VPiX4h%2BGfxl%2BBd14fl8X/CrxjPrWmaJ4tu57bTdYhudLvdMubaW4ghmktH8q9aSOdYZtrR7TGyu2ACjpH/AAUr/Y71rxm3w8tvHviCDW7fSodU1bTtR%2BHOvWkmi2EhuAt3qXn2SDTIAbWcNLdmFEKYYqWUGbwn/wAFH/2NfGfg/wAQ%2BOtM%2BLFza6f4Y0e11fVBrnhPVdMuJNPuXMdreWtvd2sU19bzyAxwy2ySpM5CRlmIB86vP2GPjP8AHW0/aRP7Qt74V8My/tB/CPTvBskfgrWLrUzo7RWusWsr%2BbcWtqZ1VNRiZDsXeyygogxuy9Y/Y2/at%2BM%2Btaz8UP2lPh38G9X1e0%2BE6eBtB8E6d4n1QaRrSy6jaXt5fXd2bBJ9PYmyg%2BzxQw3BtnDP50hIwAeyX/7fP7N2k%2BAbH4h6tdeOLSHVPED6Jpeh3Xwj8SR67e3yW5uXjh0dtPGoShYAZTIluUCKzFsA49P8JeOfDfjbwTY/EPRbi5i0rULBbyCTVNPnsZY4iu7MsFykcsDAfeSRVZSCGAIIr41tv2Gf2tJfgpJ4W8feGPCnjS%2Bh%2BIcut%2BC9B1n9ofxXb3fgOxOmxWoi0/xbHp7atcSGUXcreZDGBHeGENsjGfUvB/7Bmq%2BKfgJo3hb9pz46%2BOPEfj5PhtdeFtf8Q6T8Q9at9Muhc2tzbyTPpa3SWN5MiXTBbq4tmmdoopWKuibADc8Mf8FJP2MvF/h7xJ4s0b4tXK6Z4W8GXni6/vr7wlqtpFe6BaruuNU09p7VBqtogK5nsvPQmSMAkyIG4n40f8FdP2YfAf7M/wATf2gfhW%2Bs%2BM7v4b%2BDYfEjeGW8L6xps2r2Nw7R2t3avNYFrixlkRh9vgjmtkVWdnCqSPHfC/8AwSh%2BNC/BPxf8LPFnh3w9J4h/4UL4j8A%2BC/Hmo/tD%2BNvECSXGpWEdp5h0jVUkttGtpDDE8scEl0yeVGqFggz6P%2B1L/wAE5vih%2B0BYeKtE0Pxj4d0q2179le%2B%2BGlrLM87GDVpLiOWGdo1iANqNhBIbzBnhO9AHqkv/AAUU/ZZt/E3hrwJeav41tvEni7TpdQ0HwpefCTxLDq8tnFd/Y5LmSwk08XNvCkxG6SaNEVGWUkRsrmXwN/wUT/Y7%2BJGqarpXhD4tyXB0rQ9Q1lbufw1qVvaapp1iwS8u9NuZrdYdVhhYqHeyedVLqCfmGcXwR8APjz4x/apsf2oPjn4f8HeH5JPg5f8Ag/VNE8J%2BK7vVTBcy6tHcpJDcz6fZl4mgiUsTGjJIdoV1USHwGb9hz9pf4bfs8%2BF/Cnxo1rwIPCP7N3wP8SaB4L1PwrfXcmpeKd2hHTLe4vbeW2ii04JZozSQxS3QknZXDxqgQgH0D4U/4Kl/sL%2BNPBus/ELQ/jLdrouheDj4tutRv/BmsWcdzoIKB9Vs/PtEN/ZxmRBJPbCWOLcPMZc167a/GD4c3vxcuPgVZ%2BIxN4qtPDUGv3emRWsrCHTp55beGd5QnlL5ksE6ohfe3kyEKQjEfFX7I/7P3xC8WfBL4Q/Hb9t/Uvhlovww%2BG/7L9z4fgk07W5wmr6bqmnaWby%2B1X7VBDDpkEVppyq0CS3CZleRplWNVrsP%2BCK3wr8d6P8As76n8evit4tbxFrHjW%2Bg03w54hlgaOS%2B8I6JF/ZWiXBD8/6VDDNqhPd9WcgKCFAB9lUUUUAFFFFABRRRQAUUUUAFFFFABRRRQAUUUUAFFFFABRRRQAUUUUAFFFFABRRRQAUUUUAFFFFABRRRQAUUUUAFFFFABRRRQAV4jpH/AAUY/Y91K716z1P4pXnh5vDnhy58QahJ418I6roMc2k27pHPf2smpWsC31ujyRK0tsZUBljGcuufab2K5ms5YbO6EEzxMsUxj3%2BWxHDbT1wecd6/MTV/%2BCOX7cvxf1bwvrnxu%2BOOhvrfhrwfqFnqHijUPit4m8TjxDrf2zSr611E6XfRQ2Wk20lzpi%2BfYWQCiOTassgVAoB9sv8At/8A7MNr8NG%2BLGseIPFWlaW2uQaNY2eufDLX7DVNTv5kMkMFlptxYpe37SIGdfs8MgZUdgSEYjovAf7VnwP%2BI%2Bv2XhPw54h1SHV7/wAKT%2BJIdI1rwrqWmXaabDd/ZJZZYby3ikgdZ/kMMirL32bea8m%2BJ3wc/bd%2BMTfD342654N%2BFWh/EP4UeOptY8P%2BGbXxxqV/ouuWdxpN3plzHcXz6VDNYzFL2SSN0tbgRmIKfMEjYq/En4Dftwa/8ZfDv7TXgfRvhXaeLL74Yar4L8Y6FqXivUpLDSFuL%2BG6tb%2ByuE04SagYhG6yW8sVoJS4xLFjkA7jSf8Ago3%2ByB4j17wL4W8K/EbVdZ1P4k%2BDdK8W%2BDdO0TwPrN7PeaHqL7LXUZEgtGa1t92PMknEa24ZTN5QYE7Hw1/bc/Zu%2BK/xGufhP4Z8X6tZ6/b6Xc6nDZeJ/BmraIt/Y28iRz3dlLqNrBHfwRvLEHltmkRfMQkgMpPlH7Cn7CXxY/Zh1/4caz488QeGrs%2BDv2UvCPwxv30i5nlZtW0t5muZovMgj3Wrb02MxV22/NGmBXjXw0/4JV/tjeJ/ij4X8TftTfGGz1SLT/AHivwv408TQfF/xJrV54il1exS2/tO10y%2Bhj0/QjlSxtLRSi5UCZxGq0AfUvhP/gov%2ByP410WPxVoPjvXP7DuNV0vT9P8AEt78P9btdK1GXUr2OyspLS%2Bns0tryCW5mijFxBI8IMqFnCsCfS/C3xd%2BHnjX4geKfhd4X8Q/a9c8FyWcfie0S0mC2Ml1B9ogjMrII3doSshRGZkWSMsFEibvmHxx4E%2BIvhX/AIJ7eNPgR/wUM8T/AAq8EeAtB%2BGkWgW3xM8O%2BLbsM06RpbWupPaXVnAmmzLMLeSGCO4umM5REcnaG7X/AIJX/D74seG/2RNK%2BKv7RVglv8TvixfS%2BOviJCtu0X2e/v1jMNpsb5k%2By2MdlZ7TkgWuDQB9G0UUUAFFFFABRRRQAUUUUAFFFFABRRRQAUUUUAFFFFABRRRQAUUUUAFFFFABRRRQAUUUUAFFFFABRRRQAUUUUAFFFFABRRRQBz3xX8e33ww%2BHmp%2BPNN%2BHmveK59NhWRPD3hkWpvrzLqpWL7XPBCCAxYmSVFCqxzxg4Pg79oHTPiP%2BzR4e/ac%2BHXw78S63Y%2BKfCWna/ofhqzhtV1S4hvYIpoYSstwlukoWVd26cRqQxMmBure%2BK4%2BILfDnWIvhX4d0bVvEEtm0em6f4g1yXTbOV2IU%2Bbcw2108QCliCsMmSAMAHcPD/gR8Ov27fgl%2BwN4d%2BAegeDfhRb/ABG8F/C6x8PeHdRm8caleaPPqNnbRWkNxP8A8SqGYQskZnZFUsGxECQfOAB6p8Af2gND%2BP2k6/LaeC9e8M6x4T8RvoXinwz4mjthe6XfLbW92sbtaTz28ge2u7aZXimkUrMvIYMo5T49eP8A9ov/AIaL8C/Aj4C%2BM/BXh9Nf8FeJde1fU/F/gu71ok6dd6Hbwwwx2%2BpWPlhv7UlZmZnz5aABeSbX7Evwe%2BIHwQ%2BC7eD/AIqeF9GsvEU%2Bs3F/reraX4xn12XxBdzhHn1K7uZtOsCtxLKXHkpD5UUccSRlUVYo%2BH1vwX4Z8Bf8FVvh7rWmah4gmu/F/wAGPH817Hqvi/Ur61ikg1bweVW1tbm4kgslIkcstukYbau4HaMJtJalwhKo7R7N/crv8Edh/wAIP/wUL/6Og%2BDP/hh9W/8Amoo/4Qf/AIKF/wDR0HwZ/wDDD6t/81FezUUyDxn/AIQf/goX/wBHQfBn/wAMPq3/AM1FH/CD/wDBQv8A6Og%2BDP8A4YfVv/mor2aigDxn/hB/%2BChf/R0HwZ/8MPq3/wA1FH/CD/8ABQv/AKOg%2BDP/AIYfVv8A5qK9mooA8Z/4Qf8A4KF/9HQfBn/ww%2Brf/NRR/wAIP/wUL/6Og%2BDP/hh9W/8Amor2aigDxn/hB/8AgoX/ANHQfBn/AMMPq3/zUUf8IP8A8FC/%2BjoPgz/4YfVv/mor2aigDxn/AIQf/goX/wBHQfBn/wAMPq3/AM1FH/CD/wDBQv8A6Og%2BDP8A4YfVv/mor2aigDxn/hB/%2BChf/R0HwZ/8MPq3/wA1FH/CD/8ABQv/AKOg%2BDP/AIYfVv8A5qK9mrz74geP/gZ8NBqfjD4%2B%2BOPCnh/TzrUWn2WpeMNUtrSDzDaRyrBHJcsq7yBK%2B0HJCsccHEznCnFyk7JdzbD4fEYutGjQg5zlolFNtvyS1ZzX/CD/APBQv/o6D4M/%2BGH1b/5qKP8AhB/%2BChf/AEdB8Gf/AAw%2Brf8AzUVX/wCGv/8AgnB/0dF8Ef8AwttH/wDjtH/DX/8AwTg/6Oi%2BCP8A4W2j/wDx2ub6/gf%2Bfsf/AAJf5ntf6p8Vf9AFb/wVP/5Esf8ACD/8FC/%2BjoPgz/4YfVv/AJqKP%2BEH/wCChf8A0dB8Gf8Aww%2Brf/NRXYfDTxJ%2Bzl8aNCl8U/B3X/BPizTLe7a1n1Hw1dWd/BHOqq7RNJAWUOFdGKk5AdTjBFeT/EH9tn9k74Q/Gv4ifCL4seB9Q0O0%2BGngbTvFPiHxbJ8P7%2B40qKyuRfMxa5gtHij8tLInLP8AvGdo49zwyqvTCcKkVKLun1R4uIw%2BIwlaVGvBwnHRqSaafmnqjqP%2BEH/4KF/9HQfBn/ww%2Brf/ADUUf8IP/wAFC/8Ao6D4M/8Ahh9W/wDmoqJv2m/2ULabw3HrHhPXtKh8V3ENvpF/rnwf1uwtFmmvXsreO5ubiwSGyea4UJEtw8TS%2BbCyBlmiZ%2BZ139un9inwFaE/Emaxt7tr3xWsNr4b8D6trBFn4f1U6bqN1KLfTd8KQStEJmZfKQuxSWaJRO1GJ1f/AAg//BQv/o6D4M/%2BGH1b/wCaij/hB/8AgoX/ANHQfBn/AMMPq3/zUV32gR/BjxXcT2nhePwxqM1tDBNcw2K28rwxzp5kLuq5KiRPmUnG5eRkV4f%2Bz9%2B1Vonxo%2BKWjeF9c/Zu0TQ/DHjnTdd1D4Z%2BJIdVS7n1a30q9htZjd2ptIxYtMk8dzAqS3G6EP5hhdRGQDsv%2BEH/AOChf/R0HwZ/8MPq3/zUUf8ACD/8FC/%2BjoPgz/4YfVv/AJqK43xZ%2B1Vonhr48aj4Ht/2btDufAnh74iaL4D8T%2BNW1VI7y01/VbSzuLRItP8AshWe1zqWmwvOblGWS6IETiJ2rb%2BEPxX8W/EnX/jB4C1j9lnwlpfiT4a6nHa6Fp9t4nW5g10T6el5aNNObCP7Ez%2BYiOoScR5JDSYxQBr/APCD/wDBQv8A6Og%2BDP8A4YfVv/moo/4Qf/goX/0dB8Gf/DD6t/8ANRXl91%2B3R4G8P/sjeE/2gvH3wP8AA3h7xJ4v8a6h4UsdA1jxfDb6LbajZXOopcSXGsTWSeVapb6VeXJlNtv2oEWJnYA3v2gv2jfir8Hv2bNL/aN8D/ss/Bzxna3tlZK1npvxXmWO/wBRvryKzsLXTLiPQZUvkuJbi3VJnEHzSgbMDdQB6F/wg/8AwUL/AOjoPgz/AOGH1b/5qKP%2BEH/4KF/9HQfBn/ww%2Brf/ADUVXt/iXfWv7Z8H7L3iX9nXwxaaFqvgHUPEnh7xdba0s9xdNY3Ol29xBLYmzRYF36muyQXDlvIbMabhXhUH/BTnwbbfA7XvjX4h/Zg8J2qy/AXVPi38PdGg8XxTXGraHZGESR6l/oC/2Tc7rq0VkX7WqmSVd7NAykA99/4Qf/goX/0dB8Gf/DD6t/8ANRR/wg//AAUL/wCjoPgz/wCGH1b/AOaisPwT8S/iJ8VvgbY/E/4OfBL4D%2BL9RvdZlgz4c%2BMD3egLZRo26capFojO8wkXyzAtqQM5MgwQPKPEP/BTD4fWXwqsfjboP7MmgHw5pvwZtfid4/n17xFBZTabocs08RGnIlpMurTj7JcMF328bqbbEmblAAD3P/hB/wDgoX/0dB8Gf/DD6t/81FH/AAg//BQv/o6D4M/%2BGH1b/wCaiuMT9q3QJfj6PA0f7OOhN4Ab4j/8ICvjtdWjN0de/s37dxp/2Tb9i3/6J5/2nzPtHHkeV%2B%2Bql8Kv2n/EvxX8e/EX4JeGf2cvhNrHjfwHZWUssHhL4nf2lo8FzPdzW8mn6lff2RHJpt7CIHma3%2Bzzv5ZBHJAoA9A/4Qf/AIKF/wDR0HwZ/wDDD6t/81FH/CD/APBQv/o6D4M/%2BGH1b/5qK4AftNeLL/8AZ98Y/GXTP2Zfhla3nwz1/W9O%2BItvr3j%2Ba30qzj0yIy3FzZX8GjTveIF4YSW9uyOkqMN0ZBwNW/bl1Xw94Z0zxT4k/Ys0Swh0P4b%2BGfGXxmtbjxKguPCFvrM00a21qn2DGpzWwtbqWcObQCOJShkaQIAD17/hB/8AgoX/ANHQfBn/AMMPq3/zUUf8IP8A8FC/%2BjoPgz/4YfVv/mormNe%2BMPxU8Nftb6H%2BzZf/ALJfw6vNO8SaJr%2BtaZrWk%2BO5Zb6DT9OFuiTXVnLo8cUJmuLyzh2rdPtMkjAyCJsp4G%2BMnxS8VeJPiF8GtS/ZG%2BH8HxI8E6Doer2mkaf47a50a/g1SW9iijl1FtJjltZ4/wCz7h5I/skmEeBkL%2BbhQDqP%2BEH/AOChf/R0HwZ/8MPq3/zUVQ8D%2BOP2rPB37Vnhz4I/G74j/D3xNo3ib4e%2BIdchm8K/Dy%2B0W6tLrTb7RLdFZ7jV75JY3TVJSVCIwaJCGxkHT%2BAXxC8LftD/ALG/gn9qPTfhrY%2BG7nxx8NNM8VW%2Bm27JM%2BmPeafHeLCs6xxmQxmQLv2Ju252rnAj8cf8pC/hf/2Rnx5/6dvCFAHs1FFFABXm37WX7SulfsjfBHVvj14j%2BF/ivxXpOgwyXOtWng%2BGze5s7OOKSaa7cXlzboYo0jOQrlySoVGJxXpNeM/8FBPhP8avj5%2Bx/wCPPgN8BNG8LXeveN/Dd7oXneL/ABHc6ZaWUN1bSxNc%2BZb2V28joWUiLy1DAn94uBkA7D49fHTw/wDAHwdaeJ9X8Naxr17qut2mj%2BH/AA54ejga%2B1a/uX2xW8P2iWGFTgPIzyyxxpHE7s6hSa8n8R/8FNfhBofgfTvGem/Cnx/rM0mk69qnifQdI0yye/8ACllol59h1aa/SS7RCba63Q%2BVavcSzmNzbpOqlq2PjZ8Mf2l/jN4K8JeKB4O8C6P428B%2BMdM8T6JpI8aXl1pl/OkNxbXlnNd/2ZHLAht7qdY51t5DvKO0QClD41e/sB/tW%2BGfDWoa/wDDnXPh/P4u%2BIHhrxrpHxAj1fVr2Ow0eTX9Yk1OK6sHS0d70WPnzQeTKlt9qGxzLbEFSAfamm6lp%2Bs6db6vpN7Fc2t3Ak1tcQuGSWNgGV1I4IIIIPvXzx8JvFX7d/x10fXvHfhf43/CTQNLt/iF4q0PS9Kv/g/ql/cRWul69f6ZC0twniKBZZHjs1dmWKNdzkBQAK9mt/hH4Yi%2BD9n8E3v9Yj0iz0O30pLjTNcutPvRDDGsasl1aSRTQvhB88bqevPNePfsOeHdP8K/spXvg/TLm/ls7T40%2BOLFJNS1W4vbmWH/AITzVoyJbi4d5p3ZMhpJHZ3JJZiSTQB0f/CD/wDBQv8A6Og%2BDP8A4YfVv/moo/4Qf/goX/0dB8Gf/DD6t/8ANRT9f/ag/wCCfvhTXb3wt4p/aI%2BDmm6npt3Ja6jp2oeLtKhntZ42KSRSRvKGR1YFWVgCCCCMiqn/AA1//wAE4P8Ao6L4I/8AhbaP/wDHa5XjsEnZ1Y/%2BBL/M96HC3E9SClHA1mnqmqU7Nf8AgJY/4Qf/AIKF/wDR0HwZ/wDDD6t/81FH/CD/APBQv/o6D4M/%2BGH1b/5qKfoH7UH/AAT98V67ZeFvC37RHwc1LU9Su47XTtO0/wAW6VNPdTyMEjijjSUs7sxCqqgkkgAZNXv2q/iX8Kv2UP2b/Gv7SXin4XLq2n%2BCvD1xqt1pukaIJri5WJc7EWONiMnGXI2ouXcqqsw1pV6NdXpyUvRp/kefjsszLLJqOMoTpN6pTjKLa8uZK5nf8IP/AMFC/wDo6D4M/wDhh9W/%2Baij/hB/%2BChf/R0HwZ/8MPq3/wA1FUNJ/az/AGP9c8by/DXS/DWvy%2BIbbw4uvahov/CmtdW60%2BweO7eKW6jbTw1q0v2G5WKOYJJM8YjjV3dFZ2mftOfsweJpPDv/AAiumWCHWfHU3hW9sPEvhLUdH1Gxvo9GutXMLWVzYCZJTa26zKtwtvG8MnmLKzGKObU4S7/wg/8AwUL/AOjoPgz/AOGH1b/5qKP%2BEH/4KF/9HQfBn/ww%2Brf/ADUVQ%2BCn7X/7C/7QWjTeI/ht4m0v%2BzovD%2Bn66l/4i8I3eiwXOl3zMtrewSajbQLc28jqUEsRdQ%2BEJDECrv7RvxEb4V6/4P8Ahp8IPgB4a8XeM/G17eJpWl61qq6RYwWtnatcXNzPdJZ3ToB%2B5iVVhctJcR52IHdQB3/CD/8ABQv/AKOg%2BDP/AIYfVv8A5qKP%2BEH/AOChf/R0HwZ/8MPq3/zUVz2v/tSfC2D9i3w1%2B1/4T%2BClleDxePDtvo3h3VDBZ%2BRf6xf2mnwQXdyI5Ft44rm8RZpVWTaschRZDtVuKtf23F8RX1l8LPBP7M3gK8%2BJSeLvEGgeItGvvHK22hadPo9rb3dzs1Qaa8k7NBeWjpGbSNvmm8zyhA5oA9W/4Qf/AIKF/wDR0HwZ/wDDD6t/81FH/CD/APBQv/o6D4M/%2BGH1b/5qK8u8W/tjavd/B/4T/tGfAv8AZa8A%2BKfBPxck8LQaCNW8ayadrIn1maJSi2kWkXMEi20EjXEjfaV%2BS3nwBsBbpvhJ%2B1P8OfjX%2B0x4i%2BCXgnwR8L/7J8M6nqGnX0t545t08STTWLGC5uItEWzYmyS7V7b7RJcxsXidhGV2M4B1f/CD/wDBQv8A6Og%2BDP8A4YfVv/moo/4Qf/goX/0dB8Gf/DD6t/8ANRWF%2ByT%2B0r8Pv2s/GnxD0nQvgZp%2BlaF4S1KxTwzr0zxSnxLp91bmWLUViEK%2BRDJtZofnk82FopcoZPLX27wYNmhmBSdkN9dxRAnO1EuZFVfoFAA9hQB5d/wg/wDwUL/6Og%2BDP/hh9W/%2Baij/AIQf/goX/wBHQfBn/wAMPq3/AM1FezUUAeM/8IP/AMFC/wDo6D4M/wDhh9W/%2Baij/hB/%2BChf/R0HwZ/8MPq3/wA1FezUUAeM/wDCD/8ABQv/AKOg%2BDP/AIYfVv8A5qKP%2BEH/AOChf/R0HwZ/8MPq3/zUV7NRQB4z/wAIP/wUL/6Og%2BDP/hh9W/8Amoo/4Qf/AIKF/wDR0HwZ/wDDD6t/81FezUUAeM/8IP8A8FC/%2BjoPgz/4YfVv/moo/wCEH/4KF/8AR0HwZ/8ADD6t/wDNRXs1FAHjP/CD/wDBQv8A6Og%2BDP8A4YfVv/moo/4Qf/goX/0dB8Gf/DD6t/8ANRXs1FAHjP8Awg//AAUL/wCjoPgz/wCGH1b/AOaij/hB/wDgoX/0dB8Gf/DD6t/81FezUUAeM/8ACD/8FC/%2BjoPgz/4YfVv/AJqKP%2BEH/wCChf8A0dB8Gf8Aww%2Brf/NRXs1FAHjP/CD/APBQv/o6D4M/%2BGH1b/5qKP8AhB/%2BChf/AEdB8Gf/AAw%2Brf8AzUV7NRQB4z/wg/8AwUL/AOjoPgz/AOGH1b/5qKP%2BEH/4KF/9HQfBn/ww%2Brf/ADUV7LJJHEhllcKqjLMxwAPWvM/il%2B2h%2ByT8FIXk%2BKf7SPgvRZEBP2S68QwG5bHXbCrGRvwU1lVr0aEearJRXdtL8zuwGWZlmtdUcFQnVm/swjKT%2B6KbMb/hB/8AgoX/ANHQfBn/AMMPq3/zUUf8IP8A8FC/%2BjoPgz/4YfVv/morzK4/4LN/sja3M9r8FPC/xM%2BJ0qsUVPAHw6vbrew4wpmWIHnvnFNH/BQj9rvxWN3wo/4JQfE%2B8V/9SfF%2Bu2Ggk%2Bm4TF9n41539uZW/gqc/wDgUp/%2Bkpn2S8LeO6avisJ9X/7CKlLDff7edO3zPT/%2BEH/4KF/9HQfBn/ww%2Brf/ADUVb/ZW%2BI3xp8Yax8UPAnx01/wvq2qeAfiFFodnqvhPw1c6Tb3VrLoOj6mrPb3F7eMsiyajKhYS7SsaHapznyYftEf8FdNX%2BfT/APgnT4M0cNyE1b4uW1wU9iYI8H8K6H/gnZq3xl13XPjzqv7QPhHR9C8Xy/GaD%2B1tJ0G/a6tIMeEfDYi2SsAWzCI2b0ZmHaujDY%2BliqnLCE1pe8oSiv8AyZLXyPHzvhPHZDhY18RXw87yUeWliaFaSum7tUak7R0s5bXaV9UfSdFFFdx8uFFFFABRRRQAUUUUAFFFFABRRRQAUUUUAFFFFABRRRQAUUUUAFFFFABXy/8AtA6x/Zn/AAVl/Zqst%2BP7R%2BF/xMt8euJfC8uP/IVfUFfG37YmrnSv%2BCxv7GUJbCXvhn4oW7n62GjOB%2BaCuXFz9nST/vQX3ySPc4ew31rHzh/06xD/APAaFSX6H2TRRRXUeGFFFFABRRRQAUUUUAFFFFABRRRQAVxPiv4RfCf40Qav4W%2BMXww8O%2BLNMt/EEV1Bp3ibRYL%2BCOdbKFFlWOdGUOFd1DAZAdhnBNdtXk/x3/at%2BAX7H3hrUfiX%2B0X49/4R3RL7xXDplre/2XdXe%2B6fT0lWPZaxSOMpDKdxUL8uM5IBxxE8PToylXaUFvzWtbzvoNY95W/raq%2By5Nefm5eXz5rq3rcT/hgf9hX/AKMs%2BEv/AIbnTP8A4xR/wwP%2Bwr/0ZZ8Jf/Dc6Z/8YryT/h%2Bb/wAEsv8Ao6L/AMsnXP8A5Co/4fm/8Esv%2Bjov/LJ1z/5Crxfr3Cv/AD9o/wDgUP8AM0/4ilW/6Hj/APCl/wDyZ9JfDT4RfCf4L6FL4W%2BDvww8O%2BE9MuLtrqfTvDWiwWEEk7KqNK0cCKpcqiKWIyQijOAK8V/aV/YX8V/Hjxd8StT8P/GfTdC0f4q/C%2Bw8IeJdOvfCEl9cQtZS6nJbXdtOt7CqDOpyCSJ4pN4iTa8ZLE%2Bk/s0ftW/AL9sHwJd/Ev8AZ08e/wDCRaJY6vJpl1e/2XdWmy6SKKVo9l1FG5wk0R3BSvzYzkEDH%2BJX7Zfww%2BFfizxL4F8S6Drz6x4cl8MRx6fa2sDSat/b9%2B%2Bnae1pumUODdxTROXMezyXY/IAx9rDzw86MZUGnB7ctrW8raGbx7zR/W3V9rz68/Nzc3nzXd/W55V%2B19/wTHl/as%2BPVv8AGW5%2BKXh2zihl8MTW8ev/AA7TWNS0eTR9WOoEaTevdxjTUu8iK42wu7hQQ4wFGx4d/wCCdi6Druq62fi%2BJv7T0H4mab5f/CPbfK/4S7xFDrO/P2g5%2ByeV5G3jz92/MWNh5r49f8FY/h34O8N/HvwN8NNKt4/iX8I/hL4t8X6Tpmt61pOoWmoHRYfnM0Ol6lNdWyedLa5hultJnSY7BlJPL7zVv28NB8P/ABH8SfCnTfh14r8a%2BJdP%2BIFz4f0vwz4T0azgujDbaJpmqXVyZbzUEhlhiXUYQZWaB2eeOFIHZRJLsI9U%2BDPw%2B8R/CzwJpHw71PxTZapYaD4f07TNNkg0l7aY/Z7ZYZJJWM8ivvZAyqqpsB2kyferxz4O/sK%2BOfg/41s/EFl8dNM1DTPBWheItN%2BEWjXXgx1GhDVruK5ZtQkW%2BB1MW4git4ljFmfI8wOzyMJl7L9iD9pHVP2nv2Zfh58XfFmjmz1zxb4B03xFqMVjol5b2EZukJ2RSTBlDAq2YTI0qAqXADKT534J/bG%2BNmvfHnQZdW03wsPht4x%2BMXiT4baDp9vptyutWd/o9pqkr6jPdNcmGWGWfRL%2BIW626Miy27mV/nUAG54o/Yb8QeI/jpf%2BN1%2BMltB4H8QfELRPHninwZ/wjBa7vPEGlWlnb2skN/8Aagtvak6bpszwG3kdpLUkTKJXFX/hL%2Bzh%2B0v8N/jZ8W/i5qn7QXgXUofiNsuNG0y3%2BF17bto15b2sVpZSTSnWpBeRJDEPNiVLdpXJZJIB8lcp%2B01%2B2N8bfhX8U/GL/DzTPCzeDfhNovhvU/HdtrOm3M2o6xHql9cRTR2M0dzHHaNbWtv54aSK4E8koixCFMh574S/t5fHj4h/tl3n7P8AfaT4cttMn8ReLdHsbSbwfqdsLQaS5S1uo9bkuDYa1JOArzWFnGtxaCSRZSDay5ANbwR/wT2%2BL%2BifAnwx8PPGn7QHgzWfFXw%2B%2BKl3478AeJIfhZcQWNle3UuoPNHd2EmrzNdLt1W9RGjuLdkDRMMvGWfqvBv7CMfhzwJ8Lfh7q/xQF/p3gP4lan461%2B1i0IQQ69qt3PqV4kccYmYWVrb3%2Bo/aYYR5pT7HbJvOws3Cr%2B2r%2B0Z4V/ZN134jfEe/%2BH8PibQvjRc%2BCdX8YxeHr238O6JYx6uLJtYurV755vJijOXBuo03EM0kKbivC6h/wVT%2BIurfDvQdW8PfED4XaIDeeNbLU/iLr%2Bg383h7X7/Q7u1hsbHTYkvo3SbVILo3MOZ7ghbaVYUvOHoA%2BjPFH7O/x41v9trw5%2B1Dpfxv8I2vhjw/4S1Hw6PB1x8PLqa/ntb6fT7i4f8AtEaqkay%2BdpsJjP2QqqO6srkh15f4b/sG6/8ADz4t%2BK/2iNM8S/DGw8c6roV7pXh698MfB7%2By7C3S8u4Lq7udTt01FptVupns7MPL9ogG23%2BRULuTgeKf25fixj4F/FrwONKk8I/GY%2BF2tvCt/wDDvVTPaQaqYPNll8RrdDTbSWKO4Dx2s8Aluni8iItJMm3g/D//AAUn/aj8Q%2BNfiL4X0PwFoOo3%2BjeDfiDqPhfw3H4F1aB0v9BvRbWFvDqL3LW3ib7TuDTJpqRtaviKUq7AEA77x5/wT4%2BPHjH4VeNPCNj%2B1R4d03XPij8RLfxF8Tru3%2BGtwmlazp8WnW1g2jw2cWrx3FrFPHZW3nzfbJJZV89MqkqiPZ/aV/YD1P8Aau%2BG/hv4T/FjWPhVLpFnoUukeIbi3%2BDW6%2BjtpgIp00OebUpP7D8y3BhJ23TKMMjKyqRx9/8Atq/tFN%2BzI3jPwR4v0TxR44tPiFpGj%2BKbSw/Z08VQXPhaxulhedrnw41%2B%2BpzukbtMsqvGjxspCEKWZ3xe/bn%2BK/haw%2BE/inwf8ZPBo8BeJPBniTVPHfxc/wCFF%2BItW0iwvdPvNKght5YLTUUbQkK3WptK9/MwibTnVyhRxQB3z/sL66PjwfG9r8ZLaLwGPiN/wn0fgf8A4Rcm6TX/AOzPsI/0/wC1bfsQf/TPs/2fzPtH/Lfyv3NUPEf7H37WHiqXxr8RLn9sbw7ovxI8Q%2BBIPCfh3xX4V%2BFktraaNardtcSXUlnNqs73l3iSRYpDcRxwFiyxNucPd%2BOH7Sfxl%2BEf7VPw7%2BH2matoWr%2BFvH%2BvW%2Bnw6Ufh3qsD2sD2s7vcnxGbs6aZhJAWSxMK3EyMAmT89eZeBf8AgoB%2B0RB8Gfih42%2BI0GhzeOvCvh7VdW0P4WN8I9f8P3kNpbX8tvHfm4vbqX%2B2LNYxBJLLYwgDeAGBdFIB6fD%2Bw/r%2BqfsZ2v7Gnin4g%2BF7bRl1Swj1N/CXgq6sYL/RIr6C5vNPkiutSu5XlvUS4inu3ndn%2B1yOUZyWZ/7R37Dmt/HT4ka54j0H4xQaB4d8feHNH0D4oeH5/DRvJtX0/Tr25uYks7kXMQsZZUvbm3mkeK4DROmxY3QOfFpP%2BCoPxGvPBeraN4G8feAvGmp6P8V9L8MT/EjwJ4C1TWtJudOvtGk1FLuy0Sxv5rzUpkniezeG0updgD3LEJDNFHpa/wD8FMfjJN%2BzZ8LfHHgPwd4VvvGPiXUdDu/HiyRztYaPoV34hh0bz/JWYS295cySkQ2k0haB4LwSmRrKSNwD6Q034A6rpn7QHjn9otPHME%2BteJPCOm%2BHvDMF1pBaHQLW0a7mOQJgbgzXV28smDEWSGCPP7sPXCfsv/srftOfs5/CnxV4Z1H9o3wH4m8ZeI70apJ47u/hTewzX2rOcXF5qcP9uObwGNYYooYJLSO3jhSNB5aJGnPRftp/GC2%2BOkWrazB4Rt/hTc/GK%2B%2BHC28ljcJrFtc2umT3D6tJeNc%2BR5BvLWW3%2BzfZwyxMs5nODDW/%2Bxv%2B1z8Sv2l/jR8StF8ReEtL0rwfpel6BrPw4aK3mTUbzStQOoIlzeF3K5nFitzEipG0cVyiSAyK2ADoP2X/AICePP2WP2IvD37Nnj/4l6R4um8BeA4PD2ma7o/heXSFuLGysEtoDLBJeXZM2yIF3WQKzH5UQcU7xx/ykL%2BF/wD2Rnx5/wCnbwhXqXjn/kSdY/7BVx/6LavLfHH/ACkL%2BF//AGRnx5/6dvCFAHs1FFFABRRRQAUUUUAFeC/sf/8AJvWr/wDZe/HP/qwNVr3qvBf2P/8Ak3rV/wDsvfjn/wBWBqtAHWa/%2BxN%2Bxl4r1298U%2BKf2R/hjqWp6ldyXWo6jqHgHTpp7qeRi8kskjwlndmJZmYkkkknJqp/wwP%2Bwr/0ZZ8Jf/Dc6Z/8Yrzvx/8A8FlP%2BCbnwv8AHet/DTx1%2B0d9h1vw7q9zpmsWX/CIaxL9nureVopY98doyPtdGG5WKnGQSOayP%2BH5v/BLL/o6L/yydc/%2BQq8GeN4YU2pVaN%2Bt5Qvf7zX/AIiZWofu/wC2nHl0t9Zta2lrc%2Blux7NoH7E37GXhTXbLxT4W/ZH%2BGOm6npt3HdadqOn%2BAdOhntZ42DxyxyJCGR1YBlZSCCAQcitb9pr4J2X7Sf7Onjv9nvUNfl0mHxv4R1DQ31WCASvZ/ard4RMEJAcoXDbSQG24yM5rxrwD/wAFlP8Agm58UPHei/DTwL%2B0d9u1vxFq9tpmj2X/AAiGsRfaLq4lWKKPfJaKibndRuZgozkkDmvcfjr8YfDn7Pvwe8R/G/xlpmo3WjeFdKl1PWU0qFJJ4rOIbp5grugZY4w8rDOdsbbQzYU%2Bhga2W1oN4OUGuvI4tX8%2BUiXEk%2BJP3ksZ9Z5NL%2B09py31te7t6HkfiL9ib4heP9B%2BLsvj34%2B2sXiT4t/DvTfDN9rXhPwrNpsOmyWY1ELcxRSX08jI4vwGiMwOImxIPMGzhvgj/wAEpovhF4ih8TQ/EnwhYbfi4PHL6D4C%2BF8egaRAw8I3nhw2dtapeSmEN9qF20rPIzOjKR84dPRfjP8A8FEPg78FtL8Xa5qnhvU9QsfBXi2z8N6xqI8QaDpVo9/cabFqISG41fUrOGTZBPAGAffvmCor7JCnI2v/AAUd0nxT4%2Bjv/BNxaXHgLXPBnwk13wjqsWhST3l1/wAJh4g1bTSsyPdwrHGIrOzKsAXgaSZ2S5wsFdxJ1fwN/Yo8Q/AKPwJd%2BEfi5ZXN/wCBvgbpXw6t5dQ8Lu0N39jkgY3zRpdqy71hYCEOdhcHzG27W6z9o34BeOPip4g8H/Ez4P8AxP07wj4z8E3t4%2BlaprXhp9XsZ7W8tWt7m2ntUurV3B/cyqyzIVkt4870Lo3mHg3/AIKNH4mftFeD/BHhD4P%2BJrLwD4j8FeLNftPFmqaEs7eIYdJuNOhjn0uOyuZpzG/2qVvKnt0nmDQNChBOfSf2pPjR8QPh7o3gXwt8HE0iHxR8SfG9v4d0LUPE%2Blz3FlpubK81Ce5ntY5reWbba2FwFiEsRMjICyjNAFPw7%2ByxrHgL9l21/ZW8GeKfC%2BoaHpngew0Kx/4TvwS2sR3k8e4XdzqEC3kEd3HcJtzAgh2OZG3urqied2f/AATXi8N/s8v8F/CN78JHvNW8ZTeJPEc/ib4Hw6joyXbwJbxHTNJF/FHpxt4IbaKAvJcbUg%2BcSs7Oeh0r9rr4pv8AsE%2BNf2j3%2BHdlrHjjwL/wlemX2iaPDcCz1DU9D1K%2B02WaGMGSdbeWSyM4iBklWN9mXcZPJ/BH9sz4j/Hrwf8AEzR/BX7TXwgur/4YahZXeofFLS/A17feGdR0efTzdM0dsmsqySwyJPG8i3s0Y8g5UOzRxAHpHhX9ijwn4Kvfgbonh/xXcf8ACJ/AnQLm18P6BeWolmvdQOnx6ba6jLcbgN8VnJqKFfLPmPfl9yeXtfh73/gmZ4e1v4m3M3iHx5YS/Dmfx14i8YnwhYeHJLPVZtV1zSr3TdQWbV4rwM1syajdyKkcEUyuYR55WEKfG/ij/wAFMf2y/hR%2Bzf8ADb4k%2BLvCfhCz8SeJ/g9qfjvVbeH4c6xfW08kclu9ppk0Vtfs3h6M291GLjVb6WWzgkDbiAuD9N2Xxl%2BONl%2B3ZpXwP1%2B78Iz%2BBPFHwt1XxJokOn6VcjVbO6sLvRbZ1muzdNBcRSHU5iqpbxlREh3tkigCD9lv9g34d/smfFrx38Sfh9418WXtp4ytdKtrbRvEXjPWdWXTIbK38kKJNRvrjzC3BVtqmNR5anbxXsHg/wD5BM3/AGFb7/0rlrUrL8H/APIJm/7Ct9/6Vy0AalFFFABRRRQAUVwnxf8A2of2cvgDAZvjV8cfC3hhgm5bfWNbhhnkH%2BxEW3ufZVJrwa9/4LEfs8%2BLLqTSP2YvhX8TvjDeq5jB8B%2BB7lrVHH/PSe4EQRfVwGFcOIzPL8LLkq1YqXa95f8AgK1f3H1WUcDcYZ9Q%2BsYHA1Z0utTlcaS9asrU185I%2BtKK%2BRv%2BFw/8FffjX8vw2/ZV%2BHfwk0%2BX7uofEjxW%2Bq3nl/31gsABG/8AsSZA7%2BtL/wAO%2BP2svi1%2B%2B/am/wCCmPxAvIJeZdD%2BGFhb%2BGrZV7xGWIPJMnYlgCQa5/7Tq1f93w85ebXIv/J2pfdFnsf6jYHAa5xm%2BGoPrCnN4mfovq8alK/lKtE%2BlPiH8ZPhD8IrIal8Vvip4c8M25UsJvEGtwWakeoMzqDXgvi//gsl/wAE5PCWpnQof2iYNcv%2Bdlp4X0O%2B1LzP92S3haM/99Vb%2BHf/AASK/wCCfXw9vTrU/wCz5YeJ9Ukbfc6r43vJ9YluH/vOt07x5%2BiAV754O%2BH/AIC%2BHWmDRfh94I0jQrMYxaaNpsVrEMdPljVR%2BlH/AAuVf%2BfdP/wKp%2BtP9RX8LcBpbGYx970cJH7rYttfOLfkfMD/APBWnw94txZ/Ab9i747eOLqT/US2ngJ7Oy9i9xO4EY9ypoT46f8ABX/4kf6T4C/Yk%2BHHgG3k/wBQfiJ8QGv5cdmZNPUFf908ivraij6hjqn8XFS9IxjFfipP8Q/1s4WwX%2B4ZHRv/ADV6tatJfKM6NP76bPkr/hV3/BZ3xd8/iH9qX4L%2BEC/3k8KeCbvUAn%2B6b1gT%2BNKP2L/%2BCkmrfvvE3/BXHUw7dYtI%2BD2k2yKPQEOSfqea%2BtKKP7Hwz%2BOdR/8AcWovwUkvwF/xEjOqemHwuDprywOEk/8AwKpRnL/yY%2BTP%2BGAf2yZ/mv8A/grF8RmY9Tb%2BF9PiH5AHFH/Dur9pu541L/gqr8X3Hf7Lb2UJ/MIa%2Bs6KP7FwHaX/AIMqf/JB/wARO4uW0qC9MJhF%2BVBHyZ/w7C%2BJF/xr/wDwU%2B/aMkB6/wBneMobQ/msBo/4dHeC70Y8Uftw/tLa2D95dU%2BLkjA/98QrX1nRR/YeV9ad/Vyf5sP%2BIpcdR/h4vk/wU6UP/SYI%2BTE/4Iq/sM6pIr/EfSfG3jPaQQvin4halMM/SOaPNek/DD/gnL%2Bwp8HJ0vPAH7Kvgu2uYyDFeXujpezxn1WW58x1/AivaqK1pZRlVCXNChBPvyq/32ucWP8AEXj7M6DoYrNcRKm/sOtU5P8AwBS5fwGW1tbWdulpZ26RRRqFjijQKqgdAAOAKfRRXonxrbbuwrxn9l//AJLf%2B0d/2Wax/wDUK8L17NXjP7L/APyW/wDaO/7LNY/%2BoV4XoEezUUUUAFFFFABRRRQAUUUUAFFFFABRRRQAUUUUAFFFFABRRRQAUUUUAY/xA%2BInw/8AhN4Ov/iJ8U/HWjeGfD%2BlxCTU9d8QanFZWdohYKGlmmZUjBZlGWIGSB3p1p4%2B8Cah4Ei%2BKNh410mfwzPpK6rD4ih1KJrCSwaLzhdrcBvLMJiIkEgbaV%2BbOOay/jd4i8PeEvhPrviLxToWqanZWtkWkstF8NXesXUjlgI/Ks7OGaeZg5U4jjYrjdwFJHyH4RtvFHxM/wCCMngn4J6D8JvHY8TeHfhP4Tj8R%2BD9e%2BH%2Bq6VdXkelNp/9p6YqX9tCJZZY7a5gWLJ84OCu5G3UAfZHw1%2BKfwx%2BM/hC3%2BIPwe%2BI%2Bg%2BLNAu3dbTXPDWsQX9nMyMUcJNAzIxVgVODwQQeRXxh/wAFG9T/ALE/4Ky/sQanuxm68cW2f%2Bu0WixY/wDHq9y/Yng1bXfGvxr%2BMkHg3XtB8N%2BO/iZb6l4Ws/Evh660i8uYYfD%2BkWM949leRxXFsJLm0nULLGjOIRLjEisfkv8A4Kn/APC1/DP/AAVL/Y68Q%2BNfGvh6/wBCn%2BIGpQeG7DSvDE9nd6fFLf6BFIt1cyXsyXZbemGSG3C4bIbcNvm5vLkwEpdnF/dJH23h5Q%2BtcWUqH88K0f8AwKhUX6n6X0UUV6R8SFFFFABRRRQAUUUUAFFFFABRRRQAVleH/wDkLa5/2FE/9JLetWs%2B98MaRf3b38guYpZABI9rfzQb8DALCN1DEDjJ5xQBoUVl/wDCH6T/AM/eq/8Ag8u//jtH/CH6T/z96r/4PLv/AOO0AaleU/FX9jz4VfGD9o34e/tOeKL/AFmLXPhyLz%2Bz9PsbuNLDVDNGViN9E0bNP9mZpJYNrp5ckjN83GPQv%2BEP0n/n71X/AMHl3/8AHaP%2BEP0n/n71X/weXf8A8doA%2BatQ/wCCSXwQ1jS/EPhnWPjR8SbnQ9b%2BHvjPwZp2hPqWmrbaDpfieaKbUvsmyxEjzCSFDHNcvcMvIcyDAHa%2BKv2CfAOs%2BPtV%2BLPhL4seN/CXizVPGdz4iPiLw7d2BntmudJsNKubKNLqzmiNrLBpto7K8byLLGHSRCFC%2Bwf8IfpP/P3qv/g8u/8A47R/wh%2Bk/wDP3qv/AIPLv/47QByf7OX7PHh/9mL4V%2BFvgr4D8a%2BIL7w34Q8J2Wg6RY63NbTN5dsGVbmSVIEkkndSquS3lkRqVRWLM3L6B%2Bw98OvDvxzX41Wfj3xXJb2niTUfEmieCprq0OjaRrt/ayWt5qluothc%2BfLFcXYKSTvCrXlwyxK0hNeqf8IfpP8Az96r/wCDy7/%2BO0f8IfpP/P3qv/g8u/8A47QB5D8SP2D/AAJ8VfGln418W/FnxqzzaVomn%2BN9Ptp9PitfGsek3b3dkdSRbPKlZ5Zmf7GbVZVlaKQNEFjVfBP7Bvw/8C/FO2%2BI%2BnfFPxrc2OkeJte8R%2BFfB97dWLaXoGsaw101/e2220W5d3N9fbUuJ5ooxdyBI1GwL67/AMIfpP8Az96r/wCDy7/%2BO0f8IfpP/P3qv/g8u/8A47QB498Hv2KPEXwU8AeMfBHhr9tH4rXdz4x8RvrreItRs/DBvdKvpblri7ktVi0VLci4ZtrpPDMqqAIhEck2bv8AYn0uL4OQfBTwh%2B0J8RfDmn3F1qdz4t1LRrrTP7Q8UzajM817JeXE9jI0LySSSkPZ/ZmiD7YjGqRqnrH/AAh%2Bk/8AP3qv/g8u/wD47R/wh%2Bk/8/eq/wDg8u//AI7QB5f4v/Yx8MeMtU8P6Xe/FvxhaeBPDN/ol7pXwr04aZDoaTaTNBPYEuLL7dsjntbaXyhdCJmhAZCpZWxvA3/BPrwT8OvEY1/wz8cPiAkWlWWuweAtLmutMkt/Bj6tN5t1PYZsd80gbiP7c92kakoq7SVPtP8Awh%2Bk/wDP3qv/AIPLv/47R/wh%2Bk/8/eq/%2BDy7/wDjtAHlXhz9jnUPCmneI9R0L9qr4lReMfFeq2l3r3xEeLQZNUuIrWAwQWYgfSjp8duiMx2paK5Z2cuWJNZusfsC%2BHb34JQ/s8aB%2B0R8SNC8KXVvq8fi%2By0u60ppvFT6rdTXeozXlxcafLNDLcTXN07PZvalTcPs2bY9ns//AAh%2Bk/8AP3qv/g8u/wD47R/wh%2Bk/8/eq/wDg8u//AI7QB5t4o/ZD0jxn8Q9E8TeJfjP40uPC/hzWNP1XQ/hmp0yLRLS8sYkW1kDR2S3ziORFnEb3bR%2BaAShUBRDoP7IM2m%2BOtR%2BKviT9pf4ieIvFUnhLUPDnhnxBq40VJfC9leywTXH2KK202GB5GltLJ993Hckm0iByu9X9P/4Q/Sf%2BfvVf/B5d/wDx2j/hD9J/5%2B9V/wDB5d//AB2gDxe5/wCCfvg260q31N/jn8QB46t/HQ8XL8UhPpZ1ptTGlyaSCYjYHT/JGnSyWwgFoIgrGQL5xMpxfGv/AASP/YU%2BJnwo0v4ZfEz4I6J4lvdMu4Lk%2BN/EPh7Tb7X7p01htYnEl3Nat%2B7ubyW5aaJFSMreXCosYfj6C/4Q/Sf%2BfvVf/B5d/wDx2j/hD9J/5%2B9V/wDB5d//AB2gDyF/2APgzP8AGCX4l6hruvXehya/ca%2BPhndGyfw4msT6Y2lzX3kG289me0klUwNObbfK8ohEp8yr/wABP2Bf2TP2XvjF4o%2BNn7P/AMEfDPhDVPFmi2Gl39r4a8NWGn20EFq8zgQrbQRsplaYGXLMHMEJwCnPp/8Awh%2Bk/wDP3qv/AIPLv/47R/wh%2Bk/8/eq/%2BDy7/wDjtACeOf8AkSdY/wCwXcf%2Bi2ry7xx/ykL%2BF/8A2Rnx5/6dvCFeonwZob4Wdr6ZMgmK41a5kRvZlaQqw9iCK8u8cf8AKQv4X/8AZGfHn/p28IUAezUUUUAFc78V/iv4B%2BCPgK9%2BJnxN1xtP0eweCOaaKzmuZZJZpkgggiggR5Z5pZpY4o4o0aSSSRERWZgD0VeQftr/AA38ffEP4T6RffDLwy2u6x4T8f8Ah3xPD4dS7hgfVotP1O3uJ7aOSd0iWYwpIYvNdIzKsYd0Ul1ANuy/at%2BAl98C7r9pFPHTQ%2BELGSeG%2BvbzSLu3uba5huTaSWkllLEt0l0LlTB9laITGXEYQuQpxrv9uf8AZssvA1j49k8TeIJI9R8QS6HaaFbeAdam11tSige4ltW0eOzOoJIkCNOwa3G2LbIcIysfLPCvwJ8d%2BJ/2dvih4e%2BMn7P3jO2u/Hfje88cafoHhzX9GXUtLuEv4JNOt4Z2vfsy6lEbC1vSWc2glk2edKA2fIG/Yj/aKbSj8TviR8N/ib4wTxP8dLzxl4g8P6d8QtL0jx1Y2/8AwiltoNpIup6deWFnA7NZ75obG6hTyLiOINKscqSgH3r8OviH4K%2BLfgLR/if8OPEUGraBr%2Bmw3%2BkalbZ2XNvKgdHAYAjIIyCAQcggEEV49%2Bx//wAm9av/ANl68c/%2BrA1Wtf8AZZ%2BDHxS8C/sQeCPgX408US%2BEvFGk%2BDbTTbjUPCsNg8uktGgVEiEttJaSSRoFRm8ho3YMyrgisn/gnv4aktP2Y9R8K%2BI/EN7r8lv8WviFBdatqiQJc3zp401oGeQW0cUSyMRuPlRxqGPyqowAAe9UVlf8IfpP/P3qn/g8u/8A47S/8IfpP/P3qv8A4PLv/wCO0AalVNe0LR/FGh3vhnxFpsV5p%2Bo2klrfWdwm6OeGRSjxsO6spII9DVb/AIQ/Sf8An71X/wAHl3/8do/4Q/Sf%2BfvVf/B5d/8Ax2gD5%2B8E/wDBMH4UfDT4R%2BA/hh8PPjV8R9K1D4fa3qeqaX45XU9PudbvJb9JoroXUlzZSQSbopvKV1hSWNIYhG6bSTY8Df8ABMT4B/D/AMNeHvCuieLfGElt4a8NfDzQ7BrvUrZ5HtvBuq3eqaW0jfZxuklnvJVuG4DoqCMQsC7e8/8ACH6T/wA/eq/%2BDy7/APjtH/CH6T/z96r/AODy7/8AjtAHiHw2/wCCd3gX4U/ETS/iB4S%2BOvxEVfC/hvXdC8B6FcXmmyWHhaz1Wa2mmS0Q2O%2BUxPaQeSbp7jYqbDuT5a9I%2BOfwD0T47%2BDdL8Oav4013RNU0DWrXWPD3izQHtV1HTNQgDKtzEJ4Jbdi0ck0TpJC8bxzSKUweOn/AOEP0n/n71X/AMHl3/8AHaP%2BEP0n/n71X/weXf8A8doA4v4bfs22Hwi%2BGEPwr%2BHvxV8VWFqmnautxqJNhNeXWqaldNeXGtSPLaMpvftMtxMAFFsXuZN0DgRhOZuf2FfAGu/BX4g/B3x38T/GXiOb4qtt8f8Ai7VLmxj1TVrfyIrY2h%2BzWkVtBbm1i%2Bz%2BXDBGNksrDEsjyn1r/hD9J/5%2B9V/8Hl3/APHaP%2BEP0n/n71X/AMHl3/8AHaAPK/2i/wBiPwR%2B0Tr0viGb4o%2BMvB82oeDrnwn4jTwddWUaa3oc773sZxdWs5iAJk2zWxhnQTSbZRkYku/2O7d/2nfDn7S%2Bj/tB%2BO9LHhXwzP4e0nwLY2%2Bif2KumTtZvPbt5mmvekSSWFrIWF0HUx4RkRmQ%2Bof8IfpP/P3qv/g8u/8A47R/wh%2Bk/wDP3qv/AIPLv/47QBqVleD/APkEzf8AYUvv/SuWsD4l%2BJPg98GvCdx47%2BLPxIXw5o1r/r9S1rxZPbwg9lDPMMsccKMkngA183Rf8FHviF8dWPg3/gmn%2Byzq/jy1idoj8QvFiyaP4Ztzk5dZJgJrwhs7kQK/OQWzXFisxwmDkoVJe89opNyfpFXfztbufT5FwdxFxFRliMJRtQg7TrTlGnRh5Sq1HGmn2jzcz%2Bymz7Frx/4%2Bft%2Bfsd/sypNB8Yvj/wCH9P1CHg6HaXf2zUWboFFrb75QSeMlQM9SK8gT/gn3%2B1J%2B0Ww1L9vP9tjXLyxl5k%2BH3wn3aJo6A9YpZ8faLyP/AH9rDjmvY/gL%2BwZ%2Bx5%2BzL5Nx8FP2e/DmkXsGPL1iSz%2B1X4/7ergvN/4/iuX6xm2J/hUlTXebu/8AwCOn3zT8j3f7J8Pclf8AwoY6pjKi3hhYclP0%2BsV1zX6Xjhpx6qTVr%2BOJ%2B2r%2B3b%2B0q3lfsWfsUSeH9El/1Pj344XD6Zbup6PHp8BNzKh%2B8rgkEYyBmpB/wT9/a0%2BN3%2Blfthf8FEfGNxay8yeFPhRax%2BHrFB3iedQ01yh/2wp96%2Bu6KP7JVbXFVZVPK/LH/wABjZNf4ub1E/EGplvu5BgaGDS2moKtW9fbV%2BeUZedFUl2SPAfg/wD8Euf2CvgncDU/Cv7NugX%2Bpb/MfWPFEbavdPJ1MnmXjSbGJ7ptr3mzsrPTrSOw0%2B0igghQLFDDGFRFHQADgD2qWiu/D4TC4SPLQpqC8kl%2BR8nnHEGfcQV/bZpiqlefepOU38nJuwUUUV0HkBRRRQAUUVneJ/GHhLwTpja14z8U6dpFmn37vVL6O3iX6tIQB%2BdJtRV2KUoxV27I0aK8P1j/AIKWf8E/9C1d9D1H9sP4ffaE%2B/5HiWCZAfTzI2ZM%2B2cipl/4KP8A7Abwicftl/DXaex8Y2gb8jJmuP8AtLLr29tD/wACX%2BZwf2vlV2vrEP8AwOP%2BZ7VRXhF9/wAFPv8Agnpp6lrj9sTwEwH/ADw16OU/%2BOE1mw/8FaP%2BCcM9wbZP2uvCgYd3mlVf%2B%2BigH61LzXK07OvD/wACj/mQ86yaLs8TT/8AA4/5n0TRXhtp/wAFM/8AgnzeqGh/bG%2BHq5/57eJYI/8A0JhU11/wUk/YAs4vOm/bK%2BG5BHSLxdayH8lcmq/tLLmr%2B2h/4Ev8yv7Xylq/1iH/AIHH/M9sor501j/grb/wTf0NS17%2B1z4WfHX7G81x/wCio2rmLz/gtN%2BxBqlw2m/By/8AG3xK1BeDpvgLwDqF1NnsP30cSkn/AHqxnnOUQ0eIhftzJv7k7mE%2BIMip6PFU79ueLfySd2fWVFfJK/8ABR/9o/Wx9p8Gf8Eq/jPPbycwNri2mmyFe2%2BOR2KH2NL/AMNof8FJte%2BTwb/wSS1JFP8Ay8eIPi9pVmE9yhQs34Gp/trAv4ed%2BlOo/wAokf6w5a/h55elKq/ygz61rxn9l/8A5Lf%2B0d/2Wax/9QrwvXmH/C1f%2BCzniT/kC/so/Bvw1u6f8JF45ubzZ9fsijP4V0X/AATqPx1bW/jy37SyeFF8bH4zQHWl8EG5Olj/AIpHw35Ih%2B1fvf8AU%2BVv3fx78fLiujDY6GKqOMYTWl7yi4r8ba/I6sJmUMZUcI05x0veUJRXp7yTv8j6TooortPRCiiigAooooAKKKKACiiigAooooAKKKKACiiigAooooAKKKKACiiigAr85f8Agt3/AKD%2B1J%2BzD4s6f2Dq2pahu/u7de8Jpn/yJX6NV%2Bcv/Be3/QbnwZ4s6f2B4B1zUN393b4r8Dpn/wAiV5Oe6ZPXfaLf3a/ofoHhT73iRlNP/n5Xpw/8GPk/9uP0aooor1j8/CiiigAooooAKKKKACiiigAooooAKKKKACiiigAooooAKKKKACiiigAooooAKKKKACiiigAooooAKKKKACiiigAooooAK8Z8cf8AKQv4X/8AZGfHn/p28IV7NXjPjj/lIX8L/wDsjPjz/wBO3hCgD2aiiigAooooAKKKKACvGf2D/wDkiGuf9lm%2BI/8A6mut17NXjP7B/wDyRDXP%2ByzfEf8A9TXW6APZqKKKACiiigAooooAKKKKACiivmf9pD/goppPg7x/J%2BzV%2Byf4Dm%2BLHxckBV/D2jzAWGhc4M2p3edluik8x53k4UmPcpPNisZh8FT560rdF1bfZJat%2BS1PbyHh3OOJcb9Wy%2BlztLmk21GEIredScmoU4LrKbUV3PbPjR8dfg/%2Bzt4FuPiV8bviFpvhrRLYhXvtSn2h3OSI41GWlc4OEQMxwcCvmZv25f2uv2uM6X/wT4/Zol07w9cfKvxc%2BLMUlhppQ/8ALWzsh%2B/uwRkq/wB0EYZMUeC/2NvBng/xRa/tc/8ABU74%2BeHfF3jaAl9Kg8QX8Vl4X8LdD5VjbzsqOy8fvpBuJVW2hxvPXePP%2BCwH/BOb4fzHTpP2l9K1q9J2W9h4UsrnVXnfsiG1jdCT0GWA968Wvi6tXXFVlh4fy3iqjXm22o37RTf95PQ%2Bhxud%2BHHAb9nenj8Ut6lWThhYvtTpe5Ur26TquEJPT2Mo%2B8834Z/8Esvh9qHi63%2BMX7anxH1b45%2BOIvnhufF6Kuj6cx5K2mmKfIjTPZg4yMgKa%2BpLKys9Ns4tP060it7eCMRwQQxhEjQDAVVHAAHAAr5IH7e/7Zfxy/c/sg/8E7PFCWMv%2Bq8WfF6/j0C1Ve0i2uWnnQ9QUYHHOKVf2Vf%2BCnPxvIuP2hf2%2BtP8C2MvM3hv4LeGRCVz/d1G7zcLjp90irwuIweHi1gKEp33kla/m51Gub1vI%2BGz7xEzziytGdZ1cQoK0EoqnRprtTi/Z0oQ8qUbeVz601LU9N0ezfUdX1GC1t4xmSe5mVEUe7MQBXmnjX9uH9jX4dBx42/aq%2BHunSR53W0/i%2Bz878IxIXP4CvINM/4IxfsZ6leprPxum8efFTUozuXUviN48vb2Td3O2J4kP4qRXpvgr/gnj%2Bwp8PSknhX9kX4ewyx/6u5ufC1tczL9JJkZx%2BddftM6qbU4Q9ZSk/uUUv8AyZng%2B14iq/DSpwXnOUn80oRX3Sfqec65/wAFpf8Agndp9%2B2jeGfjLf8Aim/X/lx8K%2BEtRvWP0ZYAh/Bqp/8AD2rRdd%2BX4Z/sHftH%2BJg33Lqy%2BGLRWx%2Bskswx%2BVfVOheHPD3hewXS/DOg2WnWq/dtrC1SGMfRUAFXaPq%2BcT%2BLERX%2BGn/8lOX5B9Uz6p8eKhH/AA0v1lOX5fI%2BSH/b0/bi8Vr9m%2BFn/BJ/xxJNLxDL4v8AGGn6REn%2B0%2B/ccDrgcnpQif8ABbLx%2B39qib4BfD%2B2AzDpUy6lqt0faWRcRceqV9b0Uf2bXn/FxNR%2BS5Yr/wAlin%2BIf2Rian8fF1JeS5IL/wAkipf%2BTHyUfA//AAWxm/0WT44/s/wxt1uovDWqNKv0VjtP40D9nH/grlq/%2Bkal/wAFIvCGkP8A8%2B%2Bk/B%2B1uI/%2B%2Bp5A1fWtFH9kUX8VWo/%2B4k1%2BTQf2Fh38Vaq/%2B4tRf%2BkyR8l/8Mt/8FYf%2Bkp%2Bi/8Ahj9N/wDjtI37I/8AwVJ1f/Q9d/4KwwW1q3%2BtbSfgppcczD0DtJ8n1HNfWtFH9j4X%2Bep/4Nq//Jh/YGC61Kv/AIPrf/LD5JP/AAS48b%2BLufjP/wAFI/j9ryN/rrLR/FcekWsvs0UERyPYEVoeGf8AgjH/AME9dG1Ndf8AE3wcvfFupr11Dxj4nv8AUHf/AHkebyz%2BKV9TUU1kmVJ3lRUn/e97/wBKuOPDuSJ3lQjN95%2B%2B/vnzHnGifsefsleG9IXQNB/Zg%2BHtpZL0toPBtiqE%2BpHlcn3PJqNv2L/2O3mNy/7J/wANDIesh8CafuP4%2BTXpdFdf1PCWt7OP3I7/AKhgbJeyjp/dX%2BRwNj%2Byp%2By9pjb9N/Zu8A25HQweD7JD%2BkVaU3wF%2BBlxbi0n%2BDHhN4h0jfw5alR%2BBTFdZRVrDYdbQX3ItYTCxVlTj9yPPbv9kf8AZSv2L3/7Mfw9nJ6mbwXYtn84qgtf2Nf2QbGXz7H9lT4bQvnO%2BLwNp6n8xDXpNFT9Uwjd/Zx%2B5E/UcC3f2Uf/AAFf5HK6P8Cvgj4eYNoHwc8K2JHQ2fh62ix/3ygrprSztLCAW1jaxwxr92OJAqj8BUlFaxpwh8KSN4UqdNWhFL0QUUUVZYV4z%2By//wAlv/aO/wCyzWP/AKhXhevZq8Z/Zf8A%2BS3/ALR3/ZZrH/1CvC9AHs1FFFABRRRQAUUUUAFFFFABRRRQAUUUUAFFFFABRRRQAUUUUAFFFFABRXkX7fXxC8afCj9ij4p/Ej4eazJpms6L4G1G6stXhjDPppWBt14oYFSYF3TDcCuY%2BQRkV5F4O8ZX3wI8NftReDNC%2BM/iy58J/DXw3Bq2heJ9c1i68T6joVzLoDXd1Ek17NJNd%2BWEgvEgkkbm92qVjaNVAPrqvz7/AOC6Oj/254WmstmdnwE8YXGP%2BuXibwNLn/xyu9/4Jgal8a9C%2BJfjr4VfG/Xr839v8P8AwX4gtdGb4oah4ytI1vl1WOS/TUtRCzwzXMlmwexRTbQraxSQyS/aJCvF/wDBUbXPEnj3xh4u8Iat8IPEOiWei/sv/EmWw17VbnTntNaCah4TlL2y213LOgTyhn7RFAfmG0N82PPzeHtMqxEO8Jr/AMlZ9j4eYj6n4gZRX/kxWHl91WDPuXwDrH/CQ%2BBdF1/fu%2B3aTbXG713xK2f1rWrz/wDZN1j/AISH9lj4aa/v3fbvh/o1xu9d9jC2f1r0CuuhP2lCMu6T/A%2BdzXDfU80r0P5Jyj90mgooorU4AooooAKKKKACiiigAooooAKKKKACiiigAooooAKKKKACiiigAooooAKKKKACiiigAooooAKKKKACiiigAooooAK8Z8cf8pC/hf8A9kZ8ef8Ap28IV7NXjPjj/lIX8L/%2ByM%2BPP/Tt4QoA9mooooAK534r/FfwD8EfAV78TPibrjafo9g8Ec00VnNcyySzTJBBBFBAjyzzSzSxxRxRo0kkkiIiszAHoq8g/bX%2BG/j74h/CfSL74ZeGW13WPCfj/wAO%2BJ4fDqXcMD6tFp%2Bp29xPbRyTukSzGFJDF5rpGZVjDuikuoBt2X7VvwEvvgXdftIp46aHwhYyTw317eaRd29zbXMNybSS0kspYlukuhcqYPsrRCYy4jCFyFOfJ%2B2p%2BzrF8M1%2BK8nirV1sH186EmlN4M1Ya22qbTJ9hGkfZf7QNz5QM3k/Z9/kjzseX89eR%2BFfgT478T/s7fFDw98ZP2fvGdtd%2BO/G95440/QPDmv6MupaXcJfwSadbwzte/Zl1KI2Freks5tBLJs86UBs%2BRw/sI/tFm3tfj1420n4q%2BIL7UPj7eeM9f8ABtn4%2B0vTPFsumS%2BEIvDsW6/0%2B6srGG5EtpBO0dpcwRrbSvCsjlGSUA%2B%2B/CXijS/G3hfT/F%2BiRX0dnqdnHc20ep6XcWNyqOoYCW3uUjmgcA8xyIrqchlBBFeVfsH/APJENc/7LN8R/wD1Ndbq/wDs/eAvj5/wyR4d8AfGn4laxpHjw6EIdS8RadPZXmo2L7yY90txBNbXFwkXlxyStE6SSK7gHcDWF/wTp0m/0H9m6%2B0TVfE99rdzZ/Fv4hw3GsanHAlzfOvjPWgZpVt4ooQ7kbiI40TJO1VGAAD3SiiigAooooAKKKKACsb4hfEXwJ8JvBmofEP4l%2BLbDQ9D0qAzahqmp3KxQwoPVm7k4AA5JIABJArzD9tH9u74FfsO%2BBYvEvxR1WW81nU28rwz4Q0kCXUtZnzgLFH2QEgNK2FXIHLMqN8H65%2Byf/wVd/4Km/Eaz%2BJ37R9jpHwo8CWdx5/hrwn4jtzdiwB%2B7P8A2ZkfabkDILXuwfMwEYUhR4eZZy8LP6vhabq1v5VtG/Wb2iu12m/JanfltTh%2BOK/4Va8owiruFKHtK0%2B0YR0hDm/5%2BVp06a1s5yXI9f8Aay/4KheK/wBo6W28EfC3xF4m%2BH/w11qXyNOvPD2mtN43%2BIKklfK0ey4aztnII%2B1y7QcYUlg8B7n9mv8AYz/bN8SeBIfAPw/0rTv2VPhnO4lu9O8OTrqfjbXT/wA9r3UGG23kYcgr88eShTaAK%2Blv2SP%2BCfnwE/ZEE/iXw1Y3fiLxtqSf8T34g%2BKJvtWq3zEAMBI3%2Bpj4AEceBhV3biM17lXFhMjxeIqfWMxqNzfSLtZduZapd1FpP7Tnua59xFm/EeCWWwj9Sy5NNYWjN%2B%2B1tPE17RnXq%2BfuU4XcacIx0PmDwF/wR%2B/Yd8L6yPF3xB8Car8S/EBx52v/ABP16fWZ5u/zxyEQNzz/AKuvffAnwg%2BE3wutxZ/DL4X%2BHfDkQXaItC0SCzXHpiJFGK6Kivew%2BAwOE/g0ox9Er/fuz53C5Xl2B/3ejGPmkk/m936sKKKK6zuCiiigAooooAKKKKACiiigAooooAKKKKACiiigAooooAKKKKACiiigAooooAK8Z/Zf/wCS3/tHf9lmsf8A1CvC9ezV4z%2By/wD8lv8A2jv%2ByzWP/qFeF6APZqKKKACiiigAooooAKKKKACiiigAooooAKKKKACiiigAooooAKKKKAIr2ys9Ss5dO1G0iuLe4iaOeCaMOkiMMMrKeCCCQQeCDXI%2BAP2cv2evhRpFnoHwt%2BBHgzw1Yae101hZaB4XtLOG2NyFFwY0hjVUMoRBJgDeEXdnArs6KAOU%2BE/wI%2BB/wF0q70L4GfBrwp4Lsb%2B5%2B031n4T8O22nRXE20L5kiW6IHfaANxBOABXz1/wUG0f/AISH4lT6Bt3fbf2UPizAB6l5vC6/1r6wr55/aT0f/hIf2tvCugbN3279nj4k2%2B3133/hNcfrWOJh7TDzj3TX4Hp5Lifqec4av/JUhL7pJm5/wTg1j%2B3P2BPg3e7s7Phto8BP/XK0ji/9kr2qvmz/AII/ax/bn/BNb4TXu/ds8Py2%2Bf8ArjdzxY/8cr6TrmyqftMroS7wi/8AyVHtcfYf6nx3mtD%2BTE14/dVkgooorvPkgooooAKKKKACiiigAooooAKKKKACiiigAooooAKKKKACiiigAooooAKKKKACiiigAooooAKKKKACiiigAooooAK8Z8cf8pC/hf8A9kZ8ef8Ap28IV7NXjPjj/lIX8L/%2ByM%2BPP/Tt4QoA9mooooAKKKKACiiigArxn9g//kiGuf8AZZviP/6mut17NXjP7B//ACRDXP8Ass3xH/8AU11ugD2aiiigAooqrrmuaN4Z0W78R%2BI9WtrDT7C2e4vr68mWOG3hRSzyO7EBVVQSSTgAZpNpK7E2krstV8Z/tef8FYNK8KfEaL9kz9h3wpF8UvjFqlw1pDaWL79M0WQZ3vdTKwVzHyWRWVUCsZJI9u0/OP7dn/BSr47ftq%2BI7L9lP9gXTdVttE8WXUlhZa7bBrfUfFaqzJM9tnDWmmR7X8y6baZNjoCoSUD7B/4Jr/8ABNT4X/8ABP34a%2BTarbax471m3T/hKPFHk43dG%2By227mO3Vv%2BBSEb3/hVPlpZpis5xTw2XPlpx%2BOr%2BkOjb/meiWtno33UcnxOKyWOa4io6OGqXVGy/e4iztKdJPSFCLTTryTU5JwownadSlR/Y2/4Js2Hwi8by/tRftU%2BN2%2BKHxu1ZRJf%2BK9TXfa6MSOYNOiYBYkUHYJAqnaMIsKsyH6noor6DCYPD4Gj7OjGy3fVt9W29W31b1PLw%2BGoYWHJSjZbvq2%2B7bu231bbb6sKKKK6jcKKKKACiiigAooooAKKKKACiiigAooooAKKKKACiiigAooooAKKKKACiiigAooooAKKKKACvGf2X/8Akt/7R3/ZZrH/ANQrwvXs1eM/sv8A/Jb/ANo7/ss1j/6hXhegD2aiiigAooooAKKKKACiiigAooooAKKKKACiiigAooooAKKKKACiiigAorz/APar%2BNVz%2Bzn%2Bzf42%2BOOn6Cmq3nhjw5dX2n6ZLMYo7u6VD5ELuASiNKUVnAJVSTg4xXnngD9qT4k/D7RvjNpP7Ucnh/VdV%2BDejw69fax4H0WfT7XU9Ll017xdlrc3Vy8MyPb3cRBndXCRyfJvMaAH0HXi/j2NJv8AgoN8MYZVDK/wX8ehge4OreEKxf2Cf2o/FX7S3h/UdU8e/Efwrf6sNK0vVR4Z0DwHq%2BiS6PbXqTPGTLqc7HVrZzG6Q6hBFBBObeYovVUiv/i58KPHP/BTbwX4C8E/E7w9rGu%2BGPg944i8S6LpWtQXF3pLyat4S8tbmGNy8BbY%2BA4UnacdDQGxyn/BESR7f/gm/wCC/DkzEyaLquu2EmeuV1e7bB/BxX1lXyX/AMEcf9B/Zy8aeE%2Bn9g/GfxRp%2B3%2B7tu9%2BP/IlfWleTkX/ACJsOu0Ir7lb9D9A8VtfErN6n8%2BIqz/8Dm5/%2B3BRRRXrH5%2BFFFFABRRRQAUUUUAFFFFABRRRQAUUUUAFFFFABRRRQAUUUUAFFFFABRRRQAUUUUAFFFFABRRRQAUUUUAFFFFABXjPjj/lIX8L/wDsjPjz/wBO3hCvZq8Z8cf8pC/hf/2Rnx5/6dvCFAHs1FFFABWb4w8ZeEPh54Xv/HHj/wAV6boei6XbNcanrGsX0dta2cKjLSSyyEJGgHVmIArSrxD9v7w34i134J6Nq2ieFNS1%2B08N/Evwrr/iDQ9H06S8urzTbHWrS5uDFbRK0ly8Kx/aRCitJJ9n2oruVUgHpmmfGH4R618Mh8a9H%2BKXhy78GnT3vx4tttct5NMNogJe4%2B1K5i8pQrZfdtG05PFQaL8dfgj4k%2BFc/wAdPDvxj8K3/gi2sri8ufGNl4htpdKit4N3nzNdq5hWOPY%2B9y2F2NkjBr5Y8NfD20%2BJP7J/xb8PeL9C8deEdO8T/Eu/8eeE7b/hWWqXV3Z2sWswXdrK%2Bmi38yZri9s3vJNOwty8N2Q8cbSHHl%2Bpfs%2Bft4fFz4FfFDxLaeGNB8VaF47%2BK2oeLL/w34ts9U8E3GsWVr4b0uxskg0w2eo3NtE2p2Mt19juCss/kQNI%2BLiZCAfoxoutaP4k0e08ReHdWtr/AE%2B/to7mxvrKdZYbmF1DJJG6kq6MpBDAkEEEV5F%2Bwf8A8kQ1z/ss3xH/APU11upP2WdD%2BOFn%2Bwr8PPDN/Y6P4O8dWvw60q1e31SyudUtdNuY7WJNs8JNjNIwVfnj3QlHLLuO3c2b/wAE6bfxLafs3X1r4y1axv8AV4/i38Q11O%2B0zTntLa4nHjPWvMkigeaZoULZIRpZCoIBdsZIB7pRRRQAEhQWY4A6k1%2BV3/BSj9uXUP2ufFK/s7fA61u9b%2BHtv4hXSDZ6POyzfErxAjKV0u2dCCNOgYpJc3CkAjaFZS8Lt6b/AMFNP24ZPHtv4x/Zt%2BDvjafRvBng2y3/AB1%2BI%2BmMN9nE52JoFgx%2BV9QuX/cnnCbmDcLLs7L/AIJZfsHv8M9Ksf2p/jR4KttJ8Wajoq2fgfwfGC0PgfQmy0dpHv5N3KHaS4mb52eR92GeXd8fmeKr51iv7OwjtD7cvJOzS7q91/eleO0Zns8N5Pl2b0audZxHmyvDz5OS7TxuIST%2BrRa1VGF1LFVFtFqlF89RHoX/AAT8/YM0/wDZU8PXPxF%2BJV5aa78UvE9pEviXXbe3VLfT4EVRFpdggAEFnCqoiqoUN5anAVURPpCiivp8JhKGCw8aNFWiv6bb6t7t9SM8zvMeIsynjsbK85WSSSjGMYq0YQitIQhFKMIRSjGKSSsgooorpPJCiiigAooooAKKKKACiiigAooooAKKKKACiiigAooooAKKKKACiiigAooooAKKKKACiiigAooooAK8Z/Zf/wCS3/tHf9lmsf8A1CvC9ezV4z%2By/wD8lv8A2jv%2ByzWP/qFeF6APZqKKKACiiigAooooAKKKKACiiigAooooAKKKKACiiigAooooAKKKKAOd%2BLnws8G/HD4WeIvg38Q7CS60LxTotzpWrQQzNFI1vPE0b7HXDRuAxKupBVgCCCBXBfDP9jrw14DtvEkfiv4seLvHM/jYSp45vPGA0x5NfhNnFZRQTC0soEiihgjIRLdYQzTTPJ5ryFq9fooA8m/Z1/ZF8L/s769qHiyL4n%2BLvGGrXnh7TfD9tqXjC5s3ksNH09rhrSxiFpbW6lEa6nYyyrJPIXHmSvtXbS8cf8pC/hf/ANkZ8ef%2BnbwhXs1eM%2BOP%2BUhfwv8A%2ByM%2BPP8A07eEKAPMf%2BCVH/Esv/2kPCTcfYP2nfE8sS/3YphbOg/Q19aV8l/8E8f%2BJT%2B1V%2B1b4T6eT8V7bUNv/X1Yq%2Bfx219aV5OSaZbGPZzX3Tkv0P0DxQ97jStU/wCflPDz/wDBmHpT/wDbgooor1j8/CiiigAooooAKKKKACiiigAooooAKKKKACiiigAooooAKKKKACiiigAooooAKKKKACiiigAooooAKKKKACiiigArxnxx/wApC/hf/wBkZ8ef%2BnbwhXs1eM%2BOP%2BUhfwv/AOyM%2BPP/AE7eEKAPZqKKKACiiigAooooAK8Z/YP/AOSIa5/2Wb4j/wDqa63Xs1eM/sH/APJENc/7LN8R/wD1NdboA9mr5q/4KL/tK%2BPfAHh/Qf2X/wBm6UTfF74sXL6X4VCN/wAga0x/perS45RIY9xVv73zAMI2Fe%2B/EPx54a%2BFvgHW/iX4yvha6R4f0m41HU7g/wDLOCGNpJG98Kp4r8y5fGXxj1b4dv8AtXTQg/tA/tZ3S%2BGfg7pIkJ/4Q7woxz5yHGUVYCLiSVf4pInwP3mfBz3HPD0PYwbUpJttbqOidv70m1GH9536MWCyjMeK8%2Bw3DuXS5KuIb5pvRUqUdatWT6KMbu/RJy2izrP2Tf2Xvhx8d/jVpPwY%2BG1p9r%2BA/wCzxrPm6pqkqbh8QvHgUefeTtyJo7cnPJK5KqN0bgL%2BkFcJ%2BzL%2Bz54G/ZY%2BBXhv4DfDu1Cab4e05IDOYwr3c5%2Baa5kx/HJIXdvdsDgCu7rpyjL1gMLaSSnKzlbZaWUV/ditF333bPrOK83y7G16OXZRDky/Bx9lh42s%2BRO7qSX/AD8rSvUn2uoJ8sIpFFFFeqfKBRRRQAUUUUAFFFFABRRRQAUUUUAFFFFABRRRQAUUUUAFFFFABRRRQAUUUUAFFFFABRRRQAUUUUAFFFFABXjP7L//ACW/9o7/ALLNY/8AqFeF69mrxn9l/wD5Lf8AtHf9lmsf/UK8L0AezUUUUAFFFFABRRRQAUUUUAFFFFABRRRQAUUUUAFFFFABRRRQAUUUUAFFcd%2B0H8ZtC/Z3%2BB3iz45%2BJNMur6z8KaBc6lJp9jt8%2B8aKMslvFuIXzJGCxruIG5xkgZNc1%2Bz3%2B0N4v%2BJGr%2BNPh/8AGr4caX4M8XeBLq0/tqw0rxO2rafJZ3Vqtxb3UN3Ja2rMp/fROrwoUktpMbk2OwB6tXifj3ULOD/gov8ACnTprhVmuPgt4/aGM9XC6t4P3Y%2Bm4cf4Gj9jj9seL9r29%2BIM%2Bm/DafQdK8JeKbfT/D%2BoXWo%2Ba%2Bv6dcabaX9tqXleWn2ZJorpXSIs7eWUZijM0SfPf/BTX4tah8Bv%2BCln7H3xYEjrpMS%2BMNH8RuP9XFZajP4dszLIeyJLJE/1Va58XiI4Sg6stla/o2k38tzkxuLhgcM609k1fyTaTfyTv8jvP2Pv%2BJR/wU8/a28OnhLiTwTqFuPXfpMokP8A30BX1pXyX8Ff%2BJN/wWK%2BNmm9P7a%2BF/hvUMf3vJZ4M/rivrSuHJtMNOPapV/GpJ/qfpfiR7%2Bd4Wt/Pg8A/wDwHB0IP8YsKKKK9Y/PwooooAKKKKACiiigAooooAKKKKACiiigAooooAKKKKACiiigAooooAKKKKACiiigAooooAKKKKACiiigAooooAK8Z8cf8pC/hf8A9kZ8ef8Ap28IV7NXjPjj/lIX8L/%2ByM%2BPP/Tt4QoA9mooooAKzfGHjLwh8PPC9/448f8AivTdD0XS7ZrjU9Y1i%2BjtrWzhUZaSWWQhI0A6sxAFaVeIft/eG/EWu/BPRtW0TwpqWv2nhv4l%2BFdf8QaHo%2BnSXl1eabY61aXNwYraJWkuXhWP7SIUVpJPs%2B1FdyqkA9M0z4w/CPWvhkPjXo/xS8OXfg06e9%2BPFttrlvJphtEBL3H2pXMXlKFbL7to2nJ4rndW/a//AGS9B%2BG2m/GXXP2ovh1ZeD9YumttI8V3fjawj02%2BnUsGihumlEUrgo4KqxI2Nxwa%2Bc/DXw9tPiT%2Byf8AFvw94v0Lx14R07xP8S7/AMeeE7b/AIVlql1d2drFrMF3ayvpot/Mma4vbN7yTTsLcvDdkPHG0hxyPg74oftI/s%2BfB74lfF3VPhj4p8WeKfjJ8a3k8Cahb/A7W47fQLJtA0uwn1e90S3jur%2BwtBLp11IttKfPuWeEO0ZuXkiAPvqwv7HVbGHVNLvYrm2uYllt7i3kDxyxsAVdWHDKQQQRwQa8e/YP/wCSIa5/2Wb4j/8Aqa63Wn8A/hoPhp%2Bx14K%2BEH7PPiWewj8PeBtN0nwtqvjzwpdmVI7e2jijkvNOd7KdXKploS0DKTjCgba57/gnTb%2BJbT9m6%2BtfGWrWN/q8fxb%2BIa6nfaZpz2ltcTjxnrXmSRQPNM0KFskI0shUEAu2MkA84/4K2eKL3x14O8CfsOeGdYNnqPxo8WR2etXUcgVrLw9ZbbvU7nPYLGiA5wGUuM9ax/8Agnp4Utf2oPjt4h/4KD3%2BifZPCOm2beCvgLpLxFUs9BtWMU18iH7rTyKyg8MqrIhyu2vnj9r34reJvjl8b/jB8V/h/L9ov73UrP4AfBoBiVe/vJN%2Bt3a4%2B6URpIxMv8Mq5IwK/TP4LfCnw18C/hF4a%2BDfg6LZpnhjQ7bTbMlcF0hjVN7f7TEFmPcsTXyOCX9q53UrvWELW8%2BVuMPufPP/ALeg%2BiPqeGZf2JwVjc9WlfM6ksLRfWOEw9vbSXb29aSgpLenGrDVNnT0UUV9cfLBRRRQAUUUUAFFFFABRRRQAUUUUAFFFFABRRRQAUUUUAFFFFABRRRQAUUUUAFFFFABRRRQAUUUUAFFFFABRRRQAV4z%2By//AMlv/aO/7LNY/wDqFeF69mrxn9l//kt/7R3/AGWax/8AUK8L0AezUUUUAFFFFABRRRQAUUUUAFFFFABRRRQAUUUUAFFFFABRRRQAUUUUAcd%2B0J8GdD/aJ%2BBviz4GeJNUurCz8V6Bc6bJqFjt8%2BzaWMqlxHuBXzI2KyLuBG5BkEZFeaeC/wBjTxTqNl8QoP2k/ifovjdvi1p76X8Qo9G8L3ehxXGmLp62VvZ2fl6lLLZqFa6kkkMssjyXbFGgCIo98ooA8S/ZV/Yf8EfsmfEb4k%2BOvBnjvxZqsPxB1bT7uOw8TeMdY1c6bHa6db2Yj83Ub25Mzs0LP5uEcI8cPKQx4%2Bev%2BCk37Fvwt%2BK3xe1HRvhz8KNA0vxd4w/Z98eajdaxo%2BiwW99q%2BpWOr%2BELmzM88aCSZhKmwM5YgStjqQfvKvGfHP8AykK%2BF/8A2Rnx5/6dvCFY4mhDFYedGe0k0/Rqxz4vDU8ZhamHqfDNOL9GrM%2BUPCX7Qcvh74q/s9f8FP7%2B9Wbwp8XvAlp8PPibcEDZpOqeazwXW7%2BFPtkc0TscKqpnqwFforXwL%2BzF%2Bz94R%2BIHgj9p/wD4JRfEFRDpuh%2BMJtQ8Kbo8mx0vVkF7YSRA8MbedN5I43EA4zivb/8AgmX%2B0D4v%2BMXwBl%2BHPxicx/Ej4XarL4T8e28r5eS6tvkiu8nl1niCvvxhnEmOBXzuSV6lKap1f%2BXib9KkPdqx%2BbXMv%2B3ux91Rrz4x8NMHmstcVl6WFxHnT5pKjU/7dmqlCT6JUL6yPouiiivqD40KKKKACiiigAooooAKKKKACiiigAooooAKKKKACiiigAooooAKKKKACiiigAooooAKKKKACiiigAooooAKKKKACvGfHH/KQv4X/wDZGfHn/p28IV7NXjPjj/lIX8L/APsjPjz/ANO3hCgD2aiiigAooooAKKKKACvnH9n74gw/Cb9in4l/FO4dVj8NeP8A4raq5boBb%2BLdel5/74r6Or8%2B/wBqLx7P4B/4I5fGWWwkxea18WPHuiWcYODK158QNVt3Uf8AbJ5D9Aa48wxH1TAVa38sZP7k2cOZ4l4PLa1dbwhJ/NJs8y/4JIfDlvjH8XfhfYXcJuNC%2BBfw5bxDqVxJ832zxV4ld7pZJCeJGSxdOTlkeMDiv1Rr49/4Ib/Cuy8D/sFaN8RJrTZq3xC1a917VWI%2B6pma3t4lJ58tbeCIqvQb2x1r7Cry%2BGcM8Pk9OT3mlL5WSivlBRXqj9B43pQyrMaHD1H%2BHllKGEXnOlf28v8At/EOrNeUlq9wooor6A%2BMCiiigAooooAKKKKACiiigAooooAKKKKACiiigAooooAKKKKACiiigAooooAKKKKACiiigAooooAKKKKACiiigArxn9l//kt/7R3/AGWax/8AUK8L17NXjP7L/wDyW/8AaO/7LNY/%2BoV4XoA9mooooAKKKKACiiigAooooAKKKKACiiigAooooAKKKKACiiigAooooAKKzfGfjHwr8O/B%2BrfEDxzr9rpWiaFps%2Boaxql7KEhs7WGNpJZpGPCoiKzE9gDXI/DD9qD4L/GHwPrvxB8D67qjWPhiWSLxDaat4W1HTdQ090to7rbLYXlvFdIWglilQGL94kiMm4MCQD0CvGfHH/KQv4X/APZGfHn/AKdvCFdZ8Ff2kPhL%2B0A2r23w41TV1vdBlhTWdH8R%2BFdR0TULPzkLwvJZ6jbwTrHIoYpJs2PscKxKMByfjj/lIX8L/wDsjPjz/wBO3hCgDgP20P2aPjX4e%2BKln%2B3n%2Bxfch/iNoOkrYeJfBt1Liz8a6OjmQ2bf887lckxSDuFU9BXlNlq3iX466rP/AMFOf%2BCZ%2BpE%2BNmgh0z4xfBfxCwgOstartNpOpwbbUIVysch%2BV1C44LrJ9918z/tF/wDBPW48T/E%2B6/ag/ZG%2BLd98KvircRr/AGjqVhGJtJ8RBPux6lZn5Jc9PNA3DO4hyFx89mOWVFJ1aCbTfM4p2kpfz029FLpKL92S363eR5xnHBOcTzLK6ca1KqnGvh5pOFWDs5KzaV24ptXi%2BZRqQlCpFSfoP7JP7Yvwj/bE8By%2BKfh7c3Fhq2lz/ZPFPhHWI/J1PQbxSQ8FxCeVwwYB8bW2nHIZR6vX5c/HPxNolp8T7XxX%2B2t4Q8Q/sx/HO1K22j/H34e28t34X8REABFuSuRIjAKGhn%2BZUVQ8ir8le2fDr/gpj8TfgLo9jbft7eBLW98MXRVNH%2BPfwuB1XwxqkZO1ZbhYNz2bnuACGbO1FUZrLB5/Tj%2B7xbs1vKzS/wC34vWm/X3H0l0PusPkfD/HPNX4MquVXeeBqO2KpPqqadvrEL/DyJVrb0rLnf21RWH8Ovib8O/i94StfHnws8b6V4h0a8XNtqej3yXEL%2Bo3ISAw7qeQeCAa3K%2BkjKM4qUXdM%2BJr0K%2BGrSo1ouM4uzTTTTW6aeqa7MKKKKoyCiiigAooooAKKKKACiiigAooooAKKKKACiiigAooooAKKKKACiiigAooooAKKKKACiiigAooooAK8Z8cf8pC/hf/ANkZ8ef%2BnbwhXs1eM%2BOP%2BUhfwv8A%2ByM%2BPP8A07eEKAPZqKKKACiivn7/AIKXHTB%2BzXa/8Jp5f/CFf8LC8L/8LI%2B0f8e//CPf2zafbftWePsfl/8AHzu/d/ZvP8z93voA%2BgaK%2BC/BFp8L/H37AXxa%2BF/w/wDjL4K8LeBI/Hepat4CbVtajtdEPhGHWIpHidkb9zod1PBqFmJowYRazHyg0YRT5N8Opfhhd6Xpmq/tO6B8LdJ/ZhvP2htYk0XTdLvY7nwBBbDwfapbCOe4ggt59POrpq7JK8McD37K0a7jbkgH6m1%2BRn/BUHx7caV/wT20X4baZfCC61n9pj4l6oT/AH4dO8T%2BI5mXH/XSSE/gK%2B%2Bv2Ibv4xWX/BPb4eXlroI1TxOngq2Oj6f4z1a4sGnt8f6Gt5cfZ7ieKT7N5O9mhkk353ru3V%2BUP7b2peJfjRr/AID%2BAXimytNP1%2BDxh4/nnsdH1J7u3ttQ1f4mahZSQxTvDC0y7LeUKzRRsy/MUXOB81xdWlSyCqo7ytFfNq/4XPTyDL6ec8U5XltT4K%2BLw1OXX9260PaNrqlTU2/JH7EfsTeBf%2BFZfsefC7wE8Ply6X4A0mG5XGP3/wBkjMp/Fyx/GvT6jtLW3sbWKytIVjihjVIo1HCqBgAfhUlfQUKSoUI01tFJfcrGeaY%2BpmmZ18bU%2BKrOU36yk5P8wooorU4AooooAKKKKACiiigAooooAKKKKACiiigAooooAKKKKACiiigAooooAKKKKACiiigAooooAKKKKACiiigAooooAK8Z/Zf/AOS3/tHf9lmsf/UK8L17NXjP7L//ACW/9o7/ALLNY/8AqFeF6APZqKKKACiiigAooooAKKKKACiiigAooooAKKKKACiiigAooooAKKKKAPMP21PhD4q%2BPn7JnxD%2BDvgV7Ua34g8KXlro8d9KUt5roxkxRSsASsTuFR2wcKzHBxg8D8CY/jxpfxO%2BKn7Rvi/9l7xPo1x40t7JdD8HT67okt4q6Vp2F%2B0SQ3726TXdxPNDFslkVUt43meHdtX6NooA%2Bdf2BPD/AMbrx/GXxn/ai%2BBviXwf8SfGdzZTa8NY1HR7ixgtYUlW00rTTp1/dM1tZq8m6WcRPPNdTTBFEnlQvv8AwX4k8Pf8FNvBfiLVvi54h12z1b4PeOHsNB1W205LTRQureEspbNbWkU7h9wz9olnPyDaV%2BbP0PXjPjj/AJSF/C//ALIz48/9O3hCgD2aiiigCn4g8O%2BH/Fui3PhvxVoVnqenXsRivLDULVJoJ0PVXRwVYH0IIr5V8b/8Ejvhbouqah4u/Y6%2BLvir4J6vqO5r2x8MXIutBvmYYIudKuCYZUxgeWCiY/hr62orkxWAweNS9tBNrZ7NejVmvkzixeXYLHOLrQvKO0tVKP8AhkrSj8mj8mPHv7AX/BRT9mDxXdfEr4KeAraPUi%2B%2BfxZ8AddGl/bAOj33h68/0W6Of%2BWFt5Scg881f%2BG//BfD43/APXIvh5%2B3B8A728khDedqVtpEug6zFGpA3T2F3iCSQ5zthmVa/Visrxh4G8E/EPRZPDfj/wAH6VrmnS/62w1jT47mF/qkilT%2BVfPvhvEYOTnl2JlT8mlKL%2BWm/Vu8vM%2BuhxjxTKhHD5lUhmFKKtFYyDqVIpaJQxNOVLEpJfDGdWpBW%2BBrR%2BIfs8/8FTv2E/2mFt7PwD8fdJsdVnwBoHiaT%2Bzb0Of4FSfaszf9cmce9fQasrKGUggjII718pfF7/gid/wTf%2BL7zXk/wBh8N3suf9M8IajNp4TP92BGNuP%2B/VefeH/%2BCQH7QP7PJVv2KP8Agpf8QvCdnaqTZ%2BHPFdlFrFhnspiLRwqP9ryGPtXXSxPEWG0xFCNRd6crP/wGdl/5MeFjcfg5vmpYOpT8o1adZPzvOOGcV/dtUdvtN7/d9FfEM/jf/gu38CbW3g174Q/CH40WUIZri78OanJpepSKP74naCENjtHE341zOtf8F0/E/wAF5fI/a4/4J0fFTwGEfZJdQIt1A3OMxyTx2yOP91iPc1pPiHAUF/tKnS/xwkl/4Ek4/icmHqYnEy5aWGrSf92lUml6unGSXldq5%2BglFfFXgb/gv9/wTg8XRrJrPjnxL4bBxv8A7b8JXLhM/wB42gnA/PFes%2BD/APgqV/wTw8cBP7E/bA8EQ7/ujV9XGnn8ftQjx%2BNdFHO8nxH8PEQf/byv917nLPN8rp1nRqV4xmt4ykoyXrF2a%2B498ork/Cvx6%2BBnjrafBHxo8J6zv%2B5/ZXiO1uN308tzmusBBGQcg9CK9GFSFRXi015HdTq06qvCSa8ncKKKKssKKKKACiiigAooooAKKKKACiiigAooooAKKKKACiiigAooooAKKKKACvGfHH/KQv4X/wDZGfHn/p28IV7NXjPjj/lIX8L/APsjPjz/ANO3hCgD2aiiigAooooAKKKKACvw5%2BCulXfxf/4K03HhfU7fzI9O/ay1xdIPXdDpWt69qt0v0El1ESPcV%2B41fkn/AME2fh1JqH/BWjxLPdQF20v4k/GLxlHIy/cjufFNxoajP1tZP%2B%2BjXzfElF4iGGprZ1oX9NU/wZ9bwJh5Pimnjvs4Wji63/b0cHiIUv8AytOmfrZRRRX0h8kFFFFABRRRQAUUUUAFFFFABRRRQAUUUUAFFFFABRRRQAUUUUAFFFFABRRRQAUUUUAFFFFABRRRQAUUUUAFFFFABRRRQAV4z%2By//wAlv/aO/wCyzWP/AKhXhevZq8Z/Zf8A%2BS3/ALR3/ZZrH/1CvC9AHs1FFFABRRRQAUUUUAFFFFABRRRQAUUUUAFFFFABRRRQAUUUUAFFFFABRRRQAV4z44/5SF/C/wD7Iz48/wDTt4Qr2avGfHH/ACkL%2BF//AGRnx5/6dvCFAHs1FFFABRRRQAUUUUAFFFFABTZoYriJoJ4ldHUq6OuQwPUEHqKdRQCbTPFviv8A8E6P2GPjaZZfiN%2Byz4NurifPnX9lpC2N0%2Be5ntfLkJ/4FXgXxB/4IDfsgeIh5nw%2B8deO/Cwj/wCPfThrEWqaevoGt7%2BKXeB6F6%2B5qK8vE5JlGLd6tCLfeyT%2B9Wf4n1uF474wwmHWHWNqTpLanUftaf8A4Lqc8P8AyU/MDxb/AMEEPifpDPJ4P8f/AAf8aw/8sbDxl8NG0PaP7rT6NKjt/vYBrkj/AMEzv2j/AISH9z/wT5hvkj%2B/d/Bj9ovUdL2D%2B9HFqryu3svWv1soryp8IZRe9NOL%2BUv/AEtTM6mf5FjnfM8gy/EPv9Vjh5f%2BBYN4Z38/vufkp/Z%2BtfDb5PGp/wCCinw92ffmsNdXXNJhx6uic/kcitDw7%2B098L/to0fQf%2BC7nxM8LaguM2HxE%2BGfmvF/vtcW6of%2B%2Bq/Vus/xF4T8K%2BL7I6b4t8M6fqlsetvqNkk6H/gLgip/1crUv4VZfNTX406kPyM/q/hJiv4%2BS16D74bHVIJf9u1adZv0516nwV4L8aftM%2BKdi/DL/gvp8JfFTt/q7PUfAWhRTewZYbjzPzGa9J07wN/wWQFot94Z/aq%2BBfiKBv8AVzX3hG7iST8bdiPyr1fxn/wTt/YR8f728T/sifD2SST/AFlxa%2BFra2lb6yQojH86821H/gin/wAE8jdtqfg74Uax4VvX5N54Y8a6nbOD7A3DIPwWj%2By81p7e96V6q/CSn%2BYf6reEmI/hZhmOHfZxjXXzl9apP7oP0IPM/wCC5elH5oP2XNVjH9xvEMErfn8oo/4WR/wWl03/AI/f2bPgdqeOv9neML6Hd9PNXil/4dRL4e/efC3/AIKA/tG%2BHdv%2BrtB8Rvtdov8A2xlhOfxag/sSf8FDPDPPw7/4Kz6/sX7tv4p%2BGOmanvHoZGZWH1AzR7HM4bxrf9u1Kcv/AEvlD/iHvCNf/deKeT/r9SxEf/TdDEL8RP8AhoP/AIK9af8A8ff/AAT08Dahjr9g%2BLMEWfp5qUv/AA1r/wAFU7Li8/4JI2t2O72fx40hf0eLNH/Csf8Ags94X/5AX7UHwV8U7en/AAk3gu8sd/1%2BxscfhR/wnP8AwWt8ND/idfAr4BeJtvX/AIR3xNqdlv8Ap9qBx%2BNHtMVH4p4mP/blKX/pMJB/xCvFVP8AdOJKE/8AuNSp/wDqRh6f4h/w23/wUWtf%2BQn/AMEh9eTHX7J8XNIn/kgzSf8ADfP7bFv/AMhD/gkx8QFx1%2BzeMdNm/lil/wCGs/8AgqT4f48S/wDBKi11ONfv3Xh/40aZ%2BkUse4/nR/w8X/aY0X/kdv8AglX8Ybfb9/8AsKWz1P8ALy3XNH1vl3xVZf4qNv8A3Cg/4g/xzL%2BBmFKr/gxeWzf3Qnf70mJ/w8S/alg/4/f%2BCUvxbX18i%2Bspf5NR/wAPJfj7F/x9f8EsfjiP%2BuVjav8Aykpf%2BHtOhab8vjL9gf8AaZ0PH35b74UM0X1DJOcj8KP%2BH0H7Hdh/yN2ifEnw/j739s/DfUE2/XYjUfX6C3zC3%2BKMF%2BcUH/EGvFh/wqVep/gp0qn/AKbixP8Ah5n8YU/1/wDwS4/aAH/XPw9bt/7Vo/4edfFMfe/4JeftD/h4UgP/ALWqzYf8FuP%2BCY97L9mm/aVFnMPvQ3/hHV4Sv1LWmP1rotL/AOCtf/BODWMfZP2uPCyZ6fanmg/9GRrVxxtCfw5nB/8Ago5q/hF4vYX%2BLgsZH1wcl/7jOU/4ec/FQ/d/4JeftD/j4VgH/tal/wCHmXxkf/U/8EuPj8f9/QLdf/atemab/wAFG/2BdWx9l/bK%2BGiZ6fafGVnD/wCjJFrf079sz9j/AFjH9kftW/DW6z0%2BzeOtPfP/AHzMa6IynP4cen6KmeRW4D4/w38aOIj64e35wPFP%2BHk/x5f/AFP/AASy%2BOZ/39OtV/8AalJ/w8g/aIPKf8ErfjX%2BMNoP/alfRGn/AB8%2BBWrY/sr40%2BErnPT7P4jtXz%2BUlbdh4y8Iapj%2BzPFem3OenkX0b5/I1vHD4ye2Mb/7dp/5HlVeH%2BI6H8XEVI%2BtKC/OB8uf8PI/2g15k/4JX/G0DvttbRv/AGpR/wAPMvjHD/x%2Bf8EuPj%2Bvr5Ph%2B3k/lLX1orKwDKwIPQg0tafUsx/6Cn/4DD/I5P7OzVf8xsv/AACn/wDInyV/w9L8Ywf8f/8AwTG/aaX1%2Bz/DyOX%2BVwKP%2BHsJj4u/%2BCbH7V8Z9vg/uH5i5r61oo%2Bp5n/0E/8AkkQ%2BoZwtsZ/5Tj/wD5K/4e06UOG/4J4/tUg/3T8Hmz/6U1U%2BCn7Wlv8AtR/8FC/Bn2f9nT4reABofwZ8ZZPxO8HHSft/nat4V/49v3r%2Bbs8r5%2Bm3zI%2Bu7j7Arxnxx/ykL%2BF//ZGfHn/p28IVrQw%2BPp1VKpX5o9uVL8bm%2BGwuZ0qylWxPPHquRK%2BndP5ns1FFFegeoFFFfP3/AAUuOmD9mu1/4TTy/wDhCv8AhYXhf/hZH2j/AI9/%2BEe/tm0%2B2/as8fY/L/4%2Bd37v7N5/mfu99AH0DRX536j4o%2BHL/wDBMz40eCPhj4n0%2BHwVN44v3%2BHdvo9xG1nY%2BFJ9bgtzf%2BQmS%2BgR3P293EYEL2EUqRMIyhHjEmk/Cu4%2BHtl4J1L4l/BKy8ARftDa7NYeO9c8GxTfB69X/hErRkjtdHa%2BSGIefNLHGgv2QX9pqEwkeR/swAP13r85/wDgkXbz%2BNP%2BCgH7UPjS5iOzwb4z13w3ZyMOq3Xi7Xb%2BRV%2Bjbc%2B5FfUX7EmofEK3/wCCdHwru/CXhCa68RQfDDR47LSvHXiGe3e4lS0iQG6vBaSSrvA37zbbvmGY1OQPD/8Agh/4S8SW%2BlftJfEvxxotlp%2Bt%2BIP2pvGsF/aadfPdW8RttUmVkineKFpo1llnVXaKMsFDFEJ2jzcdTdXEYZdFNt/KE7fi0facK4yngsmzpv4p4aMI%2BssVhnL74RmvRn3NRRRXpHxYUUUUAFFFFABRRRQAUUUUAFFFFABRRRQAUUUUAFFFFABRRRQAUUUUAFFFFABRRRQAUUUUAFFFFABRRRQAUUUUAFFFFABXjP7L/wDyW/8AaO/7LNY/%2BoV4Xr2avGf2X/8Akt/7R3/ZZrH/ANQrwvQB7NRRRQAUUUUAFFFFABRRRQAUUUUAFFFFABRRRQAUUUUAFFFFABRRRQB49/wUHPjkfsOfFg/Df%2B0/7Y/4QLU/s/8AYm/7ds%2Bzv5v2by/n8/yvM8vZ8%2B/bt%2BbFfNnwi8S/DzTvhj%2B094a/4Jya/wCGoPDupeFpn%2BCth4FurdbC68SxeHc3h0lIT5bhJX00ymAFVuWl34lMtfelFAHxv/wTLP7Ph%2BMfj3/hi06R/wAKn/4Vv4K8z/hHNv2H/hKt%2Bs/2l5mzj%2B0fsf8AZH2vd%2B93eT5n7zfXoN/qXxXu/wDgpt4Ls/G3gvw9p%2BhW/wAHvHA8NajpXiee8u79Dq3hLzGubaSyhS0IwmAk1wG3HJXaN30PXzh%2B0fq/xr0f9vD4Tz/A74f%2BFvEWpN8I/Ha3dp4r8YXOiwRwf2p4SJdJbfT71nfdtGwxqMEnfkBSAfR9FeM/8Jx/wUL/AOjX/gz/AOH41b/5l6P%2BE4/4KF/9Gv8AwZ/8Pxq3/wAy9AHs1FeM/wDCcf8ABQv/AKNf%2BDP/AIfjVv8A5l6P%2BE4/4KF/9Gv/AAZ/8Pxq3/zL0AezUV846T%2B0d%2B3brHxn1/4HW/7KHwkXVPDvhfSNdvLl/jrqnkSQajc6lbwohHhjcXVtLnLAqAA8eCxLBeo/4Tj/AIKF/wDRr/wZ/wDD8at/8y9AHs1FeM/8Jx/wUL/6Nf8Agz/4fjVv/mXo/wCE4/4KF/8ARr/wZ/8AD8at/wDMvQB7NRXjP/Ccf8FC/wDo1/4M/wDh%2BNW/%2BZeuX8A/tHft2/ETxX438IaP%2Byh8JIbjwH4oi0LVZLn466oEnnk0rT9TDxbfDBJTydRhUlgp3o4xgBmAPo6ivGf%2BE4/4KF/9Gv8AwZ/8Pxq3/wAy9H/Ccf8ABQv/AKNf%2BDP/AIfjVv8A5l6APZqK8Z/4Tj/goX/0a/8ABn/w/Grf/MvR/wAJx/wUL/6Nf%2BDP/h%2BNW/8AmXoA9mor5x%2BEX7R37dvxl8KXfi/w5%2Byh8JLa3s/FGt6FJHe/HXVFcz6Xqt1pk7jb4YYbGmtJGQ5yUZSQpyo6j/hOP%2BChf/Rr/wAGf/D8at/8y9AHs1FeM/8ACcf8FC/%2BjX/gz/4fjVv/AJl6P%2BE4/wCChf8A0a/8Gf8Aw/Grf/MvQB7NRXjP/Ccf8FC/%2BjX/AIM/%2BH41b/5l65f4I/tHft2/Hj4MeEPjj4V/ZQ%2BElrpfjPwvp%2Bu6bbah8ddUWeGC7to7iNJAnhhlDhZAGCswyDgkc0AfR1FeM/8ACcf8FC/%2BjX/gz/4fjVv/AJl6P%2BE4/wCChf8A0a/8Gf8Aw/Grf/MvQB7NRXjP/Ccf8FC/%2BjX/AIM/%2BH41b/5l65f43ftHft2/Af4MeL/jj4q/ZQ%2BEl1pfgzwvqGu6lbaf8ddUaeaC0tpLiRIw/hhVLlYyFDMoyRkgc0AfR1FeM/8ACcf8FC/%2BjX/gz/4fjVv/AJl6P%2BE4/wCChf8A0a/8Gf8Aw/Grf/MvQB6/f6XpmqReRqenQXKf3J4VcfkRXO6r8DPglruf7b%2BDvhW8z1%2B1eHraTP8A30hrgv8AhOP%2BChf/AEa/8Gf/AA/Grf8AzL0f8Jx/wUL/AOjX/gz/AOH41b/5l6iVOnP4kmdNDGYvCu9GpKPo2vyNvU/2Lv2Otaz/AGz%2Byd8NLvPX7T4E0%2BTP/fUJrA1H/gm/%2BwHquftP7G3w2XP/AD7eELSH/wBFotc38Xf2jv27fg14UtPF/iP9lD4SXNveeKNE0KOOy%2BOuqM4n1TVbXTIHO7wwo2LNdxs5zkIrEBjhT1H/AAnH/BQv/o1/4M/%2BH41b/wCZeueWAwM/ipRf/bq/yPXo8W8VYb%2BFj60fSrNflI57UP8Agk3/AME5NSz9p/ZG8Jrn/n3gki/9AcVi3/8AwRd/4Jj6jn7R%2Byppq5/54a9qUX/oFyK7v/hOP%2BChf/Rr/wAGf/D8at/8y9H/AAnH/BQv/o1/4M/%2BH41b/wCZesJZNlE/iw9N/wDbkf8AI9Wj4k%2BIuH/hZzi4%2BmIrL8pnmTf8EPf%2BCZ8TF9K%2BAV9YMe9l451lf53Zo/4cr/sQW/8AyCLPx1p/p9i%2BIupLj/vqY16b/wAJx/wUL/6Nf%2BDP/h%2BNW/8AmXrl/H37R37dvw78V%2BCPCGsfsofCSa48eeKJdC0qS2%2BOuqFIJ49K1DUy8u7wwCE8nTplBUMd7oMYJZc/7CyXphoL0jFfkjr/AOIr%2BJz%2BLOsVL/FXqS/9Kkzmf%2BHN/wCzbB/yCvjB8ZLD0%2Bx/E%2B8GPzzR/wAOhvhjD/yDP2v/ANomy9PsvxZmGPziNenf8Jx/wUL/AOjX/gz/AOH41b/5l6P%2BE4/4KF/9Gv8AwZ/8Pxq3/wAy9H9h5R0opemgf8RU8Q38WZVJf4mpfmmeY/8ADpnTov8AkH/8FEv2qbX0EHxgIH62xqn8Ff2Vbz9mT/goX4LW5/aY%2BKfxFXWvgz4y2D4meKhqZ0/ydW8K5%2BzkRp5fmeaN/Xd5UfTbz61/wnH/AAUL/wCjX/gz/wCH41b/AOZeqHgfwP8AtWeMf2rPDnxu%2BN3w4%2BHvhnRvDPw98Q6HDD4V%2BId9rV1d3WpX2iXCMyXGkWKRRomlygsHdi0qALjJG1DKsBhqqqU4Wa836d7Hn5px7xZnWAng8bieenO104U1ezUlqoqS1S2flse60UUV6B8eFFFFABRRRQAV4N/wTs8KaX4Y%2BCvi6fTQ2/Vfjz8Sr67ZsfNK3jPWE7dgqKPwr3mvkr9krxZ%2B2dp/w98UWfwx%2BAfww1fQk%2BNPxF/s/Ude%2BLuo6bdzL/wmesljJbRaBcpEQ24ACZ8gA5BO0JxTab6FxqVIQlFPR7%2BdtT61orxn/hOP%2BChf/Rr/AMGf/D8at/8AMvR/wnH/AAUL/wCjX/gz/wCH41b/AOZemQezUV4z/wAJx/wUL/6Nf%2BDP/h%2BNW/8AmXo/4Tj/AIKF/wDRr/wZ/wDD8at/8y9AHs1FfOPwR/aO/bt%2BPHwY8IfHHwr%2Byh8JLXS/GfhfT9d0221D466os8MF3bR3EaSBPDDKHCyAMFZhkHBI5rqP%2BE4/4KF/9Gv/AAZ/8Pxq3/zL0AezUV4z/wAJx/wUL/6Nf%2BDP/h%2BNW/8AmXo/4Tj/AIKF/wDRr/wZ/wDD8at/8y9AHs1FfOPxu/aO/bt%2BA/wY8X/HHxV%2Byh8JLrS/BnhfUNd1K20/466o080FpbSXEiRh/DCqXKxkKGZRkjJA5rqP%2BE4/4KF/9Gv/AAZ/8Pxq3/zL0AezUV4z/wAJx/wUL/6Nf%2BDP/h%2BNW/8AmXo/4Tj/AIKF/wDRr/wZ/wDD8at/8y9AHs1FeM/8Jx/wUL/6Nf8Agz/4fjVv/mXrl/i7%2B0d%2B3b8GvClp4v8AEf7KHwkube88UaJoUcdl8ddUZxPqmq2umQOd3hhRsWa7jZznIRWIDHCkA%2BjqK8Z/4Tj/AIKF/wDRr/wZ/wDD8at/8y9H/Ccf8FC/%2BjX/AIM/%2BH41b/5l6APZqK8Z/wCE4/4KF/8ARr/wZ/8AD8at/wDMvR/wnH/BQv8A6Nf%2BDP8A4fjVv/mXoA9mor5x8fftHft2/DvxX4I8Iax%2Byh8JJrjx54ol0LSpLb466oUgnj0rUNTLy7vDAITydOmUFQx3ugxgll6j/hOP%2BChf/Rr/AMGf/D8at/8AMvQB7NRXjP8AwnH/AAUL/wCjX/gz/wCH41b/AOZej/hOP%2BChf/Rr/wAGf/D8at/8y9AHs1FeM/8ACcf8FC/%2BjX/gz/4fjVv/AJl65fVv2jv27dH%2BM%2BgfA64/ZQ%2BEjap4i8L6vrtncp8ddU8iODTrnTbeZHJ8Mbg7NqkBUBSCEkyVIUMAfR1FeM/8Jx/wUL/6Nf8Agz/4fjVv/mXo/wCE4/4KF/8ARr/wZ/8AD8at/wDMvQB7NRXjP/Ccf8FC/wDo1/4M/wDh%2BNW/%2BZej/hOP%2BChf/Rr/AMGf/D8at/8AMvQB7NRXzjpP7R37dusfGfX/AIHW/wCyh8JF1Tw74X0jXby5f466p5EkGo3OpW8KIR4Y3F1bS5ywKgAPHgsSwXqP%2BE4/4KF/9Gv/AAZ/8Pxq3/zL0AezUV4z/wAJx/wUL/6Nf%2BDP/h%2BNW/8AmXo/4Tj/AIKF/wDRr/wZ/wDD8at/8y9AHs1FeM/8Jx/wUL/6Nf8Agz/4fjVv/mXrl/AP7R37dvxE8V%2BN/CGj/sofCSG48B%2BKItC1WS5%2BOuqBJ55NK0/Uw8W3wwSU8nUYVJYKd6OMYAZgD6Oorxn/AITj/goX/wBGv/Bn/wAPxq3/AMy9H/Ccf8FC/wDo1/4M/wDh%2BNW/%2BZegD2avGf2X/wDkt/7R3/ZZrH/1CvC9H/Ccf8FC/wDo1/4M/wDh%2BNW/%2BZerf7K3w5%2BNPg/WPih47%2BOmgeF9J1Tx98Qotcs9K8J%2BJbnVre1tYtB0fTFV7i4srNmkaTTpXKiLaFkQbmOcAHrdFFFABRRRQAUUUUAFFFFABRRRQAUUUUAFFFFABRRRQAUUUUAFFFFABRRRQAV8r/tPftafFz4YfGPxZrXgHw74Pk8MfB/w/wCH73xqda0i4m1XVLfV7%2BVLmCwuI7iNLLyLazjuMyRTi5kKRkQ%2BX5p%2BqK8Z%2BM/7EPw4%2BN3xSPxM1zxz4q0uLUbXSLXxf4a0a6tU07xTBpd7Je2MV8stvJMFjmmlz9nlgMschimMsYVAAezUUUUAFFFFAHzH4c/aV%2BJkP7f/AIo%2BD/xG1jw94T8Nr4gtNE8GRaj8ItZS68YwDQINRxB4ja7XTmlju7nUALQQvJ5dpMAoLNIv05Xlfiz9lqDx/wDGTSPin49%2BN/jXV9K8Pa7HrWgeALg6ZFo1jqEdu8Ec4aGyS9l2eZJIqTXUkYkfds%2BRAvqlABRRRQB4v/wUF%2BLvxw/Z%2B/ZH8afHr4BXvhSPWPBOhXeuXUHjDRbm%2Btru0tbaWZ7dEtrq2ZJXZEUSFyqAsSj8CvP/AB5%2B1p8XPBfx48W6n4U8O%2BEIvh54Q%2BMfhH4feMrObSLg63quq67BoqR6hDdpcLDHHB/bmkxmKS3leRIZ8Sx7UFew/tY/s42X7WnwI179n3Wvir4p8I6T4nspbHXL/wAILp32u5spYnimtt1/aXUaI6vyyIsgKja6854uD9gHwdP8RbP4i%2BKvjj4%2B11jrOk654m0bUJdKisfE%2BuaYkaWOrXsdtYRMtxEILTC2zQQMbG2LxMY8kA97ooooAK8X/bJ%2BLvxw%2BCVr4B8Y/Cy98Kf2NqHxM8OeHvF9j4g0W5ubq5tdV1mx00GzlhuoUtpI1uZZN8iTqSiLs5Jr2ivKv2rv2W3/AGqvDeheF5/j7438DW%2BheJLDXUbwXDo7Pd3tjeQXlm0p1LT7wbYri3jcLGEDcrJvU7QAecfs8/tK/EzW/wBqrxb8Efihq/h7wnp0PinW7fwT4Sk%2BEWs6Zc69bQukpv7fWri7%2Bwag7GSaWWK2gL8l2K4Yn6cryXSf2UQ/xk0X4y/Ef9oDx341m8L3d5d%2BE9C8QjSYbDR7q5t5LWS4iWw0%2B2llf7PNPCvnySqizvtAJBHrVABRRRQB4f8At3fFz48fs/fBrV/jr8KPGPgWx0/wtotzeXui%2BLPDN7f3PiG9yi2emWcltewfZ5riUi3RvKumaWeILCx%2BVvP/AII/tffGfXPiX4K/tbwZ4S0j4aeN/if4o%2BG3hXw1p2lzR6vol/oEOrb557kXDW80EjeH9TRYY7eIxq1sfMkywHp/7Sv7IMH7SXjzwR8QJv2gfHfhC58A3dze6LY%2BGItGns5L2VBGt5NBqenXiPPDH5iwyAKYxPKR8zZFXwH%2Bw18PfAfxlt/i7D8RfF2pQadrup69onhDUrmy/snStb1GN49Q1SBIrVJ/PnE92WV5nhRr65McUfmcAHtdFFFABXy/%2B1z8eP2l/gt8RNP8KaVD4A8a6P45h1q20X4cxeD76TWEtbTQ7q7kv7icXrxXVsLqK3tpIRaxA/b4UExkZEk%2BoK8Om/YmuI/2j/Ff7TWiftV/EvTtX8W6bDp1zpcMHh%2Be00%2BzhgaOG2s2udJlubeJZXe62LNtedy7hwdtADP2EP2g/G/x7%2BHt5dfFfx9o194u04Wba/4bsvhdq/hG80B57ZZRBc2Wr3U9w4Lb/LuAEjkVDtDbSa90rzf4Hfs3ad8GfE/iT4h6x8UvFPjjxV4risbfWPE/i5rBbl7SzE32W1SLT7W1to4o2ublxthDM1xIWZsjHpFABRRRQB8c/wDBQT9uP4qfsYeOf7T1zRdA8Y%2BEX0bUdbt/Csvw51Oylt003Rr7Ukk/4SKa6fTJ7v7Xpo2WKwJdCOZZQNsLSN69%2BzR8Xfjnq3xU8b/s9ftHXPhTUPE/hHSdD1qPWvBWkXNhY3NjqgvI0iMFzc3LrLFcaddqX83EiGJtkZJUVvjr%2Bwl4I/ac1q6tfj/8W/GvijwXcyXEi/DK8k02HRYpJrGayZt9vZR30gEdxMwSW6dA77tvyIF6f9nz9mbSPgHea94iu/ih4s8ceI/Ehs49W8VeNbize%2BltrSIxWtqPsdtbwrFEHlYYj3s88ruzs5NAHpVFFFABXxH%2B1P8AtlftZ/Bv41eIPhR4O8N%2BHPGup2Gi3Gu%2BGAnwP8QRyaKBqOmWqGFvtzjxNILHVLjzv7L8p4WhKyiMTCOvtyvD9e/Yt1PxL49PxO1r9rn4oza3p8F5F4NvCmgAeFVupoZJ/skY0nZOzRwLb7r1bpliZwpV3ZyAdV%2Byx8WH%2BMnwjg8WXvxM0bxVfw6jdWWqX2jeDL7w6La4ilZWtZtN1C4nurOeMYV45nD5%2BbaoYCvRq4b4B/AXw98APDOp6NpXinW/EGo6/r1xrfiTxJ4jmga91W/mCI08ot4oYExHFDEqQxRxqkSAKMEnuaACiiigAooooAKKKKACiiigCj4o8Q2HhLw1qPivVQ5tdMsZru5ES5by40LtgdzhTXzn%2BxN%2B0n8a/H/inR/Bnxs8PeDLMeOvhbZfEbwzD4M0q4tBpkd5cE3en3ZmuJRdzRvc2z/bEEAnaWYmCPaC/wBLXdpa39rLY3tuk0M0bRzRSqGV1IwVIPBBHGK8h/Zm/Yr8Bfswaq%2Br6B8QfFviWW28MWPhnw6PFl7azDQNCs3ke3021Nvbwlo1MnzSzma4kEcXmTP5a4APYqKKKACuF/ag8efEX4Wfs0fET4nfB/wouveLfDngXV9U8LaG1jNdDUdRt7OWW2tjDAyyzCSVETy42DtuwpBINd1Wd4t0S/8AEvhjUPD%2Bl%2BK9R0K5vbSSG31rSFga6sXZSBNELiKWIup5AkjdMj5lYZBAPLv2Kfi1P8UPhnfWWrfELw/rOp%2BHdVXTrzTNE%2BGGp%2BDn0NBbQSRWdxpWqXM9zC4RxIrt5aPFLFsTA3v7FXnnwH/Z20n4HXniXxHc/ETxJ4x8SeL9RhvPEXinxW9mLu6MNulvBEI7G2traKKONAFWOFMlnZizMzH0OgAooooA%2BXP2qP2sfih%2Bzh8XvHFl8StG8JeIvhfYfs7%2BL/HttoVvolwmqu2iDS1ntri5kuXt5op1vpwEFshUImXfLCu3/Zn%2BL/x81T4ueMv2df2ln8JXnijwx4Y8PeJY9V8FaTc2NlJZas%2BpW62xhubm5cyw3GkXYMokCyI8TeXGdy1B8Y/2FfDvx0%2BOrfGXx58dvHMumzeCtT8I33w9hg0X%2BxLvRtSW2%2B32khfTWvSJ2tIHZxdB1KEIyIzIek/Z3/Zd0P8AZ9vta8Rz/FDxb438Q6/a2Flf%2BJ/G1zaSXpsLFJFs7MfZLa3j8qIz3DglDI73Mru7s2aAPT6KKKACvkT41/tL/tbeDNd/aA8CW/hXwZ4svfAXh/wp4k%2BG1jpPw/1O/nWPUdV1KEJeWsV48uozwLpsc6m2FuS5IVflVq%2Bu68Ll/Yo8QxfHTxt8f9C/bQ%2BK2lat430ix0y5sbKz8MNaabbWVxcz2aWwl0V5P3RvLpQZnlLrORJ5hVCoB1f7Knxbm%2BMvwpHibUfido3inUbXVbmx1a60fwRf%2BGzZ3ETfNaz6ZqNxPdWk6KV3JMwYhlbaqsK9JrhPgH8A9A%2BAOhazY6f4t1zxHqvibxBLrnifxN4klt2vdVv5IYYPNkFtDDBGFgt7eFUiijRUhQBc5J7ugAooooA%2BNv2lv2u/2lv2ePjNB8NtZT4Z%2BNb7W4IJvCMOneFr20l8F3mpeIdM8PaRNqcr30wuop21ecFols5HFjdLGGXzDF7j%2Byr8X/iR8Rh4/wDh98Yjok/ir4aePG8NazqvhrTprOw1PzNL07Vre4ht5p55LfNrqlujxtNLiSOTDEEY4W2/4Jq%2BEmuviG/iH9pf4nazb/EnXjrmsW%2BpHQvMs9SiuIZ9Puba6i0tLpTYPb24tI3mkiiWFAyPzn1j4B/AXQ/gH4e1bTbLxfrniTVvEWvTa14n8UeJXtjf6vfSRxQ%2BdMLWCCBdkEFvAiRRRoscEaheCSAd1RRRQAy5%2B0/ZpPsezzth8rzc7d2OM45xmviD4rftc/tp/DT4ia58Nre28B%2BM9e8MXvhq31bx14I%2BCuv6tH4ct9Wa8e9sJdKs9Snu7maOGysbomKdP3d1C0sCAxNJ9vXcMlxay28N1JA8kbKs8QUvGSMBl3ArkdRkEeoNfPfwY/YC8QfAT4bXHw0%2BHf7dXxiijutWfU5tZvLLwnPqEt3K8slzPNM%2BhH7TJO8u6SScSPmNNhQDBAPWfgJ8Q7L4rfB3w/8AEKw%2BIGjeKk1PTxI%2Bv%2BH9JmsLS7kBKyFLWeaaW2KurI0MkjvGysrHcpA6%2BuS%2BBfwX8Jfs%2B/C/TvhT4Kub%2B4srCW6uJr7VbkTXV9d3VzLdXV1M4VQ0s1xPNK%2B1VXdIdqquFHW0AFUfE8PiS58N6hb%2BDdTsbLV5LKVdLvNTsHuraC4KERySwxyxNNGrYLIskZYAgOpO4XqzfGOg3/ijwtf%2BHdL8W6loNzeWrxQa1o4gN1YuRxNELiKWIup5AkjdDj5lYZFAHw98N/27P2tfjB8U9b%2BCXws034fJ4z02112%2Bk8Z%2BK/hdrWhrqmmaRa6LKljLol5fJqGnyvd%2BIdiTTzPH5UMlwkLrOgP2N8Avi1pvx8%2BBPgr466NpstnZ%2BNfCWm69aWcz7ngivLWO4WNiAMlRIAT6ivFtX/4JkeB9a1y%2B%2BIt3%2B0p8U0%2BIGrJeWutfEm2vdIh1a/0y6trW2m0wommizhtillaMPItopVkgWVZQ5Zj9B%2BC/B/hr4eeDtJ8AeDNJi0/R9D0yDT9JsIc7La2hjWOKNc84VFVR9KANOiiigDl/jTqPjjRvhbrWt/DnxDY6Xq1hZm6hvtQ8H3viBEjjIeUDTrGeC5vJGiV1SKGQOXZcK5%2BRvi34S/8ABRH4/eJPGmh6n43uPCPgTwZqU86%2BIPHF58DPEU1trF/Dr91pCJcyrfRp4ZnktbS1/cao0ksDyrG%2BdgSvtv4meDNd8e%2BEpvDnhv4pa/4NvJJY3i1/wzFYvdwbWBKqt/bXMDBgCpDxNwTjBwR4rdf8E5vCmoeD7j4bat%2B0h8TbvwxrmoTX/jzQJrjRxF4wu57xrq4mvpV00XEXmllhaOzltYhDEkaoo3bgD6JooooAKKKKACiiigAooooAKKKKACiiigAooooAKKKKACiiigAooooAKKKKACiiigAooooAKKKKACiiigAooooAKKKKACiiigAooooAKKKKACiiigAooooAKKKKACiiigAooooAKKKKACiiigAooooAKKKKACiiigAooooAKKKKACiiigAooooAKKKKACiiigAooooAKKKKACiiigAooooAKKKKACiiigAooooAKKKKACiiigAooooAKKKKACiiigAooooAKKKKACiiigAooooAKKKKACiiigAooooAKKKKACiiigAooooAKKKKACiiigAooooA/9k%3D\">"
      ]
     },
     "metadata": {},
     "output_type": "display_data"
    }
   ],
   "source": [
    "s.run(tf.global_variables_initializer())\n",
    "\n",
    "BATCH_SIZE = 512\n",
    "EPOCHS = 40\n",
    "\n",
    "# for logging the progress right here in Jupyter (for those who don't have TensorBoard)\n",
    "simpleTrainingCurves = matplotlib_utils.SimpleTrainingCurves(\"cross-entropy\", \"accuracy\")\n",
    "\n",
    "for epoch in range(EPOCHS):  # we finish an epoch when we've looked at all training samples\n",
    "    \n",
    "    batch_losses = []\n",
    "    for batch_start in range(0, X_train_flat.shape[0], BATCH_SIZE):  # data is already shuffled\n",
    "        _, batch_loss = s.run([step, loss], {input_X: X_train_flat[batch_start:batch_start+BATCH_SIZE], \n",
    "                                             input_y: y_train_oh[batch_start:batch_start+BATCH_SIZE]})\n",
    "        # collect batch losses, this is almost free as we need a forward pass for backprop anyway\n",
    "        batch_losses.append(batch_loss.mean())\n",
    "\n",
    "    train_loss = np.mean(batch_losses)\n",
    "    val_loss = s.run(loss, {input_X: X_val_flat, input_y: y_val_oh}).mean()\n",
    "    # this part is usually small\n",
    "    train_accuracy = accuracy_score(y_train, s.run(classes, {input_X: X_train_flat}))\n",
    "    # this is slow and usually skipped\n",
    "    valid_accuracy = accuracy_score(y_val, s.run(classes, {input_X: X_val_flat}))  \n",
    "    \n",
    "    print (train_loss, val_loss, train_accuracy, valid_accuracy)\n",
    "    simpleTrainingCurves.add(train_loss, val_loss, train_accuracy, valid_accuracy)"
   ]
  },
  {
   "cell_type": "markdown",
   "metadata": {},
   "source": [
    "# Submit the MLP with 2 hidden layers\n",
    "Run these cells after training the MLP with 2 hidden layers"
   ]
  },
  {
   "cell_type": "code",
   "execution_count": 21,
   "metadata": {},
   "outputs": [
    {
     "data": {
      "text/plain": [
       "0.082252696"
      ]
     },
     "execution_count": 21,
     "metadata": {},
     "output_type": "execute_result"
    }
   ],
   "source": [
    "s.run(loss, {input_X: X_val_flat, input_y: y_val_oh}).mean()"
   ]
  },
  {
   "cell_type": "code",
   "execution_count": 22,
   "metadata": {},
   "outputs": [
    {
     "data": {
      "text/plain": [
       "0.9785"
      ]
     },
     "execution_count": 22,
     "metadata": {},
     "output_type": "execute_result"
    }
   ],
   "source": [
    "accuracy_score(y_val, s.run(classes, {input_X: X_val_flat}))"
   ]
  },
  {
   "cell_type": "code",
   "execution_count": 23,
   "metadata": {},
   "outputs": [],
   "source": [
    "## GRADED PART, DO NOT CHANGE!\n",
    "# Validation loss for MLP\n",
    "grader.set_answer(\"i8bgs\", s.run(loss, {input_X: X_val_flat, input_y: y_val_oh}).mean())\n",
    "# Validation accuracy for MLP\n",
    "grader.set_answer(\"rE763\", accuracy_score(y_val, s.run(classes, {input_X: X_val_flat})))"
   ]
  },
  {
   "cell_type": "code",
   "execution_count": 24,
   "metadata": {},
   "outputs": [
    {
     "name": "stdout",
     "output_type": "stream",
     "text": [
      "Submitted to Coursera platform. See results on assignment page!\n"
     ]
    }
   ],
   "source": [
    "# you can make submission with answers so far to check yourself at this stage\n",
    "grader.submit(COURSERA_EMAIL, COURSERA_TOKEN)"
   ]
  },
  {
   "cell_type": "code",
   "execution_count": null,
   "metadata": {},
   "outputs": [],
   "source": []
  }
 ],
 "metadata": {
  "kernelspec": {
   "display_name": "Python 3",
   "language": "python",
   "name": "python3"
  },
  "language_info": {
   "codemirror_mode": {
    "name": "ipython",
    "version": 3
   },
   "file_extension": ".py",
   "mimetype": "text/x-python",
   "name": "python",
   "nbconvert_exporter": "python",
   "pygments_lexer": "ipython3",
   "version": "3.7.4"
  }
 },
 "nbformat": 4,
 "nbformat_minor": 1
}
